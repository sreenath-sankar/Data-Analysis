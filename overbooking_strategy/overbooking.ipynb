{
 "cells": [
  {
   "cell_type": "markdown",
   "id": "17f0565b",
   "metadata": {},
   "source": [
    "# **Problem Statement**\n",
    "Businesses like airlines have a very low profit margin. Help them increase profit by designing an optimal overboking strategy"
   ]
  },
  {
   "cell_type": "code",
   "execution_count": 1,
   "id": "b2e3b65b",
   "metadata": {},
   "outputs": [],
   "source": [
    "import pandas as pd\n",
    "import numpy as np\n",
    "import matplotlib.pyplot as plt\n",
    "import seaborn as sns\n",
    "from scipy import stats"
   ]
  },
  {
   "cell_type": "code",
   "execution_count": 2,
   "id": "ae6e93ce",
   "metadata": {},
   "outputs": [
    {
     "name": "stdout",
     "output_type": "stream",
     "text": [
      "https://drive.google.com/uc?export=download&id=1PazlhissU63pozkOjJckyjIJuM_u-0JF\n"
     ]
    }
   ],
   "source": [
    "id = \"1PazlhissU63pozkOjJckyjIJuM_u-0JF\"\n",
    "print(\"https://drive.google.com/uc?export=download&id=\" + id)"
   ]
  },
  {
   "cell_type": "code",
   "execution_count": 8,
   "id": "da7c600f",
   "metadata": {},
   "outputs": [
    {
     "name": "stdout",
     "output_type": "stream",
     "text": [
      "--2022-05-06 11:19:19--  https://drive.google.com/uc?export=download&id=1PazlhissU63pozkOjJckyjIJuM_u-0JF\n",
      "Resolving drive.google.com (drive.google.com)... 142.250.196.14, 2404:6800:4007:805::200e\n",
      "Connecting to drive.google.com (drive.google.com)|142.250.196.14|:443... connected.\n",
      "HTTP request sent, awaiting response... 303 See Other\n",
      "Location: https://doc-14-14-docs.googleusercontent.com/docs/securesc/ha0ro937gcuc7l7deffksulhg5h7mbp1/dk7j7j7tnc4j9u0epv5oa2geh9n5bo3k/1651816125000/06496627672658439642/*/1PazlhissU63pozkOjJckyjIJuM_u-0JF?e=download [following]\n",
      "Warning: wildcards not supported in HTTP.\n",
      "--2022-05-06 11:19:20--  https://doc-14-14-docs.googleusercontent.com/docs/securesc/ha0ro937gcuc7l7deffksulhg5h7mbp1/dk7j7j7tnc4j9u0epv5oa2geh9n5bo3k/1651816125000/06496627672658439642/*/1PazlhissU63pozkOjJckyjIJuM_u-0JF?e=download\n",
      "Resolving doc-14-14-docs.googleusercontent.com (doc-14-14-docs.googleusercontent.com)... 142.250.76.33, 2404:6800:4007:814::2001\n",
      "Connecting to doc-14-14-docs.googleusercontent.com (doc-14-14-docs.googleusercontent.com)|142.250.76.33|:443... connected.\n",
      "HTTP request sent, awaiting response... 200 OK\n",
      "Length: 12175 (12K) [text/csv]\n",
      "Saving to: ‘airline.csv’\n",
      "\n",
      "airline.csv         100%[===================>]  11.89K  --.-KB/s    in 0.004s  \n",
      "\n",
      "2022-05-06 11:19:20 (2.75 MB/s) - ‘airline.csv’ saved [12175/12175]\n",
      "\n"
     ]
    }
   ],
   "source": [
    "!wget \"https://drive.google.com/uc?export=download&id=1PazlhissU63pozkOjJckyjIJuM_u-0JF\" -O airline.csv"
   ]
  },
  {
   "cell_type": "code",
   "execution_count": 9,
   "id": "fc5c72d0",
   "metadata": {},
   "outputs": [
    {
     "data": {
      "text/html": [
       "<div>\n",
       "<style scoped>\n",
       "    .dataframe tbody tr th:only-of-type {\n",
       "        vertical-align: middle;\n",
       "    }\n",
       "\n",
       "    .dataframe tbody tr th {\n",
       "        vertical-align: top;\n",
       "    }\n",
       "\n",
       "    .dataframe thead th {\n",
       "        text-align: right;\n",
       "    }\n",
       "</style>\n",
       "<table border=\"1\" class=\"dataframe\">\n",
       "  <thead>\n",
       "    <tr style=\"text-align: right;\">\n",
       "      <th></th>\n",
       "      <th>Passenger_ID</th>\n",
       "      <th>Flight_ID</th>\n",
       "      <th>Arrived</th>\n",
       "    </tr>\n",
       "  </thead>\n",
       "  <tbody>\n",
       "    <tr>\n",
       "      <th>0</th>\n",
       "      <td>1811</td>\n",
       "      <td>A320</td>\n",
       "      <td>1</td>\n",
       "    </tr>\n",
       "    <tr>\n",
       "      <th>1</th>\n",
       "      <td>1812</td>\n",
       "      <td>A320</td>\n",
       "      <td>1</td>\n",
       "    </tr>\n",
       "    <tr>\n",
       "      <th>2</th>\n",
       "      <td>1813</td>\n",
       "      <td>B777</td>\n",
       "      <td>1</td>\n",
       "    </tr>\n",
       "    <tr>\n",
       "      <th>3</th>\n",
       "      <td>1814</td>\n",
       "      <td>B737</td>\n",
       "      <td>1</td>\n",
       "    </tr>\n",
       "    <tr>\n",
       "      <th>4</th>\n",
       "      <td>1815</td>\n",
       "      <td>B737</td>\n",
       "      <td>1</td>\n",
       "    </tr>\n",
       "  </tbody>\n",
       "</table>\n",
       "</div>"
      ],
      "text/plain": [
       "   Passenger_ID Flight_ID  Arrived\n",
       "0          1811     A320         1\n",
       "1          1812     A320         1\n",
       "2          1813      B777        1\n",
       "3          1814      B737        1\n",
       "4          1815      B737        1"
      ]
     },
     "execution_count": 9,
     "metadata": {},
     "output_type": "execute_result"
    }
   ],
   "source": [
    "flights = pd.read_csv('airline.csv')\n",
    "flights.head()"
   ]
  },
  {
   "cell_type": "code",
   "execution_count": 10,
   "id": "0b25726f",
   "metadata": {},
   "outputs": [
    {
     "name": "stdout",
     "output_type": "stream",
     "text": [
      "<class 'pandas.core.frame.DataFrame'>\n",
      "RangeIndex: 1000 entries, 0 to 999\n",
      "Data columns (total 3 columns):\n",
      " #   Column        Non-Null Count  Dtype \n",
      "---  ------        --------------  ----- \n",
      " 0   Passenger_ID  1000 non-null   int64 \n",
      " 1   Flight_ID     1000 non-null   object\n",
      " 2   Arrived       1000 non-null   int64 \n",
      "dtypes: int64(2), object(1)\n",
      "memory usage: 23.6+ KB\n"
     ]
    }
   ],
   "source": [
    "flights.info()"
   ]
  },
  {
   "cell_type": "code",
   "execution_count": 11,
   "id": "a9f09032",
   "metadata": {},
   "outputs": [
    {
     "data": {
      "image/png": "[encoded data removed]",
      "text/plain": [
       "<Figure size 432x288 with 1 Axes>"
      ]
     },
     "metadata": {
      "needs_background": "light"
     },
     "output_type": "display_data"
    }
   ],
   "source": [
    "sns.histplot(flights[\"Passenger_ID\"], kde=True)\n",
    "plt.show()"
   ]
  },
  {
   "cell_type": "code",
   "execution_count": 12,
   "id": "363d463c",
   "metadata": {},
   "outputs": [
    {
     "data": {
      "image/png": "[encoded data removed]",
      "text/plain": [
       "<Figure size 432x288 with 1 Axes>"
      ]
     },
     "metadata": {
      "needs_background": "light"
     },
     "output_type": "display_data"
    }
   ],
   "source": [
    "flights[\"Arrived\"].value_counts().plot.bar()\n",
    "plt.grid()\n",
    "plt.show()"
   ]
  },
  {
   "cell_type": "code",
   "execution_count": 13,
   "id": "5a14499a",
   "metadata": {},
   "outputs": [
    {
     "name": "stdout",
     "output_type": "stream",
     "text": [
      "0.902\n"
     ]
    }
   ],
   "source": [
    "showsup_probability = flights['Arrived'].value_counts(normalize=True)[1]\n",
    "print(showsup_probability)"
   ]
  },
  {
   "cell_type": "code",
   "execution_count": 14,
   "id": "d4490f89",
   "metadata": {},
   "outputs": [
    {
     "data": {
      "text/plain": [
       "1    902\n",
       "0     98\n",
       "Name: Arrived, dtype: int64"
      ]
     },
     "execution_count": 14,
     "metadata": {},
     "output_type": "execute_result"
    }
   ],
   "source": [
    "flights['Arrived'].value_counts()"
   ]
  },
  {
   "cell_type": "code",
   "execution_count": 59,
   "id": "f5c28e65",
   "metadata": {},
   "outputs": [],
   "source": [
    "import math\n",
    "\n",
    "PENALTY = 10000\n",
    "\n",
    "def comb(n, r):\n",
    "    num1 = math.factorial(n)\n",
    "    num2 = math.factorial(r)\n",
    "    num3 = math.factorial(n-r)\n",
    "    return num1/(num2*num3)"
   ]
  },
  {
   "cell_type": "code",
   "execution_count": 60,
   "id": "12a89c62",
   "metadata": {},
   "outputs": [],
   "source": [
    "def calculate_expected_penalty(ticket_sold):\n",
    "    total_penalty = 0\n",
    "    for i in range(1, ticket_sold - 100+1):\n",
    "        ##pmf for k successes, n trials, p=success probab\n",
    "        prob = stats.binom.pmf(k=100+i,n=ticket_sold,p=showsup_probability)\n",
    "        penalty = prob*PENALTY*i\n",
    "        total_penalty += penalty\n",
    "    return total_penalty"
   ]
  },
  {
   "cell_type": "code",
   "execution_count": 61,
   "id": "4979c87b",
   "metadata": {},
   "outputs": [
    {
     "name": "stdout",
     "output_type": "stream",
     "text": [
      "Total seats: 100 , Net Sales : 500000\n",
      "Total seats: 101 , Net Sales : 505000\n",
      "Total seats: 102 , Net Sales : 509996\n",
      "Total seats: 103 , Net Sales : 514979\n",
      "Total seats: 104 , Net Sales : 519913\n",
      "Total seats: 105 , Net Sales : 524725\n",
      "Total seats: 106 , Net Sales : 529288\n",
      "Total seats: 107 , Net Sales : 533425\n",
      "Total seats: 108 , Net Sales : 536929\n",
      "Total seats: 109 , Net Sales : 539603\n",
      "Total seats: 110 , Net Sales : 541302\n",
      "Total seats: 111 , Net Sales : 541959\n",
      "Total seats: 112 , Net Sales : 541595\n",
      "Total seats: 113 , Net Sales : 540305\n",
      "Total seats: 114 , Net Sales : 538233\n",
      "Total seats: 115 , Net Sales : 535544\n",
      "Total seats: 116 , Net Sales : 532393\n",
      "Total seats: 117 , Net Sales : 528919\n",
      "Total seats: 118 , Net Sales : 525227\n",
      "Total seats: 119 , Net Sales : 521398\n",
      "Total seats: 120 , Net Sales : 517484\n",
      "Total seats: 121 , Net Sales : 513521\n",
      "Total seats: 122 , Net Sales : 509531\n",
      "Total seats: 123 , Net Sales : 505526\n",
      "Total seats: 124 , Net Sales : 501514\n",
      "Total seats: 125 , Net Sales : 497497\n",
      "Total seats: 126 , Net Sales : 493479\n",
      "Total seats: 127 , Net Sales : 489459\n",
      "Total seats: 128 , Net Sales : 485440\n",
      "Total seats: 129 , Net Sales : 481420\n",
      "Total seats: 130 , Net Sales : 477400\n",
      "Total seats: 131 , Net Sales : 473380\n",
      "Total seats: 132 , Net Sales : 469360\n",
      "Total seats: 133 , Net Sales : 465340\n",
      "Total seats: 134 , Net Sales : 461320\n",
      "Total seats: 135 , Net Sales : 457300\n",
      "Total seats: 136 , Net Sales : 453280\n",
      "Total seats: 137 , Net Sales : 449260\n",
      "Total seats: 138 , Net Sales : 445240\n",
      "Total seats: 139 , Net Sales : 441220\n",
      "Total seats: 140 , Net Sales : 437200\n",
      "Total seats: 141 , Net Sales : 433180\n",
      "Total seats: 142 , Net Sales : 429160\n",
      "Total seats: 143 , Net Sales : 425140\n",
      "Total seats: 144 , Net Sales : 421120\n",
      "Total seats: 145 , Net Sales : 417100\n",
      "Total seats: 146 , Net Sales : 413080\n",
      "Total seats: 147 , Net Sales : 409060\n",
      "Total seats: 148 , Net Sales : 405040\n",
      "Total seats: 149 , Net Sales : 401020\n"
     ]
    },
    {
     "data": {
      "text/plain": [
       "111"
      ]
     },
     "execution_count": 61,
     "metadata": {},
     "output_type": "execute_result"
    }
   ],
   "source": [
    "x = []\n",
    "y = []\n",
    "for i in range(100, 150):\n",
    "    sales = 5000*i\n",
    "    penalty = calculate_expected_penalty(i)\n",
    "    netsales = sales - penalty\n",
    "    x.append(i)\n",
    "    y.append(netsales)\n",
    "    print(\"Total seats:\",i, \", Net Sales :\",round(netsales))\n",
    "x[y.index(max(y))]"
   ]
  },
  {
   "cell_type": "code",
   "execution_count": 62,
   "id": "61557e42",
   "metadata": {},
   "outputs": [
    {
     "data": {
      "image/png": "[encoded data removed]",
      "text/plain": [
       "<Figure size 432x288 with 1 Axes>"
      ]
     },
     "metadata": {
      "needs_background": "light"
     },
     "output_type": "display_data"
    }
   ],
   "source": [
    "plt.plot(x, y)\n",
    "plt.show()"
   ]
  },
  {
   "cell_type": "code",
   "execution_count": null,
   "id": "c1849b0f",
   "metadata": {},
   "outputs": [],
   "source": []
  },
  {
   "cell_type": "code",
   "execution_count": null,
   "id": "6e7bdff8",
   "metadata": {},
   "outputs": [],
   "source": []
  }
 ],
 "metadata": {
  "kernelspec": {
   "display_name": "Python 3 (ipykernel)",
   "language": "python",
   "name": "python3"
  },
  "language_info": {
   "codemirror_mode": {
    "name": "ipython",
    "version": 3
   },
   "file_extension": ".py",
   "mimetype": "text/x-python",
   "name": "python",
   "nbconvert_exporter": "python",
   "pygments_lexer": "ipython3",
   "version": "3.8.10"
  }
 },
 "nbformat": 4,
 "nbformat_minor": 5
}
