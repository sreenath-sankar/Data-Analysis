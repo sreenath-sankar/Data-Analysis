{
 "cells": [
  {
   "cell_type": "markdown",
   "id": "85a8375a",
   "metadata": {},
   "source": [
    "# **Problem Statement**\n",
    "Analyze the data and generate insights that could help Netflix in deciding which type of shows/movies to produce and how they can grow the business in different countries"
   ]
  },
  {
   "cell_type": "code",
   "execution_count": 1140,
   "id": "daae051b",
   "metadata": {},
   "outputs": [],
   "source": [
    "import numpy as np\n",
    "import pandas as pd\n",
    "import matplotlib.pyplot as plt\n",
    "import seaborn as sns"
   ]
  },
  {
   "cell_type": "code",
   "execution_count": 1141,
   "id": "12f86f49",
   "metadata": {},
   "outputs": [],
   "source": [
    "data = pd.read_csv(\"netflix.csv\")"
   ]
  },
  {
   "cell_type": "code",
   "execution_count": 1142,
   "id": "16f73aff",
   "metadata": {},
   "outputs": [
    {
     "data": {
      "text/plain": [
       "(8807, 12)"
      ]
     },
     "execution_count": 1142,
     "metadata": {},
     "output_type": "execute_result"
    }
   ],
   "source": [
    "data.shape"
   ]
  },
  {
   "cell_type": "code",
   "execution_count": 1143,
   "id": "9acf8ca2",
   "metadata": {},
   "outputs": [
    {
     "data": {
      "text/html": [
       "<div>\n",
       "<style scoped>\n",
       "    .dataframe tbody tr th:only-of-type {\n",
       "        vertical-align: middle;\n",
       "    }\n",
       "\n",
       "    .dataframe tbody tr th {\n",
       "        vertical-align: top;\n",
       "    }\n",
       "\n",
       "    .dataframe thead th {\n",
       "        text-align: right;\n",
       "    }\n",
       "</style>\n",
       "<table border=\"1\" class=\"dataframe\">\n",
       "  <thead>\n",
       "    <tr style=\"text-align: right;\">\n",
       "      <th></th>\n",
       "      <th>show_id</th>\n",
       "      <th>type</th>\n",
       "      <th>title</th>\n",
       "      <th>director</th>\n",
       "      <th>cast</th>\n",
       "      <th>country</th>\n",
       "      <th>date_added</th>\n",
       "      <th>release_year</th>\n",
       "      <th>rating</th>\n",
       "      <th>duration</th>\n",
       "      <th>listed_in</th>\n",
       "      <th>description</th>\n",
       "    </tr>\n",
       "  </thead>\n",
       "  <tbody>\n",
       "    <tr>\n",
       "      <th>0</th>\n",
       "      <td>s1</td>\n",
       "      <td>Movie</td>\n",
       "      <td>Dick Johnson Is Dead</td>\n",
       "      <td>Kirsten Johnson</td>\n",
       "      <td>NaN</td>\n",
       "      <td>United States</td>\n",
       "      <td>September 25, 2021</td>\n",
       "      <td>2020</td>\n",
       "      <td>PG-13</td>\n",
       "      <td>90 min</td>\n",
       "      <td>Documentaries</td>\n",
       "      <td>As her father nears the end of his life, filmm...</td>\n",
       "    </tr>\n",
       "    <tr>\n",
       "      <th>1</th>\n",
       "      <td>s2</td>\n",
       "      <td>TV Show</td>\n",
       "      <td>Blood &amp; Water</td>\n",
       "      <td>NaN</td>\n",
       "      <td>Ama Qamata, Khosi Ngema, Gail Mabalane, Thaban...</td>\n",
       "      <td>South Africa</td>\n",
       "      <td>September 24, 2021</td>\n",
       "      <td>2021</td>\n",
       "      <td>TV-MA</td>\n",
       "      <td>2 Seasons</td>\n",
       "      <td>International TV Shows, TV Dramas, TV Mysteries</td>\n",
       "      <td>After crossing paths at a party, a Cape Town t...</td>\n",
       "    </tr>\n",
       "    <tr>\n",
       "      <th>2</th>\n",
       "      <td>s3</td>\n",
       "      <td>TV Show</td>\n",
       "      <td>Ganglands</td>\n",
       "      <td>Julien Leclercq</td>\n",
       "      <td>Sami Bouajila, Tracy Gotoas, Samuel Jouy, Nabi...</td>\n",
       "      <td>NaN</td>\n",
       "      <td>September 24, 2021</td>\n",
       "      <td>2021</td>\n",
       "      <td>TV-MA</td>\n",
       "      <td>1 Season</td>\n",
       "      <td>Crime TV Shows, International TV Shows, TV Act...</td>\n",
       "      <td>To protect his family from a powerful drug lor...</td>\n",
       "    </tr>\n",
       "    <tr>\n",
       "      <th>3</th>\n",
       "      <td>s4</td>\n",
       "      <td>TV Show</td>\n",
       "      <td>Jailbirds New Orleans</td>\n",
       "      <td>NaN</td>\n",
       "      <td>NaN</td>\n",
       "      <td>NaN</td>\n",
       "      <td>September 24, 2021</td>\n",
       "      <td>2021</td>\n",
       "      <td>TV-MA</td>\n",
       "      <td>1 Season</td>\n",
       "      <td>Docuseries, Reality TV</td>\n",
       "      <td>Feuds, flirtations and toilet talk go down amo...</td>\n",
       "    </tr>\n",
       "    <tr>\n",
       "      <th>4</th>\n",
       "      <td>s5</td>\n",
       "      <td>TV Show</td>\n",
       "      <td>Kota Factory</td>\n",
       "      <td>NaN</td>\n",
       "      <td>Mayur More, Jitendra Kumar, Ranjan Raj, Alam K...</td>\n",
       "      <td>India</td>\n",
       "      <td>September 24, 2021</td>\n",
       "      <td>2021</td>\n",
       "      <td>TV-MA</td>\n",
       "      <td>2 Seasons</td>\n",
       "      <td>International TV Shows, Romantic TV Shows, TV ...</td>\n",
       "      <td>In a city of coaching centers known to train I...</td>\n",
       "    </tr>\n",
       "  </tbody>\n",
       "</table>\n",
       "</div>"
      ],
      "text/plain": [
       "  show_id     type                  title         director  \\\n",
       "0      s1    Movie   Dick Johnson Is Dead  Kirsten Johnson   \n",
       "1      s2  TV Show          Blood & Water              NaN   \n",
       "2      s3  TV Show              Ganglands  Julien Leclercq   \n",
       "3      s4  TV Show  Jailbirds New Orleans              NaN   \n",
       "4      s5  TV Show           Kota Factory              NaN   \n",
       "\n",
       "                                                cast        country  \\\n",
       "0                                                NaN  United States   \n",
       "1  Ama Qamata, Khosi Ngema, Gail Mabalane, Thaban...   South Africa   \n",
       "2  Sami Bouajila, Tracy Gotoas, Samuel Jouy, Nabi...            NaN   \n",
       "3                                                NaN            NaN   \n",
       "4  Mayur More, Jitendra Kumar, Ranjan Raj, Alam K...          India   \n",
       "\n",
       "           date_added  release_year rating   duration  \\\n",
       "0  September 25, 2021          2020  PG-13     90 min   \n",
       "1  September 24, 2021          2021  TV-MA  2 Seasons   \n",
       "2  September 24, 2021          2021  TV-MA   1 Season   \n",
       "3  September 24, 2021          2021  TV-MA   1 Season   \n",
       "4  September 24, 2021          2021  TV-MA  2 Seasons   \n",
       "\n",
       "                                           listed_in  \\\n",
       "0                                      Documentaries   \n",
       "1    International TV Shows, TV Dramas, TV Mysteries   \n",
       "2  Crime TV Shows, International TV Shows, TV Act...   \n",
       "3                             Docuseries, Reality TV   \n",
       "4  International TV Shows, Romantic TV Shows, TV ...   \n",
       "\n",
       "                                         description  \n",
       "0  As her father nears the end of his life, filmm...  \n",
       "1  After crossing paths at a party, a Cape Town t...  \n",
       "2  To protect his family from a powerful drug lor...  \n",
       "3  Feuds, flirtations and toilet talk go down amo...  \n",
       "4  In a city of coaching centers known to train I...  "
      ]
     },
     "execution_count": 1143,
     "metadata": {},
     "output_type": "execute_result"
    }
   ],
   "source": [
    "data.head()"
   ]
  },
  {
   "cell_type": "code",
   "execution_count": 1144,
   "id": "bb25c457",
   "metadata": {},
   "outputs": [
    {
     "name": "stdout",
     "output_type": "stream",
     "text": [
      "<class 'pandas.core.frame.DataFrame'>\n",
      "RangeIndex: 8807 entries, 0 to 8806\n",
      "Data columns (total 12 columns):\n",
      " #   Column        Non-Null Count  Dtype \n",
      "---  ------        --------------  ----- \n",
      " 0   show_id       8807 non-null   object\n",
      " 1   type          8807 non-null   object\n",
      " 2   title         8807 non-null   object\n",
      " 3   director      6173 non-null   object\n",
      " 4   cast          7982 non-null   object\n",
      " 5   country       7976 non-null   object\n",
      " 6   date_added    8797 non-null   object\n",
      " 7   release_year  8807 non-null   int64 \n",
      " 8   rating        8803 non-null   object\n",
      " 9   duration      8804 non-null   object\n",
      " 10  listed_in     8807 non-null   object\n",
      " 11  description   8807 non-null   object\n",
      "dtypes: int64(1), object(11)\n",
      "memory usage: 825.8+ KB\n"
     ]
    }
   ],
   "source": [
    "data.info()"
   ]
  },
  {
   "cell_type": "code",
   "execution_count": 1145,
   "id": "8575d420",
   "metadata": {},
   "outputs": [],
   "source": [
    "df = data.drop('description', axis=1)"
   ]
  },
  {
   "cell_type": "code",
   "execution_count": 1146,
   "id": "d471fc37",
   "metadata": {},
   "outputs": [
    {
     "data": {
      "text/plain": [
       "show_id         8807\n",
       "type               2\n",
       "title           8807\n",
       "director        4528\n",
       "cast            7692\n",
       "country          748\n",
       "date_added      1767\n",
       "release_year      74\n",
       "rating            17\n",
       "duration         220\n",
       "listed_in        514\n",
       "dtype: int64"
      ]
     },
     "execution_count": 1146,
     "metadata": {},
     "output_type": "execute_result"
    }
   ],
   "source": [
    "df.nunique()"
   ]
  },
  {
   "cell_type": "markdown",
   "id": "aee1489f",
   "metadata": {},
   "source": [
    "## Analysis"
   ]
  },
  {
   "cell_type": "markdown",
   "id": "e6d82186",
   "metadata": {},
   "source": [
    "### Movie vs TV Show"
   ]
  },
  {
   "cell_type": "code",
   "execution_count": 1147,
   "id": "aeb75f46",
   "metadata": {},
   "outputs": [
    {
     "data": {
      "image/png": "[encoded data removed]",
      "text/plain": [
       "<Figure size 432x288 with 1 Axes>"
      ]
     },
     "metadata": {},
     "output_type": "display_data"
    }
   ],
   "source": [
    "plt.pie(df['type'].value_counts(), labels=df['type'].unique(), autopct='%0.0f%%')\n",
    "plt.show()"
   ]
  },
  {
   "cell_type": "markdown",
   "id": "30b7cd8b",
   "metadata": {},
   "source": [
    "70% of the total content are movies. TV shows takes only 30% of the total share"
   ]
  },
  {
   "cell_type": "code",
   "execution_count": 1148,
   "id": "207d87a2",
   "metadata": {},
   "outputs": [
    {
     "data": {
      "text/html": [
       "<div>\n",
       "<style scoped>\n",
       "    .dataframe tbody tr th:only-of-type {\n",
       "        vertical-align: middle;\n",
       "    }\n",
       "\n",
       "    .dataframe tbody tr th {\n",
       "        vertical-align: top;\n",
       "    }\n",
       "\n",
       "    .dataframe thead th {\n",
       "        text-align: right;\n",
       "    }\n",
       "</style>\n",
       "<table border=\"1\" class=\"dataframe\">\n",
       "  <thead>\n",
       "    <tr style=\"text-align: right;\">\n",
       "      <th></th>\n",
       "      <th>release_year</th>\n",
       "      <th>type</th>\n",
       "      <th>count</th>\n",
       "    </tr>\n",
       "  </thead>\n",
       "  <tbody>\n",
       "    <tr>\n",
       "      <th>16</th>\n",
       "      <td>2018</td>\n",
       "      <td>Movie</td>\n",
       "      <td>767</td>\n",
       "    </tr>\n",
       "    <tr>\n",
       "      <th>17</th>\n",
       "      <td>2018</td>\n",
       "      <td>TV Show</td>\n",
       "      <td>380</td>\n",
       "    </tr>\n",
       "    <tr>\n",
       "      <th>18</th>\n",
       "      <td>2019</td>\n",
       "      <td>Movie</td>\n",
       "      <td>633</td>\n",
       "    </tr>\n",
       "    <tr>\n",
       "      <th>19</th>\n",
       "      <td>2019</td>\n",
       "      <td>TV Show</td>\n",
       "      <td>397</td>\n",
       "    </tr>\n",
       "    <tr>\n",
       "      <th>20</th>\n",
       "      <td>2020</td>\n",
       "      <td>Movie</td>\n",
       "      <td>517</td>\n",
       "    </tr>\n",
       "    <tr>\n",
       "      <th>21</th>\n",
       "      <td>2020</td>\n",
       "      <td>TV Show</td>\n",
       "      <td>436</td>\n",
       "    </tr>\n",
       "    <tr>\n",
       "      <th>22</th>\n",
       "      <td>2021</td>\n",
       "      <td>Movie</td>\n",
       "      <td>277</td>\n",
       "    </tr>\n",
       "    <tr>\n",
       "      <th>23</th>\n",
       "      <td>2021</td>\n",
       "      <td>TV Show</td>\n",
       "      <td>315</td>\n",
       "    </tr>\n",
       "  </tbody>\n",
       "</table>\n",
       "</div>"
      ],
      "text/plain": [
       "    release_year     type  count\n",
       "16          2018    Movie    767\n",
       "17          2018  TV Show    380\n",
       "18          2019    Movie    633\n",
       "19          2019  TV Show    397\n",
       "20          2020    Movie    517\n",
       "21          2020  TV Show    436\n",
       "22          2021    Movie    277\n",
       "23          2021  TV Show    315"
      ]
     },
     "execution_count": 1148,
     "metadata": {},
     "output_type": "execute_result"
    }
   ],
   "source": [
    "df_new = df[df['release_year'] >= 2010]\n",
    "df_new = df_new.groupby(['release_year', 'type']).show_id.count().to_frame().reset_index()\n",
    "df_new.rename(columns={'show_id':'count'}, inplace=True)\n",
    "df_new.tail(8)"
   ]
  },
  {
   "cell_type": "code",
   "execution_count": 1149,
   "id": "fb02796a",
   "metadata": {},
   "outputs": [
    {
     "data": {
      "image/png": "[encoded data removed]",
      "text/plain": [
       "<Figure size 432x288 with 1 Axes>"
      ]
     },
     "metadata": {
      "needs_background": "light"
     },
     "output_type": "display_data"
    }
   ],
   "source": [
    "sns.lineplot(data=df_new, x='release_year', y='count', hue='type')\n",
    "plt.autoscale()\n",
    "plt.savefig('img')\n",
    "plt.show()"
   ]
  },
  {
   "cell_type": "markdown",
   "id": "6a32d011",
   "metadata": {},
   "source": [
    "Both the number of movies and TV Shows were showing a raising trend until 2018 and the number of movies released hit an all time high of 767 movies per year in the year 2017 and 2018 followed by a drop to 277 in the year 2021 whereas the number of TV shows continued to increase and peaked at 436 in 2020 eventually surpassing the number of movies/year in 2021."
   ]
  },
  {
   "cell_type": "markdown",
   "id": "c9ebc97a",
   "metadata": {},
   "source": [
    "### 10 most popular directors"
   ]
  },
  {
   "cell_type": "code",
   "execution_count": 1150,
   "id": "b52ae4a1",
   "metadata": {
    "scrolled": true
   },
   "outputs": [],
   "source": [
    "df_dir = df[~df['director'].isna()]\n",
    "directors = df_dir['director'].apply(lambda x: str(x).split(', ')).to_list()\n",
    "df_dir = pd.DataFrame(directors, index=df_dir['title'])\n",
    "df_dir = df_dir.stack()\n",
    "df_dir = pd.DataFrame(df_dir)\n",
    "df_dir.rename(columns={0:\"director\"}, inplace=True)"
   ]
  },
  {
   "cell_type": "code",
   "execution_count": 1151,
   "id": "455875af",
   "metadata": {
    "scrolled": false
   },
   "outputs": [
    {
     "data": {
      "image/png": "[encoded data removed]",
      "text/plain": [
       "<Figure size 432x288 with 1 Axes>"
      ]
     },
     "metadata": {
      "needs_background": "light"
     },
     "output_type": "display_data"
    }
   ],
   "source": [
    "sns.countplot(data=df_dir, y='director', order=df_dir['director'].value_counts().iloc[0:10].index)\n",
    "plt.xticks(np.arange(0,25,2))\n",
    "plt.show()"
   ]
  },
  {
   "cell_type": "markdown",
   "id": "037eb75b",
   "metadata": {},
   "source": [
    "### 10 most popular movie actors"
   ]
  },
  {
   "cell_type": "code",
   "execution_count": 1152,
   "id": "b5291b2e",
   "metadata": {},
   "outputs": [],
   "source": [
    "df_act = df[~df['cast'].isna()]\n",
    "df_act = df_act[df_act['type'] == 'Movie']\n",
    "actors = df_act['cast'].apply(lambda x: str(x).split(', ')).to_list()\n",
    "df_act = pd.DataFrame(actors, index=df_act['title'])\n",
    "df_act = df_act.stack()\n",
    "df_act = pd.DataFrame(df_act)\n",
    "\n",
    "df_act.rename(columns={0:\"actors\"}, inplace=True)"
   ]
  },
  {
   "cell_type": "code",
   "execution_count": 1153,
   "id": "fc6e27d2",
   "metadata": {},
   "outputs": [
    {
     "data": {
      "image/png": "[encoded data removed]",
      "text/plain": [
       "<Figure size 432x288 with 1 Axes>"
      ]
     },
     "metadata": {
      "needs_background": "light"
     },
     "output_type": "display_data"
    }
   ],
   "source": [
    "sns.countplot(data=df_act, y='actors', order=df_act['actors'].value_counts().sort_values(ascending=False).iloc[0:10].index)\n",
    "plt.xticks(np.arange(0,50,5))\n",
    "\n",
    "plt.show()"
   ]
  },
  {
   "cell_type": "markdown",
   "id": "29a73b6a",
   "metadata": {},
   "source": [
    "### 10 most popular TV Show actors/Performers"
   ]
  },
  {
   "cell_type": "code",
   "execution_count": 1154,
   "id": "d33d6b1d",
   "metadata": {},
   "outputs": [],
   "source": [
    "df_per = df[~df['cast'].isna()]\n",
    "df_per = df_per[df_per['type'] == 'TV Show']\n",
    "actors = df_per['cast'].apply(lambda x: str(x).split(', ')).to_list()\n",
    "df_per = pd.DataFrame(actors, index=df_per['title'])\n",
    "df_per = df_per.stack()\n",
    "df_per = pd.DataFrame(df_per)\n",
    "df_per.rename(columns={0:\"actors\"}, inplace=True)"
   ]
  },
  {
   "cell_type": "code",
   "execution_count": 1155,
   "id": "cd98df3e",
   "metadata": {},
   "outputs": [
    {
     "data": {
      "image/png": "[encoded data removed]",
      "text/plain": [
       "<Figure size 432x288 with 1 Axes>"
      ]
     },
     "metadata": {
      "needs_background": "light"
     },
     "output_type": "display_data"
    }
   ],
   "source": [
    "sns.countplot(data=df_per, y='actors', order=df_per['actors'].value_counts().iloc[0:10].index)\n",
    "plt.xticks(np.arange(0,30,5))\n",
    "plt.show()"
   ]
  },
  {
   "cell_type": "markdown",
   "id": "e707b4bc",
   "metadata": {},
   "source": [
    "### Country"
   ]
  },
  {
   "cell_type": "code",
   "execution_count": 1156,
   "id": "8286a13e",
   "metadata": {},
   "outputs": [],
   "source": [
    "df_ctry = df[~df['country'].isna()]\n",
    "country = df_ctry['country'].apply(lambda x: str(x).split(', ')).to_list()\n",
    "df_ctry = pd.DataFrame(country, index=df_ctry['title'])\n",
    "df_ctry = df_ctry.stack()\n",
    "df_ctry = pd.DataFrame(df_ctry)\n",
    "df_ctry.rename(columns={0:\"country\"}, inplace=True)"
   ]
  },
  {
   "cell_type": "code",
   "execution_count": 1157,
   "id": "b50ec79d",
   "metadata": {},
   "outputs": [
    {
     "data": {
      "text/html": [
       "<div>\n",
       "<style scoped>\n",
       "    .dataframe tbody tr th:only-of-type {\n",
       "        vertical-align: middle;\n",
       "    }\n",
       "\n",
       "    .dataframe tbody tr th {\n",
       "        vertical-align: top;\n",
       "    }\n",
       "\n",
       "    .dataframe thead th {\n",
       "        text-align: right;\n",
       "    }\n",
       "</style>\n",
       "<table border=\"1\" class=\"dataframe\">\n",
       "  <thead>\n",
       "    <tr style=\"text-align: right;\">\n",
       "      <th></th>\n",
       "      <th>country</th>\n",
       "      <th>percentage</th>\n",
       "    </tr>\n",
       "  </thead>\n",
       "  <tbody>\n",
       "    <tr>\n",
       "      <th>0</th>\n",
       "      <td>United States</td>\n",
       "      <td>42</td>\n",
       "    </tr>\n",
       "    <tr>\n",
       "      <th>1</th>\n",
       "      <td>India</td>\n",
       "      <td>12</td>\n",
       "    </tr>\n",
       "    <tr>\n",
       "      <th>2</th>\n",
       "      <td>United Kingdom</td>\n",
       "      <td>9</td>\n",
       "    </tr>\n",
       "    <tr>\n",
       "      <th>3</th>\n",
       "      <td>Canada</td>\n",
       "      <td>5</td>\n",
       "    </tr>\n",
       "    <tr>\n",
       "      <th>4</th>\n",
       "      <td>France</td>\n",
       "      <td>4</td>\n",
       "    </tr>\n",
       "  </tbody>\n",
       "</table>\n",
       "</div>"
      ],
      "text/plain": [
       "          country  percentage\n",
       "0   United States          42\n",
       "1           India          12\n",
       "2  United Kingdom           9\n",
       "3          Canada           5\n",
       "4          France           4"
      ]
     },
     "execution_count": 1157,
     "metadata": {},
     "output_type": "execute_result"
    }
   ],
   "source": [
    "df_cntry_percent = df_ctry['country'].value_counts()/88.07\n",
    "df_cntry_percent = df_cntry_percent.to_frame().reset_index().rename(columns={'index':'country', 'country':'percentage'})\n",
    "df_cntry_percent['percentage'] = df_cntry_percent['percentage'].round(0).astype('int')\n",
    "df_cntry_percent.head()"
   ]
  },
  {
   "cell_type": "code",
   "execution_count": 1158,
   "id": "c76ec114",
   "metadata": {
    "scrolled": true
   },
   "outputs": [
    {
     "data": {
      "image/png": "[encoded data removed]",
      "text/plain": [
       "<Figure size 432x288 with 1 Axes>"
      ]
     },
     "metadata": {
      "needs_background": "light"
     },
     "output_type": "display_data"
    }
   ],
   "source": [
    "sns.barplot(data=df_cntry_percent.iloc[0:5], y='country', x='percentage')\n",
    "plt.savefig(\"country_wise\", bbox_inches = \"tight\")\n",
    "plt.show()"
   ]
  },
  {
   "cell_type": "markdown",
   "id": "c3d555d8",
   "metadata": {},
   "source": [
    "Almost half(42%) of the total content are available in US whereas India at second position has only 12 percent of the total content indicates that the majority of the content in netflix is targeted to the audience in US market"
   ]
  },
  {
   "cell_type": "markdown",
   "id": "cec9ae0d",
   "metadata": {},
   "source": [
    "### Date added - TV shows"
   ]
  },
  {
   "cell_type": "code",
   "execution_count": 1159,
   "id": "d31325b8",
   "metadata": {},
   "outputs": [],
   "source": [
    "df_dtadded = df[~df['date_added'].isna()]\n",
    "df_dtadded = df_dtadded[df_dtadded['type'] == 'TV Show']\n",
    "dt_added = df_dtadded['date_added'].to_list()\n",
    "df_dtadded = pd.DataFrame(dt_added, index=df_dtadded['title'])\n",
    "df_dtadded.rename(columns={0:\"date_added\"}, inplace=True)\n",
    "df_dtadded['date_added'] = df_dtadded['date_added'].astype('datetime64')"
   ]
  },
  {
   "cell_type": "code",
   "execution_count": 1160,
   "id": "265cb261",
   "metadata": {},
   "outputs": [],
   "source": [
    "df_dtadded['year'] = df_dtadded['date_added'].dt.year\n",
    "df_dtadded['month'] = df_dtadded['date_added'].dt.month_name()\n",
    "df_dtadded['day'] = df_dtadded['date_added'].dt.day\n",
    "df_dtadded['week'] = df_dtadded['date_added'].dt.weekday\n",
    "df_dtadded['week'].replace([0, 1, 2, 3, 4, 5, 6], ['Monday', 'Tuesday', 'Wednedsay', 'Thursday', 'Friday', 'Saturday', 'Sunday'], inplace=True)"
   ]
  },
  {
   "cell_type": "code",
   "execution_count": 1161,
   "id": "1e5e80da",
   "metadata": {},
   "outputs": [
    {
     "data": {
      "image/png": "[encoded data removed]",
      "text/plain": [
       "<Figure size 432x288 with 1 Axes>"
      ]
     },
     "metadata": {
      "needs_background": "light"
     },
     "output_type": "display_data"
    }
   ],
   "source": [
    "sns.lineplot(data=df_dtadded['year'].value_counts().to_frame())\n",
    "plt.show()"
   ]
  },
  {
   "cell_type": "markdown",
   "id": "05171a28",
   "metadata": {},
   "source": [
    "A steep increase can be observed in terms of the TV shows added to the platform post the year 2015 followed by a small decrease in 2020"
   ]
  },
  {
   "cell_type": "code",
   "execution_count": 1162,
   "id": "f77da3a5",
   "metadata": {},
   "outputs": [
    {
     "data": {
      "image/png": "[encoded data removed]",
      "text/plain": [
       "<Figure size 432x288 with 1 Axes>"
      ]
     },
     "metadata": {},
     "output_type": "display_data"
    }
   ],
   "source": [
    "plt.pie(df_dtadded['week'].value_counts(), labels=df_dtadded['week'].unique(), autopct='%0.0f%%')\n",
    "plt.title(\"TV Shows - Day Added\")\n",
    "plt.savefig(\"show_Added\")\n",
    "plt.show()"
   ]
  },
  {
   "cell_type": "markdown",
   "id": "c7644bea",
   "metadata": {},
   "source": [
    "35% of the TV shows are added to netflix on Fridays"
   ]
  },
  {
   "cell_type": "markdown",
   "id": "84d00548",
   "metadata": {},
   "source": [
    "### Release Year"
   ]
  },
  {
   "cell_type": "markdown",
   "id": "264b186f",
   "metadata": {},
   "source": [
    "#### Movie"
   ]
  },
  {
   "cell_type": "code",
   "execution_count": 1163,
   "id": "953b6b85",
   "metadata": {},
   "outputs": [
    {
     "data": {
      "text/html": [
       "<div>\n",
       "<style scoped>\n",
       "    .dataframe tbody tr th:only-of-type {\n",
       "        vertical-align: middle;\n",
       "    }\n",
       "\n",
       "    .dataframe tbody tr th {\n",
       "        vertical-align: top;\n",
       "    }\n",
       "\n",
       "    .dataframe thead th {\n",
       "        text-align: right;\n",
       "    }\n",
       "</style>\n",
       "<table border=\"1\" class=\"dataframe\">\n",
       "  <thead>\n",
       "    <tr style=\"text-align: right;\">\n",
       "      <th></th>\n",
       "      <th>release_year</th>\n",
       "    </tr>\n",
       "  </thead>\n",
       "  <tbody>\n",
       "    <tr>\n",
       "      <th>count</th>\n",
       "      <td>6131.000000</td>\n",
       "    </tr>\n",
       "    <tr>\n",
       "      <th>mean</th>\n",
       "      <td>2013.121514</td>\n",
       "    </tr>\n",
       "    <tr>\n",
       "      <th>std</th>\n",
       "      <td>9.678169</td>\n",
       "    </tr>\n",
       "    <tr>\n",
       "      <th>min</th>\n",
       "      <td>1942.000000</td>\n",
       "    </tr>\n",
       "    <tr>\n",
       "      <th>25%</th>\n",
       "      <td>2012.000000</td>\n",
       "    </tr>\n",
       "    <tr>\n",
       "      <th>50%</th>\n",
       "      <td>2016.000000</td>\n",
       "    </tr>\n",
       "    <tr>\n",
       "      <th>75%</th>\n",
       "      <td>2018.000000</td>\n",
       "    </tr>\n",
       "    <tr>\n",
       "      <th>max</th>\n",
       "      <td>2021.000000</td>\n",
       "    </tr>\n",
       "  </tbody>\n",
       "</table>\n",
       "</div>"
      ],
      "text/plain": [
       "       release_year\n",
       "count   6131.000000\n",
       "mean    2013.121514\n",
       "std        9.678169\n",
       "min     1942.000000\n",
       "25%     2012.000000\n",
       "50%     2016.000000\n",
       "75%     2018.000000\n",
       "max     2021.000000"
      ]
     },
     "execution_count": 1163,
     "metadata": {},
     "output_type": "execute_result"
    }
   ],
   "source": [
    "df_rymovie = df[df['type']=='Movie']\n",
    "df_rymovie.describe()"
   ]
  },
  {
   "cell_type": "code",
   "execution_count": 1164,
   "id": "9e89c3df",
   "metadata": {},
   "outputs": [
    {
     "data": {
      "image/png": "[encoded data removed]",
      "text/plain": [
       "<Figure size 432x288 with 1 Axes>"
      ]
     },
     "metadata": {
      "needs_background": "light"
     },
     "output_type": "display_data"
    }
   ],
   "source": [
    "sns.boxplot(data=df_rymovie, y='release_year')\n",
    "plt.show()"
   ]
  },
  {
   "cell_type": "markdown",
   "id": "70b1b26d",
   "metadata": {},
   "source": [
    "75% of the movies in netflix has a release year >= 2012"
   ]
  },
  {
   "cell_type": "markdown",
   "id": "4a46c2c3",
   "metadata": {},
   "source": [
    "#### TV Show"
   ]
  },
  {
   "cell_type": "code",
   "execution_count": 1165,
   "id": "64abbfa2",
   "metadata": {},
   "outputs": [
    {
     "data": {
      "text/html": [
       "<div>\n",
       "<style scoped>\n",
       "    .dataframe tbody tr th:only-of-type {\n",
       "        vertical-align: middle;\n",
       "    }\n",
       "\n",
       "    .dataframe tbody tr th {\n",
       "        vertical-align: top;\n",
       "    }\n",
       "\n",
       "    .dataframe thead th {\n",
       "        text-align: right;\n",
       "    }\n",
       "</style>\n",
       "<table border=\"1\" class=\"dataframe\">\n",
       "  <thead>\n",
       "    <tr style=\"text-align: right;\">\n",
       "      <th></th>\n",
       "      <th>release_year</th>\n",
       "    </tr>\n",
       "  </thead>\n",
       "  <tbody>\n",
       "    <tr>\n",
       "      <th>count</th>\n",
       "      <td>2676.000000</td>\n",
       "    </tr>\n",
       "    <tr>\n",
       "      <th>mean</th>\n",
       "      <td>2016.605755</td>\n",
       "    </tr>\n",
       "    <tr>\n",
       "      <th>std</th>\n",
       "      <td>5.740138</td>\n",
       "    </tr>\n",
       "    <tr>\n",
       "      <th>min</th>\n",
       "      <td>1925.000000</td>\n",
       "    </tr>\n",
       "    <tr>\n",
       "      <th>25%</th>\n",
       "      <td>2016.000000</td>\n",
       "    </tr>\n",
       "    <tr>\n",
       "      <th>50%</th>\n",
       "      <td>2018.000000</td>\n",
       "    </tr>\n",
       "    <tr>\n",
       "      <th>75%</th>\n",
       "      <td>2020.000000</td>\n",
       "    </tr>\n",
       "    <tr>\n",
       "      <th>max</th>\n",
       "      <td>2021.000000</td>\n",
       "    </tr>\n",
       "  </tbody>\n",
       "</table>\n",
       "</div>"
      ],
      "text/plain": [
       "       release_year\n",
       "count   2676.000000\n",
       "mean    2016.605755\n",
       "std        5.740138\n",
       "min     1925.000000\n",
       "25%     2016.000000\n",
       "50%     2018.000000\n",
       "75%     2020.000000\n",
       "max     2021.000000"
      ]
     },
     "execution_count": 1165,
     "metadata": {},
     "output_type": "execute_result"
    }
   ],
   "source": [
    "df_ryshow = df[df['type']=='TV Show']\n",
    "df_ryshow.describe()"
   ]
  },
  {
   "cell_type": "code",
   "execution_count": 1166,
   "id": "4e6661f1",
   "metadata": {},
   "outputs": [
    {
     "data": {
      "image/png": "[encoded data removed]",
      "text/plain": [
       "<Figure size 432x288 with 1 Axes>"
      ]
     },
     "metadata": {
      "needs_background": "light"
     },
     "output_type": "display_data"
    }
   ],
   "source": [
    "sns.boxplot(data=df_ryshow, y='release_year')\n",
    "plt.show()"
   ]
  },
  {
   "cell_type": "markdown",
   "id": "e3fb8c48",
   "metadata": {},
   "source": [
    "#### 75% of the TV Shows in netflix has a release year >= 2016"
   ]
  },
  {
   "cell_type": "markdown",
   "id": "af709758",
   "metadata": {},
   "source": [
    "### Rating"
   ]
  },
  {
   "cell_type": "code",
   "execution_count": 1167,
   "id": "e41d88a2",
   "metadata": {},
   "outputs": [],
   "source": [
    "ratings = df.groupby(['rating']).size().reset_index(name='count')\n",
    "ratings.drop([0, 1, 2], inplace=True)\n",
    "ratings.sort_values(by='count', ascending=False, inplace=True)\n",
    "ratings.reset_index(inplace=True)\n",
    "ratings.drop('index', axis=1, inplace=True)"
   ]
  },
  {
   "cell_type": "code",
   "execution_count": 1168,
   "id": "131a040c",
   "metadata": {},
   "outputs": [
    {
     "data": {
      "image/png": "[encoded data removed]",
      "text/plain": [
       "<Figure size 432x288 with 1 Axes>"
      ]
     },
     "metadata": {},
     "output_type": "display_data"
    }
   ],
   "source": [
    "plt.pie(ratings['count'])\n",
    "labels = ratings['rating']\n",
    "sizes = ratings['count']/88.07\n",
    "labels = [f'{l}, {s:0.0f}%' for l, s in zip(labels, sizes)]\n",
    "plt.legend(bbox_to_anchor=(0.85, 1), loc='upper left', labels=labels)\n",
    "plt.savefig(\"rating\")\n",
    "plt.show()"
   ]
  },
  {
   "cell_type": "markdown",
   "id": "c59c70cd",
   "metadata": {},
   "source": [
    "60% of the content are rated either TV-MA or TV-14"
   ]
  },
  {
   "cell_type": "markdown",
   "id": "8308c128",
   "metadata": {},
   "source": [
    "### Duration"
   ]
  },
  {
   "cell_type": "markdown",
   "id": "066153f9",
   "metadata": {},
   "source": [
    "#### Movie"
   ]
  },
  {
   "cell_type": "code",
   "execution_count": 1169,
   "id": "9b9262ee",
   "metadata": {},
   "outputs": [],
   "source": [
    "df_dur = df[~df['duration'].isna()]\n",
    "movie_dur = df_dur[df_dur['type'] == 'Movie']['duration'].to_frame()"
   ]
  },
  {
   "cell_type": "code",
   "execution_count": 1170,
   "id": "7f297247",
   "metadata": {},
   "outputs": [],
   "source": [
    "movie_dur['duration'] = movie_dur['duration'].apply(lambda x: str(x).split(' ')[0])\n",
    "movie_dur['duration'] = movie_dur['duration'].astype('int')"
   ]
  },
  {
   "cell_type": "code",
   "execution_count": 1171,
   "id": "752b2e99",
   "metadata": {},
   "outputs": [
    {
     "data": {
      "text/html": [
       "<div>\n",
       "<style scoped>\n",
       "    .dataframe tbody tr th:only-of-type {\n",
       "        vertical-align: middle;\n",
       "    }\n",
       "\n",
       "    .dataframe tbody tr th {\n",
       "        vertical-align: top;\n",
       "    }\n",
       "\n",
       "    .dataframe thead th {\n",
       "        text-align: right;\n",
       "    }\n",
       "</style>\n",
       "<table border=\"1\" class=\"dataframe\">\n",
       "  <thead>\n",
       "    <tr style=\"text-align: right;\">\n",
       "      <th></th>\n",
       "      <th>duration</th>\n",
       "    </tr>\n",
       "  </thead>\n",
       "  <tbody>\n",
       "    <tr>\n",
       "      <th>count</th>\n",
       "      <td>6128.000000</td>\n",
       "    </tr>\n",
       "    <tr>\n",
       "      <th>mean</th>\n",
       "      <td>99.577187</td>\n",
       "    </tr>\n",
       "    <tr>\n",
       "      <th>std</th>\n",
       "      <td>28.290593</td>\n",
       "    </tr>\n",
       "    <tr>\n",
       "      <th>min</th>\n",
       "      <td>3.000000</td>\n",
       "    </tr>\n",
       "    <tr>\n",
       "      <th>25%</th>\n",
       "      <td>87.000000</td>\n",
       "    </tr>\n",
       "    <tr>\n",
       "      <th>50%</th>\n",
       "      <td>98.000000</td>\n",
       "    </tr>\n",
       "    <tr>\n",
       "      <th>75%</th>\n",
       "      <td>114.000000</td>\n",
       "    </tr>\n",
       "    <tr>\n",
       "      <th>max</th>\n",
       "      <td>312.000000</td>\n",
       "    </tr>\n",
       "  </tbody>\n",
       "</table>\n",
       "</div>"
      ],
      "text/plain": [
       "          duration\n",
       "count  6128.000000\n",
       "mean     99.577187\n",
       "std      28.290593\n",
       "min       3.000000\n",
       "25%      87.000000\n",
       "50%      98.000000\n",
       "75%     114.000000\n",
       "max     312.000000"
      ]
     },
     "execution_count": 1171,
     "metadata": {},
     "output_type": "execute_result"
    }
   ],
   "source": [
    "movie_dur.describe()"
   ]
  },
  {
   "cell_type": "code",
   "execution_count": 1172,
   "id": "27e6d618",
   "metadata": {},
   "outputs": [
    {
     "data": {
      "image/png": "[encoded data removed]",
      "text/plain": [
       "<Figure size 432x288 with 1 Axes>"
      ]
     },
     "metadata": {
      "needs_background": "light"
     },
     "output_type": "display_data"
    }
   ],
   "source": [
    "sns.boxplot(data=movie_dur, y='duration')\n",
    "plt.savefig('movie_duration')\n",
    "plt.show()"
   ]
  },
  {
   "cell_type": "markdown",
   "id": "ba5f64fe",
   "metadata": {},
   "source": [
    "50% of the movies have a duration between 87-114 minutes. Median duration is found to be 98min for a movie"
   ]
  },
  {
   "cell_type": "markdown",
   "id": "626b8e40",
   "metadata": {},
   "source": [
    "#### TV Show"
   ]
  },
  {
   "cell_type": "code",
   "execution_count": 1173,
   "id": "8e8c645c",
   "metadata": {},
   "outputs": [],
   "source": [
    "show_dur = df_dur[df_dur['type'] == 'TV Show']['duration'].to_frame()\n",
    "show_dur['duration'] = show_dur['duration'].apply(lambda x: str(x).split(' ')[0])\n",
    "show_dur = show_dur.value_counts().to_frame().reset_index().rename(columns={'duration':'seasons', 0: 'count'})\n",
    "show_dur.loc[15] = ['>5', show_dur.iloc[5:15]['count'].sum()] \n",
    "show_dur.drop(np.arange(5,15), inplace=True)"
   ]
  },
  {
   "cell_type": "code",
   "execution_count": 1174,
   "id": "8473751e",
   "metadata": {},
   "outputs": [
    {
     "data": {
      "image/png": "[encoded data removed]",
      "text/plain": [
       "<Figure size 432x288 with 1 Axes>"
      ]
     },
     "metadata": {},
     "output_type": "display_data"
    }
   ],
   "source": [
    "plt.pie(show_dur['count'], labels=show_dur['seasons'], autopct='%0.0f%%')\n",
    "plt.show()"
   ]
  },
  {
   "cell_type": "markdown",
   "id": "07e45ef7",
   "metadata": {},
   "source": [
    "67% of the TV Shows have only 1 season and 90% of the shows have a total number of season <= 3"
   ]
  },
  {
   "cell_type": "markdown",
   "id": "fe31a221",
   "metadata": {},
   "source": [
    "### Genre"
   ]
  },
  {
   "cell_type": "code",
   "execution_count": 1175,
   "id": "161d0c63",
   "metadata": {},
   "outputs": [],
   "source": [
    "df_genre = df[~df['listed_in'].isna()]\n",
    "genre = df_genre['listed_in'].apply(lambda x: str(x).split(', ')).to_list()\n",
    "df_genre = pd.DataFrame(genre, index=df_genre['title'])\n",
    "df_genre = df_genre.stack()\n",
    "df_genre = pd.DataFrame(df_genre)\n",
    "df_genre.rename(columns={0:\"genre\"}, inplace=True)"
   ]
  },
  {
   "cell_type": "code",
   "execution_count": 1176,
   "id": "dca63ebb",
   "metadata": {},
   "outputs": [
    {
     "data": {
      "text/html": [
       "<div>\n",
       "<style scoped>\n",
       "    .dataframe tbody tr th:only-of-type {\n",
       "        vertical-align: middle;\n",
       "    }\n",
       "\n",
       "    .dataframe tbody tr th {\n",
       "        vertical-align: top;\n",
       "    }\n",
       "\n",
       "    .dataframe thead th {\n",
       "        text-align: right;\n",
       "    }\n",
       "</style>\n",
       "<table border=\"1\" class=\"dataframe\">\n",
       "  <thead>\n",
       "    <tr style=\"text-align: right;\">\n",
       "      <th></th>\n",
       "      <th>genre</th>\n",
       "      <th>count</th>\n",
       "      <th>percent</th>\n",
       "    </tr>\n",
       "  </thead>\n",
       "  <tbody>\n",
       "    <tr>\n",
       "      <th>0</th>\n",
       "      <td>International Movies</td>\n",
       "      <td>2752</td>\n",
       "      <td>31</td>\n",
       "    </tr>\n",
       "    <tr>\n",
       "      <th>1</th>\n",
       "      <td>Dramas</td>\n",
       "      <td>2427</td>\n",
       "      <td>28</td>\n",
       "    </tr>\n",
       "    <tr>\n",
       "      <th>2</th>\n",
       "      <td>Comedies</td>\n",
       "      <td>1674</td>\n",
       "      <td>19</td>\n",
       "    </tr>\n",
       "    <tr>\n",
       "      <th>3</th>\n",
       "      <td>International TV Shows</td>\n",
       "      <td>1351</td>\n",
       "      <td>15</td>\n",
       "    </tr>\n",
       "    <tr>\n",
       "      <th>4</th>\n",
       "      <td>Documentaries</td>\n",
       "      <td>869</td>\n",
       "      <td>10</td>\n",
       "    </tr>\n",
       "  </tbody>\n",
       "</table>\n",
       "</div>"
      ],
      "text/plain": [
       "                    genre  count  percent\n",
       "0    International Movies   2752       31\n",
       "1                  Dramas   2427       28\n",
       "2                Comedies   1674       19\n",
       "3  International TV Shows   1351       15\n",
       "4           Documentaries    869       10"
      ]
     },
     "execution_count": 1176,
     "metadata": {},
     "output_type": "execute_result"
    }
   ],
   "source": [
    "df_genre_pcent = df_genre['genre'].value_counts().to_frame().reset_index().rename(columns={'index':'genre', 'genre':'count'})\n",
    "df_genre_pcent['percent'] = (df_genre_pcent['count']/88.07).round(0).astype('int')\n",
    "df_genre_pcent.head()"
   ]
  },
  {
   "cell_type": "code",
   "execution_count": 1177,
   "id": "40f37d8d",
   "metadata": {},
   "outputs": [
    {
     "data": {
      "image/png": "[encoded data removed]",
      "text/plain": [
       "<Figure size 432x288 with 1 Axes>"
      ]
     },
     "metadata": {
      "needs_background": "light"
     },
     "output_type": "display_data"
    }
   ],
   "source": [
    "sns.barplot(data=df_genre_pcent.iloc[0:10], y='genre', x='percent')\n",
    "plt.show()"
   ]
  },
  {
   "cell_type": "markdown",
   "id": "f19c45e0",
   "metadata": {},
   "source": [
    "Highest classified genre categories are 'International Movies', 'Dramas' and 'Comedies'"
   ]
  },
  {
   "cell_type": "markdown",
   "id": "dc6b6de5",
   "metadata": {},
   "source": [
    "#### Movies"
   ]
  },
  {
   "cell_type": "code",
   "execution_count": 1178,
   "id": "d1bdc346",
   "metadata": {},
   "outputs": [],
   "source": [
    "df_genre_movies = df[~df['listed_in'].isna()]\n",
    "df_genre_movies = df_genre_movies[df_genre_movies['type']=='Movie']\n",
    "genre = df_genre_movies['listed_in'].apply(lambda x: str(x).split(', ')).to_list()\n",
    "df_genre_movies = pd.DataFrame(genre, index=df_genre_movies['title'])\n",
    "df_genre_movies = df_genre_movies.stack()\n",
    "df_genre_movies = pd.DataFrame(df_genre_movies)\n",
    "df_genre_movies.rename(columns={0:\"genre\"}, inplace=True)"
   ]
  },
  {
   "cell_type": "code",
   "execution_count": 1179,
   "id": "5a75b8c3",
   "metadata": {},
   "outputs": [
    {
     "data": {
      "text/plain": [
       "Movie      6131\n",
       "TV Show    2676\n",
       "Name: type, dtype: int64"
      ]
     },
     "execution_count": 1179,
     "metadata": {},
     "output_type": "execute_result"
    }
   ],
   "source": [
    "df['type'].value_counts()"
   ]
  },
  {
   "cell_type": "code",
   "execution_count": 1180,
   "id": "7087fcad",
   "metadata": {},
   "outputs": [],
   "source": [
    "df_genre_movie_pcent = df_genre_movies['genre'].value_counts().to_frame().reset_index().rename(columns={'index':'genre', 'genre':'count'})\n",
    "df_genre_movie_pcent['percent'] = (df_genre_movie_pcent['count']/61.31).round(0).astype('int')"
   ]
  },
  {
   "cell_type": "code",
   "execution_count": 1181,
   "id": "a94235a0",
   "metadata": {},
   "outputs": [
    {
     "data": {
      "image/png": "[encoded data removed]",
      "text/plain": [
       "<Figure size 432x288 with 1 Axes>"
      ]
     },
     "metadata": {
      "needs_background": "light"
     },
     "output_type": "display_data"
    }
   ],
   "source": [
    "sns.barplot(data=df_genre_movie_pcent.iloc[0:10], y='genre', x='percent')\n",
    "plt.show()"
   ]
  },
  {
   "cell_type": "markdown",
   "id": "c8f1cfb4",
   "metadata": {},
   "source": [
    "#### TV Shows"
   ]
  },
  {
   "cell_type": "code",
   "execution_count": 1182,
   "id": "cbd17e02",
   "metadata": {},
   "outputs": [],
   "source": [
    "df_genre_shows = df[~df['listed_in'].isna()]\n",
    "df_genre_shows = df_genre_shows[df_genre_shows['type']=='TV Show']\n",
    "genre = df_genre_shows['listed_in'].apply(lambda x: str(x).split(', ')).to_list()\n",
    "df_genre_shows = pd.DataFrame(genre, index=df_genre_shows['title'])\n",
    "df_genre_shows = df_genre_shows.stack()\n",
    "df_genre_shows = pd.DataFrame(df_genre_shows)\n",
    "df_genre_shows.rename(columns={0:\"genre\"}, inplace=True)"
   ]
  },
  {
   "cell_type": "code",
   "execution_count": 1183,
   "id": "c6ff9f48",
   "metadata": {},
   "outputs": [],
   "source": [
    "df_genre_shows_pcent = df_genre_shows['genre'].value_counts().to_frame().reset_index().rename(columns={'index':'genre', 'genre':'count'})\n",
    "df_genre_shows_pcent['percent'] = (df_genre_shows_pcent['count']/26.76).round(0).astype('int')"
   ]
  },
  {
   "cell_type": "code",
   "execution_count": 1184,
   "id": "25d30fe4",
   "metadata": {},
   "outputs": [
    {
     "data": {
      "image/png": "[encoded data removed]",
      "text/plain": [
       "<Figure size 432x288 with 1 Axes>"
      ]
     },
     "metadata": {
      "needs_background": "light"
     },
     "output_type": "display_data"
    }
   ],
   "source": [
    "sns.barplot(data=df_genre_shows_pcent.iloc[0:10], y='genre', x='percent')\n",
    "plt.show()"
   ]
  },
  {
   "cell_type": "markdown",
   "id": "f579fe78",
   "metadata": {},
   "source": [
    "### Popular movie actors as per the content released in last 5 years"
   ]
  },
  {
   "cell_type": "code",
   "execution_count": 1185,
   "id": "4b5cbacd",
   "metadata": {},
   "outputs": [],
   "source": [
    "df_act_ryear = df_act.reset_index().drop(columns='level_1')\n",
    "df_act_ryear = pd.merge(df_act_ryear, df, on=['title'])[['title', 'actors', 'release_year', 'type']]\n",
    "actors_p2015 = df_act_ryear[df_act_ryear['release_year'] >= 2015]\n",
    "actors_p2015 = actors_p2015[actors_p2015['type'] == 'Movie']"
   ]
  },
  {
   "cell_type": "code",
   "execution_count": 1186,
   "id": "d134f715",
   "metadata": {},
   "outputs": [
    {
     "data": {
      "image/png": "[encoded data removed]",
      "text/plain": [
       "<Figure size 432x288 with 1 Axes>"
      ]
     },
     "metadata": {
      "needs_background": "light"
     },
     "output_type": "display_data"
    }
   ],
   "source": [
    "sns.countplot(data=actors_p2015, y='actors', order=actors_p2015['actors'].value_counts().sort_values(ascending=False).iloc[0:10].index)\n",
    "plt.xticks(np.arange(0,25,5))\n",
    "plt.show()"
   ]
  },
  {
   "cell_type": "code",
   "execution_count": 1187,
   "id": "cce2e856",
   "metadata": {},
   "outputs": [
    {
     "data": {
      "text/plain": [
       "(20, 4)"
      ]
     },
     "execution_count": 1187,
     "metadata": {},
     "output_type": "execute_result"
    }
   ],
   "source": [
    "act = df_act_ryear[df_act_ryear['actors'] == 'Nawazuddin Siddiqui']\n",
    "act.shape"
   ]
  },
  {
   "cell_type": "code",
   "execution_count": 1188,
   "id": "4a31ea72",
   "metadata": {},
   "outputs": [
    {
     "data": {
      "image/png": "[encoded data removed]",
      "text/plain": [
       "<Figure size 432x288 with 1 Axes>"
      ]
     },
     "metadata": {
      "needs_background": "light"
     },
     "output_type": "display_data"
    }
   ],
   "source": [
    "sns.lineplot(data=act['release_year'].value_counts().to_frame())\n",
    "plt.title('Nawazuddin Siddiqui Movies')\n",
    "plt.yticks(np.arange(0, 7, 1))\n",
    "plt.xticks(np.arange(2010, 2022, 2))\n",
    "plt.savefig(\"nawaz\")\n",
    "plt.show()"
   ]
  },
  {
   "cell_type": "markdown",
   "id": "2c9a04ac",
   "metadata": {},
   "source": [
    "Nawazuddin Siddiqui has acted in over 20 movies from the year 2015"
   ]
  },
  {
   "cell_type": "code",
   "execution_count": null,
   "id": "52531133",
   "metadata": {},
   "outputs": [],
   "source": []
  }
 ],
 "metadata": {
  "kernelspec": {
   "display_name": "Python 3 (ipykernel)",
   "language": "python",
   "name": "python3"
  },
  "language_info": {
   "codemirror_mode": {
    "name": "ipython",
    "version": 3
   },
   "file_extension": ".py",
   "mimetype": "text/x-python",
   "name": "python",
   "nbconvert_exporter": "python",
   "pygments_lexer": "ipython3",
   "version": "3.8.10"
  }
 },
 "nbformat": 4,
 "nbformat_minor": 5
}
