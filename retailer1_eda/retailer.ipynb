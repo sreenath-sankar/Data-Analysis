{
 "cells": [
  {
   "cell_type": "markdown",
   "id": "b8a5a9d7",
   "metadata": {},
   "source": [
    "# **Problem Statement**\n",
    "\n",
    "Leveraging the transactional data collected by an American multinational retail giant during Black Friday to make predictions on the spending behavior of 100M customers by analyzing the customer purchase behavior against customer's gender, age-group, occupation, city, years stayed in the current city, marital status & product category, thus helping the business make better decisions."
   ]
  },
  {
   "cell_type": "code",
   "execution_count": 1,
   "id": "00868f87",
   "metadata": {},
   "outputs": [],
   "source": [
    "#importing required libraries\n",
    "\n",
    "import numpy as np\n",
    "import pandas as pd\n",
    "import matplotlib.pyplot as plt\n",
    "import seaborn as sns\n",
    "import scipy.stats as stats"
   ]
  },
  {
   "cell_type": "code",
   "execution_count": 2,
   "id": "a48483ee",
   "metadata": {},
   "outputs": [],
   "source": [
    "#importing data set\n",
    "\n",
    "df = pd.read_csv('retail.csv')"
   ]
  },
  {
   "cell_type": "code",
   "execution_count": 3,
   "id": "50edb270",
   "metadata": {},
   "outputs": [
    {
     "data": {
      "text/html": [
       "<div>\n",
       "<style scoped>\n",
       "    .dataframe tbody tr th:only-of-type {\n",
       "        vertical-align: middle;\n",
       "    }\n",
       "\n",
       "    .dataframe tbody tr th {\n",
       "        vertical-align: top;\n",
       "    }\n",
       "\n",
       "    .dataframe thead th {\n",
       "        text-align: right;\n",
       "    }\n",
       "</style>\n",
       "<table border=\"1\" class=\"dataframe\">\n",
       "  <thead>\n",
       "    <tr style=\"text-align: right;\">\n",
       "      <th></th>\n",
       "      <th>User_ID</th>\n",
       "      <th>Product_ID</th>\n",
       "      <th>Gender</th>\n",
       "      <th>Age</th>\n",
       "      <th>Occupation</th>\n",
       "      <th>City_Category</th>\n",
       "      <th>Stay_In_Current_City_Years</th>\n",
       "      <th>Marital_Status</th>\n",
       "      <th>Product_Category</th>\n",
       "      <th>Purchase</th>\n",
       "    </tr>\n",
       "  </thead>\n",
       "  <tbody>\n",
       "    <tr>\n",
       "      <th>0</th>\n",
       "      <td>1000001</td>\n",
       "      <td>P00069042</td>\n",
       "      <td>F</td>\n",
       "      <td>0-17</td>\n",
       "      <td>10</td>\n",
       "      <td>A</td>\n",
       "      <td>2</td>\n",
       "      <td>0</td>\n",
       "      <td>3</td>\n",
       "      <td>8370</td>\n",
       "    </tr>\n",
       "    <tr>\n",
       "      <th>1</th>\n",
       "      <td>1000001</td>\n",
       "      <td>P00248942</td>\n",
       "      <td>F</td>\n",
       "      <td>0-17</td>\n",
       "      <td>10</td>\n",
       "      <td>A</td>\n",
       "      <td>2</td>\n",
       "      <td>0</td>\n",
       "      <td>1</td>\n",
       "      <td>15200</td>\n",
       "    </tr>\n",
       "    <tr>\n",
       "      <th>2</th>\n",
       "      <td>1000001</td>\n",
       "      <td>P00087842</td>\n",
       "      <td>F</td>\n",
       "      <td>0-17</td>\n",
       "      <td>10</td>\n",
       "      <td>A</td>\n",
       "      <td>2</td>\n",
       "      <td>0</td>\n",
       "      <td>12</td>\n",
       "      <td>1422</td>\n",
       "    </tr>\n",
       "    <tr>\n",
       "      <th>3</th>\n",
       "      <td>1000001</td>\n",
       "      <td>P00085442</td>\n",
       "      <td>F</td>\n",
       "      <td>0-17</td>\n",
       "      <td>10</td>\n",
       "      <td>A</td>\n",
       "      <td>2</td>\n",
       "      <td>0</td>\n",
       "      <td>12</td>\n",
       "      <td>1057</td>\n",
       "    </tr>\n",
       "    <tr>\n",
       "      <th>4</th>\n",
       "      <td>1000002</td>\n",
       "      <td>P00285442</td>\n",
       "      <td>M</td>\n",
       "      <td>55+</td>\n",
       "      <td>16</td>\n",
       "      <td>C</td>\n",
       "      <td>4+</td>\n",
       "      <td>0</td>\n",
       "      <td>8</td>\n",
       "      <td>7969</td>\n",
       "    </tr>\n",
       "  </tbody>\n",
       "</table>\n",
       "</div>"
      ],
      "text/plain": [
       "   User_ID Product_ID Gender   Age  Occupation City_Category  \\\n",
       "0  1000001  P00069042      F  0-17          10             A   \n",
       "1  1000001  P00248942      F  0-17          10             A   \n",
       "2  1000001  P00087842      F  0-17          10             A   \n",
       "3  1000001  P00085442      F  0-17          10             A   \n",
       "4  1000002  P00285442      M   55+          16             C   \n",
       "\n",
       "  Stay_In_Current_City_Years  Marital_Status  Product_Category  Purchase  \n",
       "0                          2               0                 3      8370  \n",
       "1                          2               0                 1     15200  \n",
       "2                          2               0                12      1422  \n",
       "3                          2               0                12      1057  \n",
       "4                         4+               0                 8      7969  "
      ]
     },
     "execution_count": 3,
     "metadata": {},
     "output_type": "execute_result"
    }
   ],
   "source": [
    "df.head()"
   ]
  },
  {
   "cell_type": "code",
   "execution_count": 4,
   "id": "d7ac4228",
   "metadata": {},
   "outputs": [
    {
     "data": {
      "text/html": [
       "<div>\n",
       "<style scoped>\n",
       "    .dataframe tbody tr th:only-of-type {\n",
       "        vertical-align: middle;\n",
       "    }\n",
       "\n",
       "    .dataframe tbody tr th {\n",
       "        vertical-align: top;\n",
       "    }\n",
       "\n",
       "    .dataframe thead th {\n",
       "        text-align: right;\n",
       "    }\n",
       "</style>\n",
       "<table border=\"1\" class=\"dataframe\">\n",
       "  <thead>\n",
       "    <tr style=\"text-align: right;\">\n",
       "      <th></th>\n",
       "      <th>User_ID</th>\n",
       "      <th>Product_ID</th>\n",
       "      <th>Gender</th>\n",
       "      <th>Age</th>\n",
       "      <th>Occupation</th>\n",
       "      <th>City_Category</th>\n",
       "      <th>Stay_In_Current_City_Years</th>\n",
       "      <th>Marital_Status</th>\n",
       "      <th>Product_Category</th>\n",
       "      <th>Purchase</th>\n",
       "    </tr>\n",
       "  </thead>\n",
       "  <tbody>\n",
       "    <tr>\n",
       "      <th>550063</th>\n",
       "      <td>1006033</td>\n",
       "      <td>P00372445</td>\n",
       "      <td>M</td>\n",
       "      <td>51-55</td>\n",
       "      <td>13</td>\n",
       "      <td>B</td>\n",
       "      <td>1</td>\n",
       "      <td>1</td>\n",
       "      <td>20</td>\n",
       "      <td>368</td>\n",
       "    </tr>\n",
       "    <tr>\n",
       "      <th>550064</th>\n",
       "      <td>1006035</td>\n",
       "      <td>P00375436</td>\n",
       "      <td>F</td>\n",
       "      <td>26-35</td>\n",
       "      <td>1</td>\n",
       "      <td>C</td>\n",
       "      <td>3</td>\n",
       "      <td>0</td>\n",
       "      <td>20</td>\n",
       "      <td>371</td>\n",
       "    </tr>\n",
       "    <tr>\n",
       "      <th>550065</th>\n",
       "      <td>1006036</td>\n",
       "      <td>P00375436</td>\n",
       "      <td>F</td>\n",
       "      <td>26-35</td>\n",
       "      <td>15</td>\n",
       "      <td>B</td>\n",
       "      <td>4+</td>\n",
       "      <td>1</td>\n",
       "      <td>20</td>\n",
       "      <td>137</td>\n",
       "    </tr>\n",
       "    <tr>\n",
       "      <th>550066</th>\n",
       "      <td>1006038</td>\n",
       "      <td>P00375436</td>\n",
       "      <td>F</td>\n",
       "      <td>55+</td>\n",
       "      <td>1</td>\n",
       "      <td>C</td>\n",
       "      <td>2</td>\n",
       "      <td>0</td>\n",
       "      <td>20</td>\n",
       "      <td>365</td>\n",
       "    </tr>\n",
       "    <tr>\n",
       "      <th>550067</th>\n",
       "      <td>1006039</td>\n",
       "      <td>P00371644</td>\n",
       "      <td>F</td>\n",
       "      <td>46-50</td>\n",
       "      <td>0</td>\n",
       "      <td>B</td>\n",
       "      <td>4+</td>\n",
       "      <td>1</td>\n",
       "      <td>20</td>\n",
       "      <td>490</td>\n",
       "    </tr>\n",
       "  </tbody>\n",
       "</table>\n",
       "</div>"
      ],
      "text/plain": [
       "        User_ID Product_ID Gender    Age  Occupation City_Category  \\\n",
       "550063  1006033  P00372445      M  51-55          13             B   \n",
       "550064  1006035  P00375436      F  26-35           1             C   \n",
       "550065  1006036  P00375436      F  26-35          15             B   \n",
       "550066  1006038  P00375436      F    55+           1             C   \n",
       "550067  1006039  P00371644      F  46-50           0             B   \n",
       "\n",
       "       Stay_In_Current_City_Years  Marital_Status  Product_Category  Purchase  \n",
       "550063                          1               1                20       368  \n",
       "550064                          3               0                20       371  \n",
       "550065                         4+               1                20       137  \n",
       "550066                          2               0                20       365  \n",
       "550067                         4+               1                20       490  "
      ]
     },
     "execution_count": 4,
     "metadata": {},
     "output_type": "execute_result"
    }
   ],
   "source": [
    "df.tail()"
   ]
  },
  {
   "cell_type": "code",
   "execution_count": 5,
   "id": "42c630dc",
   "metadata": {},
   "outputs": [
    {
     "data": {
      "text/plain": [
       "(550068, 10)"
      ]
     },
     "execution_count": 5,
     "metadata": {},
     "output_type": "execute_result"
    }
   ],
   "source": [
    "df.shape"
   ]
  },
  {
   "cell_type": "code",
   "execution_count": 6,
   "id": "b5efa7be",
   "metadata": {},
   "outputs": [
    {
     "name": "stdout",
     "output_type": "stream",
     "text": [
      "There are 550068 rows and 10 columns in the dataset\n",
      "Each row represents a transaction made on Black Friday and columns represent customer/product attributes\n"
     ]
    }
   ],
   "source": [
    "print(f'There are {df.shape[0]} rows and {df.shape[1]} columns in the dataset')\n",
    "print(f'Each row represents a transaction made on Black Friday and columns represent customer/product attributes')"
   ]
  },
  {
   "cell_type": "code",
   "execution_count": 7,
   "id": "67882d66",
   "metadata": {},
   "outputs": [
    {
     "name": "stdout",
     "output_type": "stream",
     "text": [
      "<class 'pandas.core.frame.DataFrame'>\n",
      "RangeIndex: 550068 entries, 0 to 550067\n",
      "Data columns (total 10 columns):\n",
      " #   Column                      Non-Null Count   Dtype \n",
      "---  ------                      --------------   ----- \n",
      " 0   User_ID                     550068 non-null  int64 \n",
      " 1   Product_ID                  550068 non-null  object\n",
      " 2   Gender                      550068 non-null  object\n",
      " 3   Age                         550068 non-null  object\n",
      " 4   Occupation                  550068 non-null  int64 \n",
      " 5   City_Category               550068 non-null  object\n",
      " 6   Stay_In_Current_City_Years  550068 non-null  object\n",
      " 7   Marital_Status              550068 non-null  int64 \n",
      " 8   Product_Category            550068 non-null  int64 \n",
      " 9   Purchase                    550068 non-null  int64 \n",
      "dtypes: int64(5), object(5)\n",
      "memory usage: 42.0+ MB\n"
     ]
    }
   ],
   "source": [
    "#data overiew - non-null counts and data types\n",
    "\n",
    "df.info()"
   ]
  },
  {
   "cell_type": "markdown",
   "id": "87c9388e",
   "metadata": {},
   "source": [
    "- Categorical variables of type *int*    - User_ID, Occupation, Marital_Status, Product_Category\n",
    "- Categorical variables of type *object* - Product_ID, Gender, Age, City_Category, Stay_In_Current_City_Years\n",
    "- Numerical(Continuous) variable of type *int*    - Purchase"
   ]
  },
  {
   "cell_type": "code",
   "execution_count": 8,
   "id": "6d374898",
   "metadata": {},
   "outputs": [
    {
     "data": {
      "text/plain": [
       "User_ID                       0.0\n",
       "Product_ID                    0.0\n",
       "Gender                        0.0\n",
       "Age                           0.0\n",
       "Occupation                    0.0\n",
       "City_Category                 0.0\n",
       "Stay_In_Current_City_Years    0.0\n",
       "Marital_Status                0.0\n",
       "Product_Category              0.0\n",
       "Purchase                      0.0\n",
       "dtype: float64"
      ]
     },
     "execution_count": 8,
     "metadata": {},
     "output_type": "execute_result"
    }
   ],
   "source": [
    "#percentage of null values in each column\n",
    "\n",
    "df.isnull().sum()*100/len(df)"
   ]
  },
  {
   "cell_type": "markdown",
   "id": "6ffcb01a",
   "metadata": {},
   "source": [
    "There is no null value in the data set"
   ]
  },
  {
   "cell_type": "markdown",
   "id": "31337dd8",
   "metadata": {},
   "source": [
    "# **Non-Graphical Analysis**"
   ]
  },
  {
   "cell_type": "code",
   "execution_count": 9,
   "id": "f97175a7",
   "metadata": {},
   "outputs": [
    {
     "data": {
      "text/plain": [
       "User_ID                        5891\n",
       "Product_ID                     3631\n",
       "Gender                            2\n",
       "Age                               7\n",
       "Occupation                       21\n",
       "City_Category                     3\n",
       "Stay_In_Current_City_Years        5\n",
       "Marital_Status                    2\n",
       "Product_Category                 20\n",
       "Purchase                      18105\n",
       "dtype: int64"
      ]
     },
     "execution_count": 9,
     "metadata": {},
     "output_type": "execute_result"
    }
   ],
   "source": [
    "#number of unique values\n",
    "\n",
    "df.nunique()"
   ]
  },
  {
   "cell_type": "markdown",
   "id": "7de607b5",
   "metadata": {},
   "source": [
    "**Checking value counts of categorical columns**"
   ]
  },
  {
   "cell_type": "code",
   "execution_count": 10,
   "id": "aacf8776",
   "metadata": {},
   "outputs": [
    {
     "data": {
      "text/plain": [
       "1001680    1026\n",
       "1004277     979\n",
       "1001941     898\n",
       "1001181     862\n",
       "1000889     823\n",
       "           ... \n",
       "1002690       7\n",
       "1002111       7\n",
       "1005810       7\n",
       "1004991       7\n",
       "1000708       6\n",
       "Name: User_ID, Length: 5891, dtype: int64"
      ]
     },
     "execution_count": 10,
     "metadata": {},
     "output_type": "execute_result"
    }
   ],
   "source": [
    "#checking column User_ID\n",
    "\n",
    "df['User_ID'].value_counts()"
   ]
  },
  {
   "cell_type": "markdown",
   "id": "876b30fd",
   "metadata": {},
   "source": [
    "* Total number of unique customers in the sample - 5891\n",
    "* Number of transactions by a customer: Max - 1026, Min - 6"
   ]
  },
  {
   "cell_type": "code",
   "execution_count": 11,
   "id": "ad67f22c",
   "metadata": {},
   "outputs": [
    {
     "data": {
      "text/plain": [
       "P00265242    1880\n",
       "P00025442    1615\n",
       "P00110742    1612\n",
       "P00112142    1562\n",
       "P00057642    1470\n",
       "             ... \n",
       "P00314842       1\n",
       "P00298842       1\n",
       "P00231642       1\n",
       "P00204442       1\n",
       "P00066342       1\n",
       "Name: Product_ID, Length: 3631, dtype: int64"
      ]
     },
     "execution_count": 11,
     "metadata": {},
     "output_type": "execute_result"
    }
   ],
   "source": [
    "#checking column Product_ID\n",
    "\n",
    "df['Product_ID'].value_counts()"
   ]
  },
  {
   "cell_type": "markdown",
   "id": "61b6f3be",
   "metadata": {},
   "source": [
    "* Total number of unique products in the sample - 3631\n",
    "* Number of times a product has been purchased: Max - 1880, Min - 1"
   ]
  },
  {
   "cell_type": "code",
   "execution_count": 12,
   "id": "b2ffc478",
   "metadata": {},
   "outputs": [
    {
     "name": "stdout",
     "output_type": "stream",
     "text": [
      "399    5\n",
      "Name: Product_Category, dtype: int64\n",
      "667    1\n",
      "Name: Product_Category, dtype: int64\n",
      "342    1\n",
      "Name: Product_Category, dtype: int64\n",
      "399    8652\n",
      "Name: Purchase, dtype: int64\n"
     ]
    }
   ],
   "source": [
    "print(df[df['Product_ID']=='P00265242']['Product_Category'].head(1))\n",
    "print(df[df['Product_ID']=='P00025442']['Product_Category'].head(1))\n",
    "print(df[df['Product_ID']=='P00110742']['Product_Category'].head(1))\n",
    "print(df[df['Product_ID']=='P00265242']['Purchase'].head(1))"
   ]
  },
  {
   "cell_type": "code",
   "execution_count": 13,
   "id": "9e691812",
   "metadata": {},
   "outputs": [
    {
     "data": {
      "text/plain": [
       "M    414259\n",
       "F    135809\n",
       "Name: Gender, dtype: int64"
      ]
     },
     "execution_count": 13,
     "metadata": {},
     "output_type": "execute_result"
    }
   ],
   "source": [
    "#checking column Gender\n",
    "\n",
    "df['Gender'].value_counts()"
   ]
  },
  {
   "cell_type": "markdown",
   "id": "d133ef4f",
   "metadata": {},
   "source": [
    "* Number of transactions made by male customers are 3 times that of female customers"
   ]
  },
  {
   "cell_type": "code",
   "execution_count": 14,
   "id": "0e9dee58",
   "metadata": {},
   "outputs": [
    {
     "data": {
      "text/plain": [
       "26-35    219587\n",
       "36-45    110013\n",
       "18-25     99660\n",
       "46-50     45701\n",
       "51-55     38501\n",
       "55+       21504\n",
       "0-17      15102\n",
       "Name: Age, dtype: int64"
      ]
     },
     "execution_count": 14,
     "metadata": {},
     "output_type": "execute_result"
    }
   ],
   "source": [
    "#checking column Age\n",
    "\n",
    "df['Age'].value_counts()"
   ]
  },
  {
   "cell_type": "markdown",
   "id": "3b14c9ad",
   "metadata": {},
   "source": [
    "* Majority of the transactions are made by customers in the age range 26-35"
   ]
  },
  {
   "cell_type": "code",
   "execution_count": 15,
   "id": "ad97066d",
   "metadata": {},
   "outputs": [
    {
     "data": {
      "text/plain": [
       "4     72308\n",
       "0     69638\n",
       "7     59133\n",
       "1     47426\n",
       "17    40043\n",
       "20    33562\n",
       "12    31179\n",
       "14    27309\n",
       "2     26588\n",
       "16    25371\n",
       "6     20355\n",
       "3     17650\n",
       "10    12930\n",
       "5     12177\n",
       "15    12165\n",
       "11    11586\n",
       "19     8461\n",
       "13     7728\n",
       "18     6622\n",
       "9      6291\n",
       "8      1546\n",
       "Name: Occupation, dtype: int64"
      ]
     },
     "execution_count": 15,
     "metadata": {},
     "output_type": "execute_result"
    }
   ],
   "source": [
    "#checking column occupation\n",
    "\n",
    "df['Occupation'].value_counts()"
   ]
  },
  {
   "cell_type": "markdown",
   "id": "c45db47f",
   "metadata": {},
   "source": [
    "* Column occupation is masked with values ranging from 0-20"
   ]
  },
  {
   "cell_type": "code",
   "execution_count": 16,
   "id": "91dab845",
   "metadata": {},
   "outputs": [
    {
     "data": {
      "text/plain": [
       "B    231173\n",
       "C    171175\n",
       "A    147720\n",
       "Name: City_Category, dtype: int64"
      ]
     },
     "execution_count": 16,
     "metadata": {},
     "output_type": "execute_result"
    }
   ],
   "source": [
    "#checking column City_Category\n",
    "\n",
    "df['City_Category'].value_counts()"
   ]
  },
  {
   "cell_type": "markdown",
   "id": "860a3ad8",
   "metadata": {},
   "source": [
    "* Customers belong either of the 3 cities masked with values A, B, C"
   ]
  },
  {
   "cell_type": "code",
   "execution_count": 17,
   "id": "0098f0eb",
   "metadata": {},
   "outputs": [
    {
     "data": {
      "text/plain": [
       "1     193821\n",
       "2     101838\n",
       "3      95285\n",
       "4+     84726\n",
       "0      74398\n",
       "Name: Stay_In_Current_City_Years, dtype: int64"
      ]
     },
     "execution_count": 17,
     "metadata": {},
     "output_type": "execute_result"
    }
   ],
   "source": [
    "#checking column Stay_In_Current_City_Years\n",
    "\n",
    "df['Stay_In_Current_City_Years'].value_counts()"
   ]
  },
  {
   "cell_type": "markdown",
   "id": "5a5700aa",
   "metadata": {},
   "source": [
    "* Number of years a customer stayed in the current city is classified into 5 categories 0,1,2,3, and 4+"
   ]
  },
  {
   "cell_type": "code",
   "execution_count": 18,
   "id": "547f6495",
   "metadata": {},
   "outputs": [
    {
     "data": {
      "text/plain": [
       "0    324731\n",
       "1    225337\n",
       "Name: Marital_Status, dtype: int64"
      ]
     },
     "execution_count": 18,
     "metadata": {},
     "output_type": "execute_result"
    }
   ],
   "source": [
    "#checking column Marital_Status\n",
    "\n",
    "df['Marital_Status'].value_counts()"
   ]
  },
  {
   "cell_type": "markdown",
   "id": "301d28c1",
   "metadata": {},
   "source": [
    "* Column Marital_Status contains two value 0&1 with 1 being partnered"
   ]
  },
  {
   "cell_type": "code",
   "execution_count": 19,
   "id": "450da791",
   "metadata": {},
   "outputs": [],
   "source": [
    "#Mapping marital status 0/1 to Single/Partnered\n",
    "\n",
    "df['Marital_Status'] = df['Marital_Status'].map({0:'Unmarried', 1:'Married'})"
   ]
  },
  {
   "cell_type": "code",
   "execution_count": 20,
   "id": "567660b9",
   "metadata": {},
   "outputs": [
    {
     "data": {
      "text/plain": [
       "5     150933\n",
       "1     140378\n",
       "8     113925\n",
       "11     24287\n",
       "2      23864\n",
       "6      20466\n",
       "3      20213\n",
       "4      11753\n",
       "16      9828\n",
       "15      6290\n",
       "13      5549\n",
       "10      5125\n",
       "12      3947\n",
       "7       3721\n",
       "18      3125\n",
       "20      2550\n",
       "19      1603\n",
       "14      1523\n",
       "17       578\n",
       "9        410\n",
       "Name: Product_Category, dtype: int64"
      ]
     },
     "execution_count": 20,
     "metadata": {},
     "output_type": "execute_result"
    }
   ],
   "source": [
    "#checking column Product_Category\n",
    "\n",
    "df['Product_Category'].value_counts()"
   ]
  },
  {
   "cell_type": "markdown",
   "id": "109269ba",
   "metadata": {},
   "source": [
    "* Products belong to 20 different categories with masked values 1-20\n",
    "* Categories 1, 5 & 8 accounts for three-fourth of the total sales"
   ]
  },
  {
   "cell_type": "markdown",
   "id": "705883f6",
   "metadata": {},
   "source": [
    "**Checking descriptive statistics of continuous column**"
   ]
  },
  {
   "cell_type": "code",
   "execution_count": 21,
   "id": "21f9e84d",
   "metadata": {},
   "outputs": [
    {
     "data": {
      "text/plain": [
       "count    550068.000000\n",
       "mean       9263.968713\n",
       "std        5023.065394\n",
       "min          12.000000\n",
       "25%        5823.000000\n",
       "50%        8047.000000\n",
       "75%       12054.000000\n",
       "max       23961.000000\n",
       "Name: Purchase, dtype: float64"
      ]
     },
     "execution_count": 21,
     "metadata": {},
     "output_type": "execute_result"
    }
   ],
   "source": [
    "#checking column Purchase\n",
    "\n",
    "df['Purchase'].describe()"
   ]
  },
  {
   "cell_type": "markdown",
   "id": "4362bb68",
   "metadata": {},
   "source": [
    "* Purchase price range from 12 to 23,961 with an average value of 9,264"
   ]
  },
  {
   "cell_type": "markdown",
   "id": "966655e4",
   "metadata": {},
   "source": [
    "# **Visual Analysis**"
   ]
  },
  {
   "cell_type": "markdown",
   "id": "9862d00c",
   "metadata": {},
   "source": [
    "## **Analyzing customer attributes with purchase amount**"
   ]
  },
  {
   "cell_type": "code",
   "execution_count": 22,
   "id": "c220389a",
   "metadata": {
    "scrolled": true
   },
   "outputs": [
    {
     "data": {
      "text/html": [
       "<div>\n",
       "<style scoped>\n",
       "    .dataframe tbody tr th:only-of-type {\n",
       "        vertical-align: middle;\n",
       "    }\n",
       "\n",
       "    .dataframe tbody tr th {\n",
       "        vertical-align: top;\n",
       "    }\n",
       "\n",
       "    .dataframe thead th {\n",
       "        text-align: right;\n",
       "    }\n",
       "</style>\n",
       "<table border=\"1\" class=\"dataframe\">\n",
       "  <thead>\n",
       "    <tr style=\"text-align: right;\">\n",
       "      <th></th>\n",
       "      <th>User_ID</th>\n",
       "      <th>Gender</th>\n",
       "      <th>Age</th>\n",
       "      <th>Occupation</th>\n",
       "      <th>City_Category</th>\n",
       "      <th>Stay_In_Current_City_Years</th>\n",
       "      <th>Marital_Status</th>\n",
       "      <th>Purchase</th>\n",
       "    </tr>\n",
       "  </thead>\n",
       "  <tbody>\n",
       "    <tr>\n",
       "      <th>0</th>\n",
       "      <td>1000001</td>\n",
       "      <td>F</td>\n",
       "      <td>0-17</td>\n",
       "      <td>10</td>\n",
       "      <td>A</td>\n",
       "      <td>2</td>\n",
       "      <td>Unmarried</td>\n",
       "      <td>334093</td>\n",
       "    </tr>\n",
       "    <tr>\n",
       "      <th>1</th>\n",
       "      <td>1000002</td>\n",
       "      <td>M</td>\n",
       "      <td>55+</td>\n",
       "      <td>16</td>\n",
       "      <td>C</td>\n",
       "      <td>4+</td>\n",
       "      <td>Unmarried</td>\n",
       "      <td>810472</td>\n",
       "    </tr>\n",
       "    <tr>\n",
       "      <th>2</th>\n",
       "      <td>1000003</td>\n",
       "      <td>M</td>\n",
       "      <td>26-35</td>\n",
       "      <td>15</td>\n",
       "      <td>A</td>\n",
       "      <td>3</td>\n",
       "      <td>Unmarried</td>\n",
       "      <td>341635</td>\n",
       "    </tr>\n",
       "    <tr>\n",
       "      <th>3</th>\n",
       "      <td>1000004</td>\n",
       "      <td>M</td>\n",
       "      <td>46-50</td>\n",
       "      <td>7</td>\n",
       "      <td>B</td>\n",
       "      <td>2</td>\n",
       "      <td>Married</td>\n",
       "      <td>206468</td>\n",
       "    </tr>\n",
       "    <tr>\n",
       "      <th>4</th>\n",
       "      <td>1000005</td>\n",
       "      <td>M</td>\n",
       "      <td>26-35</td>\n",
       "      <td>20</td>\n",
       "      <td>A</td>\n",
       "      <td>1</td>\n",
       "      <td>Married</td>\n",
       "      <td>821001</td>\n",
       "    </tr>\n",
       "  </tbody>\n",
       "</table>\n",
       "</div>"
      ],
      "text/plain": [
       "   User_ID Gender    Age  Occupation City_Category Stay_In_Current_City_Years  \\\n",
       "0  1000001      F   0-17          10             A                          2   \n",
       "1  1000002      M    55+          16             C                         4+   \n",
       "2  1000003      M  26-35          15             A                          3   \n",
       "3  1000004      M  46-50           7             B                          2   \n",
       "4  1000005      M  26-35          20             A                          1   \n",
       "\n",
       "  Marital_Status  Purchase  \n",
       "0      Unmarried    334093  \n",
       "1      Unmarried    810472  \n",
       "2      Unmarried    341635  \n",
       "3        Married    206468  \n",
       "4        Married    821001  "
      ]
     },
     "execution_count": 22,
     "metadata": {},
     "output_type": "execute_result"
    }
   ],
   "source": [
    "#Analysing customer attributes\n",
    "\n",
    "#Unique customer columns\n",
    "df_customer = df.drop(columns=['Product_ID', 'Product_Category', 'Purchase']).drop_duplicates()\n",
    "#group by customer ID to get total purchase amount of every custmer\n",
    "df_cust_purchase = df.groupby('User_ID')['Purchase'].sum().to_frame()\n",
    "#merge customer attributes and total purchase\n",
    "df_customer = df_customer.merge(df_cust_purchase, left_on='User_ID', right_on='User_ID')\n",
    "df_customer.head()"
   ]
  },
  {
   "cell_type": "code",
   "execution_count": 23,
   "id": "ce08b94b",
   "metadata": {
    "scrolled": true
   },
   "outputs": [
    {
     "data": {
      "text/html": [
       "<div>\n",
       "<style scoped>\n",
       "    .dataframe tbody tr th:only-of-type {\n",
       "        vertical-align: middle;\n",
       "    }\n",
       "\n",
       "    .dataframe tbody tr th {\n",
       "        vertical-align: top;\n",
       "    }\n",
       "\n",
       "    .dataframe thead th {\n",
       "        text-align: right;\n",
       "    }\n",
       "</style>\n",
       "<table border=\"1\" class=\"dataframe\">\n",
       "  <thead>\n",
       "    <tr style=\"text-align: right;\">\n",
       "      <th></th>\n",
       "      <th>Purchase</th>\n",
       "    </tr>\n",
       "  </thead>\n",
       "  <tbody>\n",
       "    <tr>\n",
       "      <th>count</th>\n",
       "      <td>5.891000e+03</td>\n",
       "    </tr>\n",
       "    <tr>\n",
       "      <th>mean</th>\n",
       "      <td>8.650166e+05</td>\n",
       "    </tr>\n",
       "    <tr>\n",
       "      <th>std</th>\n",
       "      <td>9.436445e+05</td>\n",
       "    </tr>\n",
       "    <tr>\n",
       "      <th>min</th>\n",
       "      <td>4.668100e+04</td>\n",
       "    </tr>\n",
       "    <tr>\n",
       "      <th>25%</th>\n",
       "      <td>2.376780e+05</td>\n",
       "    </tr>\n",
       "    <tr>\n",
       "      <th>50%</th>\n",
       "      <td>5.212130e+05</td>\n",
       "    </tr>\n",
       "    <tr>\n",
       "      <th>75%</th>\n",
       "      <td>1.119250e+06</td>\n",
       "    </tr>\n",
       "    <tr>\n",
       "      <th>max</th>\n",
       "      <td>1.053691e+07</td>\n",
       "    </tr>\n",
       "  </tbody>\n",
       "</table>\n",
       "</div>"
      ],
      "text/plain": [
       "           Purchase\n",
       "count  5.891000e+03\n",
       "mean   8.650166e+05\n",
       "std    9.436445e+05\n",
       "min    4.668100e+04\n",
       "25%    2.376780e+05\n",
       "50%    5.212130e+05\n",
       "75%    1.119250e+06\n",
       "max    1.053691e+07"
      ]
     },
     "execution_count": 23,
     "metadata": {},
     "output_type": "execute_result"
    }
   ],
   "source": [
    "# customer - purchase\n",
    "\n",
    "df_customer['Purchase'].describe().to_frame()"
   ]
  },
  {
   "cell_type": "markdown",
   "id": "9b22a50d",
   "metadata": {},
   "source": [
    "**Observing the outliers of purchase**"
   ]
  },
  {
   "cell_type": "code",
   "execution_count": 24,
   "id": "0f1f52da",
   "metadata": {},
   "outputs": [
    {
     "data": {
      "image/png": "[encoded data removed]",
      "text/plain": [
       "<Figure size 864x432 with 2 Axes>"
      ]
     },
     "metadata": {
      "needs_background": "light"
     },
     "output_type": "display_data"
    }
   ],
   "source": [
    "plt.figure(figsize=(12,6))\n",
    "\n",
    "plt.subplot(121)\n",
    "sns.boxplot(data=df_customer, y='Purchase')\n",
    "\n",
    "plt.subplot(122)\n",
    "sns.histplot(data=df_customer, x='Purchase', kde=True)\n",
    "plt.show()"
   ]
  },
  {
   "cell_type": "markdown",
   "id": "7e7fa441",
   "metadata": {},
   "source": [
    "### **Outlier treatment**\n",
    "\n",
    "IQR = Q3 - Q1<br>\n",
    "lower limit = max(min, Q1-1.5IQR)<br>\n",
    "upper limit = min(max, Q3+1.5IQR)"
   ]
  },
  {
   "cell_type": "code",
   "execution_count": 25,
   "id": "5e280a1a",
   "metadata": {},
   "outputs": [
    {
     "name": "stdout",
     "output_type": "stream",
     "text": [
      "46681 2441606.75\n"
     ]
    }
   ],
   "source": [
    "Q1 = df_customer['Purchase'].quantile(0.25)\n",
    "Q3 = df_customer['Purchase'].quantile(0.75)\n",
    "IQR = Q3 - Q1\n",
    "low_lt = max(min(df_customer['Purchase']), Q1 - 1.5*IQR)\n",
    "up_lt = min(max(df_customer['Purchase']), Q3 + 1.5*IQR)\n",
    "print(low_lt, up_lt)"
   ]
  },
  {
   "cell_type": "markdown",
   "id": "6cbb258d",
   "metadata": {},
   "source": [
    "**Observing the distribution after removing outliers**"
   ]
  },
  {
   "cell_type": "code",
   "execution_count": 26,
   "id": "cd34cbda",
   "metadata": {},
   "outputs": [
    {
     "data": {
      "text/html": [
       "<div>\n",
       "<style scoped>\n",
       "    .dataframe tbody tr th:only-of-type {\n",
       "        vertical-align: middle;\n",
       "    }\n",
       "\n",
       "    .dataframe tbody tr th {\n",
       "        vertical-align: top;\n",
       "    }\n",
       "\n",
       "    .dataframe thead th {\n",
       "        text-align: right;\n",
       "    }\n",
       "</style>\n",
       "<table border=\"1\" class=\"dataframe\">\n",
       "  <thead>\n",
       "    <tr style=\"text-align: right;\">\n",
       "      <th></th>\n",
       "      <th>Purchase</th>\n",
       "    </tr>\n",
       "  </thead>\n",
       "  <tbody>\n",
       "    <tr>\n",
       "      <th>count</th>\n",
       "      <td>5.482000e+03</td>\n",
       "    </tr>\n",
       "    <tr>\n",
       "      <th>mean</th>\n",
       "      <td>6.677809e+05</td>\n",
       "    </tr>\n",
       "    <tr>\n",
       "      <th>std</th>\n",
       "      <td>5.637426e+05</td>\n",
       "    </tr>\n",
       "    <tr>\n",
       "      <th>min</th>\n",
       "      <td>4.668100e+04</td>\n",
       "    </tr>\n",
       "    <tr>\n",
       "      <th>25%</th>\n",
       "      <td>2.272235e+05</td>\n",
       "    </tr>\n",
       "    <tr>\n",
       "      <th>50%</th>\n",
       "      <td>4.729670e+05</td>\n",
       "    </tr>\n",
       "    <tr>\n",
       "      <th>75%</th>\n",
       "      <td>9.389255e+05</td>\n",
       "    </tr>\n",
       "    <tr>\n",
       "      <th>max</th>\n",
       "      <td>2.440164e+06</td>\n",
       "    </tr>\n",
       "  </tbody>\n",
       "</table>\n",
       "</div>"
      ],
      "text/plain": [
       "           Purchase\n",
       "count  5.482000e+03\n",
       "mean   6.677809e+05\n",
       "std    5.637426e+05\n",
       "min    4.668100e+04\n",
       "25%    2.272235e+05\n",
       "50%    4.729670e+05\n",
       "75%    9.389255e+05\n",
       "max    2.440164e+06"
      ]
     },
     "execution_count": 26,
     "metadata": {},
     "output_type": "execute_result"
    }
   ],
   "source": [
    "df_copy = df_customer[df_customer['Purchase'] <= up_lt]\n",
    "# customer - purchase\n",
    "df_copy['Purchase'].describe().to_frame()"
   ]
  },
  {
   "cell_type": "code",
   "execution_count": 27,
   "id": "81f6fa12",
   "metadata": {},
   "outputs": [
    {
     "data": {
      "image/png": "[encoded data removed]",
      "text/plain": [
       "<Figure size 864x432 with 2 Axes>"
      ]
     },
     "metadata": {
      "needs_background": "light"
     },
     "output_type": "display_data"
    }
   ],
   "source": [
    "plt.figure(figsize=(12,6))\n",
    "\n",
    "plt.subplot(121)\n",
    "sns.boxplot(data=df_copy, y='Purchase')\n",
    "\n",
    "plt.subplot(122)\n",
    "sns.histplot(data=df_copy, x='Purchase', kde=True)\n",
    "plt.show()"
   ]
  },
  {
   "cell_type": "code",
   "execution_count": 28,
   "id": "e4b00985",
   "metadata": {
    "scrolled": true
   },
   "outputs": [
    {
     "data": {
      "text/html": [
       "<div>\n",
       "<style scoped>\n",
       "    .dataframe tbody tr th:only-of-type {\n",
       "        vertical-align: middle;\n",
       "    }\n",
       "\n",
       "    .dataframe tbody tr th {\n",
       "        vertical-align: top;\n",
       "    }\n",
       "\n",
       "    .dataframe thead th {\n",
       "        text-align: right;\n",
       "    }\n",
       "</style>\n",
       "<table border=\"1\" class=\"dataframe\">\n",
       "  <thead>\n",
       "    <tr style=\"text-align: right;\">\n",
       "      <th></th>\n",
       "      <th>count</th>\n",
       "      <th>mean</th>\n",
       "      <th>std</th>\n",
       "      <th>min</th>\n",
       "      <th>25%</th>\n",
       "      <th>50%</th>\n",
       "      <th>75%</th>\n",
       "      <th>max</th>\n",
       "    </tr>\n",
       "    <tr>\n",
       "      <th>Gender</th>\n",
       "      <th></th>\n",
       "      <th></th>\n",
       "      <th></th>\n",
       "      <th></th>\n",
       "      <th></th>\n",
       "      <th></th>\n",
       "      <th></th>\n",
       "      <th></th>\n",
       "    </tr>\n",
       "  </thead>\n",
       "  <tbody>\n",
       "    <tr>\n",
       "      <th>F</th>\n",
       "      <td>1584.0</td>\n",
       "      <td>573484.713384</td>\n",
       "      <td>512895.998755</td>\n",
       "      <td>46681.0</td>\n",
       "      <td>196487.50</td>\n",
       "      <td>379895.5</td>\n",
       "      <td>784817.75</td>\n",
       "      <td>2439560.0</td>\n",
       "    </tr>\n",
       "    <tr>\n",
       "      <th>M</th>\n",
       "      <td>3898.0</td>\n",
       "      <td>706099.355823</td>\n",
       "      <td>578827.818730</td>\n",
       "      <td>49288.0</td>\n",
       "      <td>241576.75</td>\n",
       "      <td>513360.0</td>\n",
       "      <td>999309.75</td>\n",
       "      <td>2440164.0</td>\n",
       "    </tr>\n",
       "  </tbody>\n",
       "</table>\n",
       "</div>"
      ],
      "text/plain": [
       "         count           mean            std      min        25%       50%  \\\n",
       "Gender                                                                       \n",
       "F       1584.0  573484.713384  512895.998755  46681.0  196487.50  379895.5   \n",
       "M       3898.0  706099.355823  578827.818730  49288.0  241576.75  513360.0   \n",
       "\n",
       "              75%        max  \n",
       "Gender                        \n",
       "F       784817.75  2439560.0  \n",
       "M       999309.75  2440164.0  "
      ]
     },
     "execution_count": 28,
     "metadata": {},
     "output_type": "execute_result"
    }
   ],
   "source": [
    "#Gender - Purchase\n",
    "\n",
    "df_copy.groupby('Gender')['Purchase'].describe()"
   ]
  },
  {
   "cell_type": "code",
   "execution_count": 29,
   "id": "13f94953",
   "metadata": {},
   "outputs": [
    {
     "data": {
      "image/png": "[encoded data removed]",
      "text/plain": [
       "<Figure size 720x288 with 2 Axes>"
      ]
     },
     "metadata": {
      "needs_background": "light"
     },
     "output_type": "display_data"
    }
   ],
   "source": [
    "plt.figure(figsize=(10,4))\n",
    "\n",
    "plt.subplot(121)\n",
    "df_copy['Gender'].value_counts().plot(kind='pie', autopct='%.f%%')\n",
    "\n",
    "plt.subplot(122)\n",
    "sns.boxplot(data=df_copy, y='Purchase', x='Gender')\n",
    "\n",
    "plt.show()"
   ]
  },
  {
   "cell_type": "code",
   "execution_count": 30,
   "id": "0f56617b",
   "metadata": {},
   "outputs": [
    {
     "data": {
      "text/html": [
       "<div>\n",
       "<style scoped>\n",
       "    .dataframe tbody tr th:only-of-type {\n",
       "        vertical-align: middle;\n",
       "    }\n",
       "\n",
       "    .dataframe tbody tr th {\n",
       "        vertical-align: top;\n",
       "    }\n",
       "\n",
       "    .dataframe thead th {\n",
       "        text-align: right;\n",
       "    }\n",
       "</style>\n",
       "<table border=\"1\" class=\"dataframe\">\n",
       "  <thead>\n",
       "    <tr style=\"text-align: right;\">\n",
       "      <th></th>\n",
       "      <th>count</th>\n",
       "      <th>mean</th>\n",
       "      <th>std</th>\n",
       "      <th>min</th>\n",
       "      <th>25%</th>\n",
       "      <th>50%</th>\n",
       "      <th>75%</th>\n",
       "      <th>max</th>\n",
       "    </tr>\n",
       "    <tr>\n",
       "      <th>Marital_Status</th>\n",
       "      <th></th>\n",
       "      <th></th>\n",
       "      <th></th>\n",
       "      <th></th>\n",
       "      <th></th>\n",
       "      <th></th>\n",
       "      <th></th>\n",
       "      <th></th>\n",
       "    </tr>\n",
       "  </thead>\n",
       "  <tbody>\n",
       "    <tr>\n",
       "      <th>Married</th>\n",
       "      <td>2311.0</td>\n",
       "      <td>651899.826915</td>\n",
       "      <td>552642.799664</td>\n",
       "      <td>49349.0</td>\n",
       "      <td>224100.5</td>\n",
       "      <td>454078.0</td>\n",
       "      <td>914457.0</td>\n",
       "      <td>2440164.0</td>\n",
       "    </tr>\n",
       "    <tr>\n",
       "      <th>Unmarried</th>\n",
       "      <td>3171.0</td>\n",
       "      <td>679354.959003</td>\n",
       "      <td>571504.960030</td>\n",
       "      <td>46681.0</td>\n",
       "      <td>228750.0</td>\n",
       "      <td>483928.0</td>\n",
       "      <td>952650.0</td>\n",
       "      <td>2439560.0</td>\n",
       "    </tr>\n",
       "  </tbody>\n",
       "</table>\n",
       "</div>"
      ],
      "text/plain": [
       "                 count           mean            std      min       25%  \\\n",
       "Marital_Status                                                            \n",
       "Married         2311.0  651899.826915  552642.799664  49349.0  224100.5   \n",
       "Unmarried       3171.0  679354.959003  571504.960030  46681.0  228750.0   \n",
       "\n",
       "                     50%       75%        max  \n",
       "Marital_Status                                 \n",
       "Married         454078.0  914457.0  2440164.0  \n",
       "Unmarried       483928.0  952650.0  2439560.0  "
      ]
     },
     "execution_count": 30,
     "metadata": {},
     "output_type": "execute_result"
    }
   ],
   "source": [
    "#Marital_Status - Purchase\n",
    "\n",
    "df_copy.groupby('Marital_Status')['Purchase'].describe()"
   ]
  },
  {
   "cell_type": "code",
   "execution_count": 31,
   "id": "18506e32",
   "metadata": {},
   "outputs": [
    {
     "data": {
      "image/png": "[encoded data removed]",
      "text/plain": [
       "<Figure size 720x288 with 2 Axes>"
      ]
     },
     "metadata": {
      "needs_background": "light"
     },
     "output_type": "display_data"
    }
   ],
   "source": [
    "plt.figure(figsize=(10,4))\n",
    "\n",
    "plt.subplot(121)\n",
    "df_copy['Marital_Status'].value_counts().plot(kind='pie', autopct='%.f%%')\n",
    "\n",
    "plt.subplot(122)\n",
    "sns.boxplot(data=df_copy, y='Purchase', x='Marital_Status')\n",
    "\n",
    "plt.show()"
   ]
  },
  {
   "cell_type": "code",
   "execution_count": 32,
   "id": "f9f7ba7f",
   "metadata": {},
   "outputs": [
    {
     "data": {
      "text/html": [
       "<div>\n",
       "<style scoped>\n",
       "    .dataframe tbody tr th:only-of-type {\n",
       "        vertical-align: middle;\n",
       "    }\n",
       "\n",
       "    .dataframe tbody tr th {\n",
       "        vertical-align: top;\n",
       "    }\n",
       "\n",
       "    .dataframe thead th {\n",
       "        text-align: right;\n",
       "    }\n",
       "</style>\n",
       "<table border=\"1\" class=\"dataframe\">\n",
       "  <thead>\n",
       "    <tr style=\"text-align: right;\">\n",
       "      <th></th>\n",
       "      <th>count</th>\n",
       "      <th>mean</th>\n",
       "      <th>std</th>\n",
       "      <th>min</th>\n",
       "      <th>25%</th>\n",
       "      <th>50%</th>\n",
       "      <th>75%</th>\n",
       "      <th>max</th>\n",
       "    </tr>\n",
       "    <tr>\n",
       "      <th>Age</th>\n",
       "      <th></th>\n",
       "      <th></th>\n",
       "      <th></th>\n",
       "      <th></th>\n",
       "      <th></th>\n",
       "      <th></th>\n",
       "      <th></th>\n",
       "      <th></th>\n",
       "    </tr>\n",
       "  </thead>\n",
       "  <tbody>\n",
       "    <tr>\n",
       "      <th>0-17</th>\n",
       "      <td>213.0</td>\n",
       "      <td>541871.976526</td>\n",
       "      <td>450344.443756</td>\n",
       "      <td>75931.0</td>\n",
       "      <td>196013.00</td>\n",
       "      <td>397746.0</td>\n",
       "      <td>722532.00</td>\n",
       "      <td>2182472.0</td>\n",
       "    </tr>\n",
       "    <tr>\n",
       "      <th>18-25</th>\n",
       "      <td>1000.0</td>\n",
       "      <td>680086.987000</td>\n",
       "      <td>572342.810118</td>\n",
       "      <td>53996.0</td>\n",
       "      <td>234999.50</td>\n",
       "      <td>492983.5</td>\n",
       "      <td>949225.75</td>\n",
       "      <td>2439290.0</td>\n",
       "    </tr>\n",
       "    <tr>\n",
       "      <th>26-35</th>\n",
       "      <td>1867.0</td>\n",
       "      <td>738521.860739</td>\n",
       "      <td>603847.136635</td>\n",
       "      <td>49288.0</td>\n",
       "      <td>241787.50</td>\n",
       "      <td>536981.0</td>\n",
       "      <td>1074439.00</td>\n",
       "      <td>2439560.0</td>\n",
       "    </tr>\n",
       "    <tr>\n",
       "      <th>36-45</th>\n",
       "      <td>1084.0</td>\n",
       "      <td>672091.782288</td>\n",
       "      <td>560349.689942</td>\n",
       "      <td>55960.0</td>\n",
       "      <td>231749.50</td>\n",
       "      <td>470789.5</td>\n",
       "      <td>964854.00</td>\n",
       "      <td>2440164.0</td>\n",
       "    </tr>\n",
       "    <tr>\n",
       "      <th>46-50</th>\n",
       "      <td>498.0</td>\n",
       "      <td>599818.415663</td>\n",
       "      <td>509537.052721</td>\n",
       "      <td>62250.0</td>\n",
       "      <td>222970.25</td>\n",
       "      <td>431583.0</td>\n",
       "      <td>827704.50</td>\n",
       "      <td>2422033.0</td>\n",
       "    </tr>\n",
       "    <tr>\n",
       "      <th>51-55</th>\n",
       "      <td>454.0</td>\n",
       "      <td>620155.971366</td>\n",
       "      <td>526012.565233</td>\n",
       "      <td>46681.0</td>\n",
       "      <td>226979.25</td>\n",
       "      <td>418096.5</td>\n",
       "      <td>863333.00</td>\n",
       "      <td>2404672.0</td>\n",
       "    </tr>\n",
       "    <tr>\n",
       "      <th>55+</th>\n",
       "      <td>366.0</td>\n",
       "      <td>485358.385246</td>\n",
       "      <td>432947.679238</td>\n",
       "      <td>52371.0</td>\n",
       "      <td>177160.75</td>\n",
       "      <td>326790.5</td>\n",
       "      <td>644291.00</td>\n",
       "      <td>2120730.0</td>\n",
       "    </tr>\n",
       "  </tbody>\n",
       "</table>\n",
       "</div>"
      ],
      "text/plain": [
       "        count           mean            std      min        25%       50%  \\\n",
       "Age                                                                         \n",
       "0-17    213.0  541871.976526  450344.443756  75931.0  196013.00  397746.0   \n",
       "18-25  1000.0  680086.987000  572342.810118  53996.0  234999.50  492983.5   \n",
       "26-35  1867.0  738521.860739  603847.136635  49288.0  241787.50  536981.0   \n",
       "36-45  1084.0  672091.782288  560349.689942  55960.0  231749.50  470789.5   \n",
       "46-50   498.0  599818.415663  509537.052721  62250.0  222970.25  431583.0   \n",
       "51-55   454.0  620155.971366  526012.565233  46681.0  226979.25  418096.5   \n",
       "55+     366.0  485358.385246  432947.679238  52371.0  177160.75  326790.5   \n",
       "\n",
       "              75%        max  \n",
       "Age                           \n",
       "0-17    722532.00  2182472.0  \n",
       "18-25   949225.75  2439290.0  \n",
       "26-35  1074439.00  2439560.0  \n",
       "36-45   964854.00  2440164.0  \n",
       "46-50   827704.50  2422033.0  \n",
       "51-55   863333.00  2404672.0  \n",
       "55+     644291.00  2120730.0  "
      ]
     },
     "execution_count": 32,
     "metadata": {},
     "output_type": "execute_result"
    }
   ],
   "source": [
    "#Age - Purchase\n",
    "\n",
    "df_copy.groupby('Age')['Purchase'].describe()"
   ]
  },
  {
   "cell_type": "code",
   "execution_count": 33,
   "id": "c7b7cf43",
   "metadata": {},
   "outputs": [
    {
     "data": {
      "image/png": "[encoded data removed]",
      "text/plain": [
       "<Figure size 864x288 with 2 Axes>"
      ]
     },
     "metadata": {
      "needs_background": "light"
     },
     "output_type": "display_data"
    }
   ],
   "source": [
    "plt.figure(figsize=(12,4))\n",
    "\n",
    "plt.subplot(121)\n",
    "df_copy['Age'].value_counts().sort_index().plot(kind='bar', width=1, edgecolor='black')\n",
    "\n",
    "plt.subplot(122)\n",
    "df_copy.groupby('Age')['Purchase'].mean().plot(kind='bar', width=1, edgecolor='black', color='green')\n",
    "plt.show()"
   ]
  },
  {
   "cell_type": "code",
   "execution_count": 34,
   "id": "9c15da45",
   "metadata": {},
   "outputs": [
    {
     "data": {
      "text/html": [
       "<div>\n",
       "<style scoped>\n",
       "    .dataframe tbody tr th:only-of-type {\n",
       "        vertical-align: middle;\n",
       "    }\n",
       "\n",
       "    .dataframe tbody tr th {\n",
       "        vertical-align: top;\n",
       "    }\n",
       "\n",
       "    .dataframe thead th {\n",
       "        text-align: right;\n",
       "    }\n",
       "</style>\n",
       "<table border=\"1\" class=\"dataframe\">\n",
       "  <thead>\n",
       "    <tr style=\"text-align: right;\">\n",
       "      <th>Gender</th>\n",
       "      <th>F</th>\n",
       "      <th>M</th>\n",
       "      <th>All</th>\n",
       "    </tr>\n",
       "    <tr>\n",
       "      <th>City_Category</th>\n",
       "      <th></th>\n",
       "      <th></th>\n",
       "      <th></th>\n",
       "    </tr>\n",
       "  </thead>\n",
       "  <tbody>\n",
       "    <tr>\n",
       "      <th>A</th>\n",
       "      <td>0.047063</td>\n",
       "      <td>0.113827</td>\n",
       "      <td>0.160890</td>\n",
       "    </tr>\n",
       "    <tr>\n",
       "      <th>B</th>\n",
       "      <td>0.083546</td>\n",
       "      <td>0.183327</td>\n",
       "      <td>0.266873</td>\n",
       "    </tr>\n",
       "    <tr>\n",
       "      <th>C</th>\n",
       "      <td>0.158336</td>\n",
       "      <td>0.413900</td>\n",
       "      <td>0.572236</td>\n",
       "    </tr>\n",
       "    <tr>\n",
       "      <th>All</th>\n",
       "      <td>0.288946</td>\n",
       "      <td>0.711054</td>\n",
       "      <td>1.000000</td>\n",
       "    </tr>\n",
       "  </tbody>\n",
       "</table>\n",
       "</div>"
      ],
      "text/plain": [
       "Gender                F         M       All\n",
       "City_Category                              \n",
       "A              0.047063  0.113827  0.160890\n",
       "B              0.083546  0.183327  0.266873\n",
       "C              0.158336  0.413900  0.572236\n",
       "All            0.288946  0.711054  1.000000"
      ]
     },
     "execution_count": 34,
     "metadata": {},
     "output_type": "execute_result"
    }
   ],
   "source": [
    "#customer - city_category\n",
    "\n",
    "pd.crosstab(df_copy['City_Category'], df_copy['Gender'], normalize=True, margins=True)"
   ]
  },
  {
   "cell_type": "code",
   "execution_count": 35,
   "id": "6d473e54",
   "metadata": {},
   "outputs": [
    {
     "data": {
      "text/html": [
       "<div>\n",
       "<style scoped>\n",
       "    .dataframe tbody tr th:only-of-type {\n",
       "        vertical-align: middle;\n",
       "    }\n",
       "\n",
       "    .dataframe tbody tr th {\n",
       "        vertical-align: top;\n",
       "    }\n",
       "\n",
       "    .dataframe thead th {\n",
       "        text-align: right;\n",
       "    }\n",
       "</style>\n",
       "<table border=\"1\" class=\"dataframe\">\n",
       "  <thead>\n",
       "    <tr style=\"text-align: right;\">\n",
       "      <th></th>\n",
       "      <th>count</th>\n",
       "      <th>mean</th>\n",
       "      <th>std</th>\n",
       "      <th>min</th>\n",
       "      <th>25%</th>\n",
       "      <th>50%</th>\n",
       "      <th>75%</th>\n",
       "      <th>max</th>\n",
       "    </tr>\n",
       "    <tr>\n",
       "      <th>City_Category</th>\n",
       "      <th></th>\n",
       "      <th></th>\n",
       "      <th></th>\n",
       "      <th></th>\n",
       "      <th></th>\n",
       "      <th></th>\n",
       "      <th></th>\n",
       "      <th></th>\n",
       "    </tr>\n",
       "  </thead>\n",
       "  <tbody>\n",
       "    <tr>\n",
       "      <th>A</th>\n",
       "      <td>882.0</td>\n",
       "      <td>773710.840136</td>\n",
       "      <td>629200.514285</td>\n",
       "      <td>60182.0</td>\n",
       "      <td>246175.5</td>\n",
       "      <td>582385.5</td>\n",
       "      <td>1137523.25</td>\n",
       "      <td>2433544.0</td>\n",
       "    </tr>\n",
       "    <tr>\n",
       "      <th>B</th>\n",
       "      <td>1463.0</td>\n",
       "      <td>901884.302802</td>\n",
       "      <td>678434.598645</td>\n",
       "      <td>49668.0</td>\n",
       "      <td>314453.0</td>\n",
       "      <td>694663.0</td>\n",
       "      <td>1407874.00</td>\n",
       "      <td>2440164.0</td>\n",
       "    </tr>\n",
       "    <tr>\n",
       "      <th>C</th>\n",
       "      <td>3137.0</td>\n",
       "      <td>528819.056105</td>\n",
       "      <td>426160.807965</td>\n",
       "      <td>46681.0</td>\n",
       "      <td>201311.0</td>\n",
       "      <td>383101.0</td>\n",
       "      <td>737361.00</td>\n",
       "      <td>2413364.0</td>\n",
       "    </tr>\n",
       "  </tbody>\n",
       "</table>\n",
       "</div>"
      ],
      "text/plain": [
       "                count           mean            std      min       25%  \\\n",
       "City_Category                                                            \n",
       "A               882.0  773710.840136  629200.514285  60182.0  246175.5   \n",
       "B              1463.0  901884.302802  678434.598645  49668.0  314453.0   \n",
       "C              3137.0  528819.056105  426160.807965  46681.0  201311.0   \n",
       "\n",
       "                    50%         75%        max  \n",
       "City_Category                                   \n",
       "A              582385.5  1137523.25  2433544.0  \n",
       "B              694663.0  1407874.00  2440164.0  \n",
       "C              383101.0   737361.00  2413364.0  "
      ]
     },
     "execution_count": 35,
     "metadata": {},
     "output_type": "execute_result"
    }
   ],
   "source": [
    "#City_Category - Purchase\n",
    "\n",
    "df_copy.groupby('City_Category')['Purchase'].describe()"
   ]
  },
  {
   "cell_type": "code",
   "execution_count": 36,
   "id": "e7d11813",
   "metadata": {},
   "outputs": [
    {
     "data": {
      "image/png": "[encoded data removed]",
      "text/plain": [
       "<Figure size 864x288 with 2 Axes>"
      ]
     },
     "metadata": {
      "needs_background": "light"
     },
     "output_type": "display_data"
    }
   ],
   "source": [
    "plt.figure(figsize=(12,4))\n",
    "\n",
    "plt.subplot(121)\n",
    "sns.countplot(data=df_copy, x='City_Category', hue='Gender', order=['A', 'B', 'C'])\n",
    "\n",
    "plt.subplot(122)\n",
    "sns.barplot(data=df_copy, x='City_Category', y='Purchase', hue='Gender', order=['A', 'B', 'C'])\n",
    "plt.show()"
   ]
  },
  {
   "cell_type": "code",
   "execution_count": 37,
   "id": "cc399f1f",
   "metadata": {},
   "outputs": [
    {
     "data": {
      "text/plain": [
       "4     682\n",
       "7     626\n",
       "0     622\n",
       "1     486\n",
       "17    464\n",
       "12    362\n",
       "14    277\n",
       "20    240\n",
       "2     239\n",
       "6     210\n",
       "16    210\n",
       "10    189\n",
       "3     156\n",
       "13    138\n",
       "15    132\n",
       "11    123\n",
       "5     101\n",
       "9      84\n",
       "19     64\n",
       "18     62\n",
       "8      15\n",
       "Name: Occupation, dtype: int64"
      ]
     },
     "execution_count": 37,
     "metadata": {},
     "output_type": "execute_result"
    }
   ],
   "source": [
    "#customer - occupation\n",
    "\n",
    "df_copy['Occupation'].value_counts()"
   ]
  },
  {
   "cell_type": "code",
   "execution_count": 38,
   "id": "950946d0",
   "metadata": {},
   "outputs": [
    {
     "data": {
      "text/plain": [
       "Occupation\n",
       "19    777544.062500\n",
       "5     772524.722772\n",
       "2     758866.476987\n",
       "20    745051.133333\n",
       "11    731820.666667\n",
       "3     727973.339744\n",
       "12    720376.582873\n",
       "16    718307.047619\n",
       "15    716922.295455\n",
       "14    707634.314079\n",
       "4     686277.941349\n",
       "18    656496.403226\n",
       "0     656467.977492\n",
       "17    647113.099138\n",
       "7     638565.487220\n",
       "1     637042.872428\n",
       "6     587782.561905\n",
       "10    548561.158730\n",
       "9     485532.071429\n",
       "13    474581.050725\n",
       "8     459790.933333\n",
       "Name: Purchase, dtype: float64"
      ]
     },
     "execution_count": 38,
     "metadata": {},
     "output_type": "execute_result"
    }
   ],
   "source": [
    "#Occupation - Purchase\n",
    "\n",
    "df_copy.groupby('Occupation')['Purchase'].mean().sort_values(ascending=False)"
   ]
  },
  {
   "cell_type": "code",
   "execution_count": 39,
   "id": "8bc98ed4",
   "metadata": {},
   "outputs": [
    {
     "data": {
      "image/png": "[encoded data removed]",
      "text/plain": [
       "<Figure size 864x360 with 2 Axes>"
      ]
     },
     "metadata": {
      "needs_background": "light"
     },
     "output_type": "display_data"
    }
   ],
   "source": [
    "plt.figure(figsize=(12,5))\n",
    "\n",
    "plt.subplot(121)\n",
    "plt.title('Occupation vs Count')\n",
    "df_copy['Occupation'].value_counts().plot(kind='barh', color='indigo')\n",
    "plt.gca().invert_yaxis()\n",
    "\n",
    "plt.subplot(122)\n",
    "plt.title('Ocupation vs Mean purchase')\n",
    "df_copy.groupby('Occupation')['Purchase'].mean().sort_values(ascending=False).plot(kind='barh', color='green')\n",
    "plt.gca().invert_yaxis()\n",
    "\n",
    "plt.show()"
   ]
  },
  {
   "cell_type": "code",
   "execution_count": 40,
   "id": "086e66cb",
   "metadata": {},
   "outputs": [
    {
     "data": {
      "text/plain": [
       "1     1944\n",
       "2     1082\n",
       "3      903\n",
       "4+     839\n",
       "0      714\n",
       "Name: Stay_In_Current_City_Years, dtype: int64"
      ]
     },
     "execution_count": 40,
     "metadata": {},
     "output_type": "execute_result"
    }
   ],
   "source": [
    "#customer - stay in current city\n",
    "\n",
    "df_copy['Stay_In_Current_City_Years'].value_counts()"
   ]
  },
  {
   "cell_type": "code",
   "execution_count": 41,
   "id": "2f8f10df",
   "metadata": {},
   "outputs": [
    {
     "data": {
      "text/html": [
       "<div>\n",
       "<style scoped>\n",
       "    .dataframe tbody tr th:only-of-type {\n",
       "        vertical-align: middle;\n",
       "    }\n",
       "\n",
       "    .dataframe tbody tr th {\n",
       "        vertical-align: top;\n",
       "    }\n",
       "\n",
       "    .dataframe thead th {\n",
       "        text-align: right;\n",
       "    }\n",
       "</style>\n",
       "<table border=\"1\" class=\"dataframe\">\n",
       "  <thead>\n",
       "    <tr style=\"text-align: right;\">\n",
       "      <th></th>\n",
       "      <th>count</th>\n",
       "      <th>mean</th>\n",
       "      <th>std</th>\n",
       "      <th>min</th>\n",
       "      <th>25%</th>\n",
       "      <th>50%</th>\n",
       "      <th>75%</th>\n",
       "      <th>max</th>\n",
       "    </tr>\n",
       "    <tr>\n",
       "      <th>Stay_In_Current_City_Years</th>\n",
       "      <th></th>\n",
       "      <th></th>\n",
       "      <th></th>\n",
       "      <th></th>\n",
       "      <th></th>\n",
       "      <th></th>\n",
       "      <th></th>\n",
       "      <th></th>\n",
       "    </tr>\n",
       "  </thead>\n",
       "  <tbody>\n",
       "    <tr>\n",
       "      <th>0</th>\n",
       "      <td>714.0</td>\n",
       "      <td>659472.676471</td>\n",
       "      <td>561164.506473</td>\n",
       "      <td>49668.0</td>\n",
       "      <td>216592.25</td>\n",
       "      <td>464982.0</td>\n",
       "      <td>925204.75</td>\n",
       "      <td>2418970.0</td>\n",
       "    </tr>\n",
       "    <tr>\n",
       "      <th>1</th>\n",
       "      <td>1944.0</td>\n",
       "      <td>668286.765432</td>\n",
       "      <td>567141.346970</td>\n",
       "      <td>46681.0</td>\n",
       "      <td>226470.50</td>\n",
       "      <td>465305.5</td>\n",
       "      <td>947524.75</td>\n",
       "      <td>2439560.0</td>\n",
       "    </tr>\n",
       "    <tr>\n",
       "      <th>2</th>\n",
       "      <td>1082.0</td>\n",
       "      <td>681871.243068</td>\n",
       "      <td>587422.332584</td>\n",
       "      <td>49349.0</td>\n",
       "      <td>229573.50</td>\n",
       "      <td>471055.0</td>\n",
       "      <td>947721.50</td>\n",
       "      <td>2439290.0</td>\n",
       "    </tr>\n",
       "    <tr>\n",
       "      <th>3</th>\n",
       "      <td>903.0</td>\n",
       "      <td>678127.352159</td>\n",
       "      <td>566502.423021</td>\n",
       "      <td>52371.0</td>\n",
       "      <td>228540.50</td>\n",
       "      <td>493220.0</td>\n",
       "      <td>949709.00</td>\n",
       "      <td>2440164.0</td>\n",
       "    </tr>\n",
       "    <tr>\n",
       "      <th>4+</th>\n",
       "      <td>839.0</td>\n",
       "      <td>644372.381406</td>\n",
       "      <td>522854.771165</td>\n",
       "      <td>53996.0</td>\n",
       "      <td>233020.50</td>\n",
       "      <td>464179.0</td>\n",
       "      <td>896088.00</td>\n",
       "      <td>2418670.0</td>\n",
       "    </tr>\n",
       "  </tbody>\n",
       "</table>\n",
       "</div>"
      ],
      "text/plain": [
       "                             count           mean            std      min  \\\n",
       "Stay_In_Current_City_Years                                                  \n",
       "0                            714.0  659472.676471  561164.506473  49668.0   \n",
       "1                           1944.0  668286.765432  567141.346970  46681.0   \n",
       "2                           1082.0  681871.243068  587422.332584  49349.0   \n",
       "3                            903.0  678127.352159  566502.423021  52371.0   \n",
       "4+                           839.0  644372.381406  522854.771165  53996.0   \n",
       "\n",
       "                                  25%       50%        75%        max  \n",
       "Stay_In_Current_City_Years                                             \n",
       "0                           216592.25  464982.0  925204.75  2418970.0  \n",
       "1                           226470.50  465305.5  947524.75  2439560.0  \n",
       "2                           229573.50  471055.0  947721.50  2439290.0  \n",
       "3                           228540.50  493220.0  949709.00  2440164.0  \n",
       "4+                          233020.50  464179.0  896088.00  2418670.0  "
      ]
     },
     "execution_count": 41,
     "metadata": {},
     "output_type": "execute_result"
    }
   ],
   "source": [
    "#stay in current city - Purchase\n",
    "\n",
    "df_copy.groupby('Stay_In_Current_City_Years')['Purchase'].describe()"
   ]
  },
  {
   "cell_type": "code",
   "execution_count": 42,
   "id": "801a54f1",
   "metadata": {},
   "outputs": [
    {
     "data": {
      "image/png": "[encoded data removed]",
      "text/plain": [
       "<Figure size 864x288 with 2 Axes>"
      ]
     },
     "metadata": {
      "needs_background": "light"
     },
     "output_type": "display_data"
    }
   ],
   "source": [
    "plt.figure(figsize=(12,4))\n",
    "\n",
    "year= ['0','1','2','3','4+']\n",
    "city = ['A', 'B', 'C']\n",
    "plt.subplot(121)\n",
    "sns.countplot(data=df_copy, x='Stay_In_Current_City_Years', hue='City_Category', hue_order=city, order=year)\n",
    "\n",
    "plt.subplot(122)\n",
    "sns.barplot(data=df_copy, x='Stay_In_Current_City_Years', y='Purchase', order=year)\n",
    "plt.show()"
   ]
  },
  {
   "cell_type": "markdown",
   "id": "6b7bbe97",
   "metadata": {},
   "source": [
    "* Most of the customers have stayed in the current city just for an year"
   ]
  },
  {
   "cell_type": "markdown",
   "id": "01612f48",
   "metadata": {},
   "source": [
    "## **Observations and Insights made on the basis of above plots**\n",
    "1. Median purchase amount - 473,000<br><br>\n",
    "2. 50% of the customers have purchased in the range 227,200 - 1,119,300<br><br>\n",
    "3. Median purchase of a female customer is 379,900 whereas that of male customers are 513,400, 35% higher<br><br>\n",
    "4. No significant difference can be observed between the spending behaviour of married and unmarried customers<br><br>\n",
    "5. 34% of the customers belong to age group 26-35 and 72% of the customers are in an age range 18-45<br><br>\n",
    "6. Median purchase amount is highest in age group 26-35 and lowest in age group 55+<br><br>\n",
    "7. More than half of the customers belong to city category C however, it is the category where median purchase price is lowest whereas the highest is from category B<br><br>\n",
    "8. Customers with occupation 19 tend to purchase for higher amount but, only 1% of the total customers belong to that category and the least average purchase price is for customers with occupation 8 which accounts for less than 1%<br><br>\n",
    "9. 35% of the customers have an occupation of either 4,7 or 0 and they have an average purchase price between 600k-700k<br><br>\n",
    "10. Majority of the customers have stayed in the current city for just an year but no correlation is found between customers' spending behavior and years stayed in a city."
   ]
  },
  {
   "cell_type": "markdown",
   "id": "6ad19cca",
   "metadata": {},
   "source": [
    "## **Analyzing customers with number of purchases**"
   ]
  },
  {
   "cell_type": "code",
   "execution_count": 43,
   "id": "e86637b2",
   "metadata": {},
   "outputs": [],
   "source": [
    "df_new = df['User_ID'].value_counts().to_frame().rename(columns={'User_ID':'Purchase_count'}).reset_index()\n",
    "df_customer = df_customer.merge(df_new, left_on='User_ID', right_on='index').drop('index', axis=1)"
   ]
  },
  {
   "cell_type": "code",
   "execution_count": 44,
   "id": "15b2b8e6",
   "metadata": {},
   "outputs": [],
   "source": [
    "#Introducing feature average purchase price\n",
    "df_customer['Avg_Price'] = df_customer['Purchase']/df_customer['Purchase_count']"
   ]
  },
  {
   "cell_type": "code",
   "execution_count": 45,
   "id": "a0b62fd0",
   "metadata": {
    "scrolled": true
   },
   "outputs": [
    {
     "data": {
      "text/html": [
       "<div>\n",
       "<style scoped>\n",
       "    .dataframe tbody tr th:only-of-type {\n",
       "        vertical-align: middle;\n",
       "    }\n",
       "\n",
       "    .dataframe tbody tr th {\n",
       "        vertical-align: top;\n",
       "    }\n",
       "\n",
       "    .dataframe thead th {\n",
       "        text-align: right;\n",
       "    }\n",
       "</style>\n",
       "<table border=\"1\" class=\"dataframe\">\n",
       "  <thead>\n",
       "    <tr style=\"text-align: right;\">\n",
       "      <th></th>\n",
       "      <th>User_ID</th>\n",
       "      <th>Gender</th>\n",
       "      <th>Age</th>\n",
       "      <th>Occupation</th>\n",
       "      <th>City_Category</th>\n",
       "      <th>Stay_In_Current_City_Years</th>\n",
       "      <th>Marital_Status</th>\n",
       "      <th>Purchase</th>\n",
       "      <th>Purchase_count</th>\n",
       "      <th>Avg_Price</th>\n",
       "    </tr>\n",
       "  </thead>\n",
       "  <tbody>\n",
       "    <tr>\n",
       "      <th>0</th>\n",
       "      <td>1000001</td>\n",
       "      <td>F</td>\n",
       "      <td>0-17</td>\n",
       "      <td>10</td>\n",
       "      <td>A</td>\n",
       "      <td>2</td>\n",
       "      <td>Unmarried</td>\n",
       "      <td>334093</td>\n",
       "      <td>35</td>\n",
       "      <td>9545.514286</td>\n",
       "    </tr>\n",
       "    <tr>\n",
       "      <th>1</th>\n",
       "      <td>1000002</td>\n",
       "      <td>M</td>\n",
       "      <td>55+</td>\n",
       "      <td>16</td>\n",
       "      <td>C</td>\n",
       "      <td>4+</td>\n",
       "      <td>Unmarried</td>\n",
       "      <td>810472</td>\n",
       "      <td>77</td>\n",
       "      <td>10525.610390</td>\n",
       "    </tr>\n",
       "    <tr>\n",
       "      <th>2</th>\n",
       "      <td>1000003</td>\n",
       "      <td>M</td>\n",
       "      <td>26-35</td>\n",
       "      <td>15</td>\n",
       "      <td>A</td>\n",
       "      <td>3</td>\n",
       "      <td>Unmarried</td>\n",
       "      <td>341635</td>\n",
       "      <td>29</td>\n",
       "      <td>11780.517241</td>\n",
       "    </tr>\n",
       "    <tr>\n",
       "      <th>3</th>\n",
       "      <td>1000004</td>\n",
       "      <td>M</td>\n",
       "      <td>46-50</td>\n",
       "      <td>7</td>\n",
       "      <td>B</td>\n",
       "      <td>2</td>\n",
       "      <td>Married</td>\n",
       "      <td>206468</td>\n",
       "      <td>14</td>\n",
       "      <td>14747.714286</td>\n",
       "    </tr>\n",
       "    <tr>\n",
       "      <th>4</th>\n",
       "      <td>1000005</td>\n",
       "      <td>M</td>\n",
       "      <td>26-35</td>\n",
       "      <td>20</td>\n",
       "      <td>A</td>\n",
       "      <td>1</td>\n",
       "      <td>Married</td>\n",
       "      <td>821001</td>\n",
       "      <td>106</td>\n",
       "      <td>7745.292453</td>\n",
       "    </tr>\n",
       "  </tbody>\n",
       "</table>\n",
       "</div>"
      ],
      "text/plain": [
       "   User_ID Gender    Age  Occupation City_Category Stay_In_Current_City_Years  \\\n",
       "0  1000001      F   0-17          10             A                          2   \n",
       "1  1000002      M    55+          16             C                         4+   \n",
       "2  1000003      M  26-35          15             A                          3   \n",
       "3  1000004      M  46-50           7             B                          2   \n",
       "4  1000005      M  26-35          20             A                          1   \n",
       "\n",
       "  Marital_Status  Purchase  Purchase_count     Avg_Price  \n",
       "0      Unmarried    334093              35   9545.514286  \n",
       "1      Unmarried    810472              77  10525.610390  \n",
       "2      Unmarried    341635              29  11780.517241  \n",
       "3        Married    206468              14  14747.714286  \n",
       "4        Married    821001             106   7745.292453  "
      ]
     },
     "execution_count": 45,
     "metadata": {},
     "output_type": "execute_result"
    }
   ],
   "source": [
    "df_customer.head()"
   ]
  },
  {
   "cell_type": "code",
   "execution_count": 46,
   "id": "a969038d",
   "metadata": {},
   "outputs": [
    {
     "data": {
      "text/html": [
       "<div>\n",
       "<style scoped>\n",
       "    .dataframe tbody tr th:only-of-type {\n",
       "        vertical-align: middle;\n",
       "    }\n",
       "\n",
       "    .dataframe tbody tr th {\n",
       "        vertical-align: top;\n",
       "    }\n",
       "\n",
       "    .dataframe thead th {\n",
       "        text-align: right;\n",
       "    }\n",
       "</style>\n",
       "<table border=\"1\" class=\"dataframe\">\n",
       "  <thead>\n",
       "    <tr style=\"text-align: right;\">\n",
       "      <th></th>\n",
       "      <th>Purchase_count</th>\n",
       "    </tr>\n",
       "  </thead>\n",
       "  <tbody>\n",
       "    <tr>\n",
       "      <th>count</th>\n",
       "      <td>5891.000000</td>\n",
       "    </tr>\n",
       "    <tr>\n",
       "      <th>mean</th>\n",
       "      <td>93.374300</td>\n",
       "    </tr>\n",
       "    <tr>\n",
       "      <th>std</th>\n",
       "      <td>107.190049</td>\n",
       "    </tr>\n",
       "    <tr>\n",
       "      <th>min</th>\n",
       "      <td>6.000000</td>\n",
       "    </tr>\n",
       "    <tr>\n",
       "      <th>25%</th>\n",
       "      <td>26.000000</td>\n",
       "    </tr>\n",
       "    <tr>\n",
       "      <th>50%</th>\n",
       "      <td>54.000000</td>\n",
       "    </tr>\n",
       "    <tr>\n",
       "      <th>75%</th>\n",
       "      <td>117.000000</td>\n",
       "    </tr>\n",
       "    <tr>\n",
       "      <th>max</th>\n",
       "      <td>1026.000000</td>\n",
       "    </tr>\n",
       "  </tbody>\n",
       "</table>\n",
       "</div>"
      ],
      "text/plain": [
       "       Purchase_count\n",
       "count     5891.000000\n",
       "mean        93.374300\n",
       "std        107.190049\n",
       "min          6.000000\n",
       "25%         26.000000\n",
       "50%         54.000000\n",
       "75%        117.000000\n",
       "max       1026.000000"
      ]
     },
     "execution_count": 46,
     "metadata": {},
     "output_type": "execute_result"
    }
   ],
   "source": [
    "# customer - purchase\n",
    "\n",
    "df_customer['Purchase_count'].describe().to_frame()"
   ]
  },
  {
   "cell_type": "code",
   "execution_count": 47,
   "id": "45658148",
   "metadata": {},
   "outputs": [
    {
     "data": {
      "image/png": "[encoded data removed]",
      "text/plain": [
       "<Figure size 864x432 with 2 Axes>"
      ]
     },
     "metadata": {
      "needs_background": "light"
     },
     "output_type": "display_data"
    }
   ],
   "source": [
    "plt.figure(figsize=(12,6))\n",
    "\n",
    "plt.subplot(121)\n",
    "sns.boxplot(data=df_customer, y='Purchase_count')\n",
    "\n",
    "plt.subplot(122)\n",
    "sns.histplot(data=df_customer, x='Purchase_count', kde=True)\n",
    "plt.show()"
   ]
  },
  {
   "cell_type": "markdown",
   "id": "784d3f3e",
   "metadata": {},
   "source": [
    "### **Outlier treatment**"
   ]
  },
  {
   "cell_type": "code",
   "execution_count": 48,
   "id": "a7cb7d8a",
   "metadata": {},
   "outputs": [
    {
     "name": "stdout",
     "output_type": "stream",
     "text": [
      "6 253.5\n"
     ]
    }
   ],
   "source": [
    "Q1 = df_customer['Purchase_count'].quantile(0.25)\n",
    "Q3 = df_customer['Purchase_count'].quantile(0.75)\n",
    "IQR = Q3 - Q1\n",
    "low_lt = max(min(df_customer['Purchase_count']), Q1 - 1.5*IQR)\n",
    "up_lt = min(max(df_customer['Purchase_count']), Q3 + 1.5*IQR)\n",
    "print(low_lt, up_lt)"
   ]
  },
  {
   "cell_type": "markdown",
   "id": "cdb037e4",
   "metadata": {},
   "source": [
    "**Observing the distribution after removing outliers**"
   ]
  },
  {
   "cell_type": "code",
   "execution_count": 49,
   "id": "4a3a315b",
   "metadata": {},
   "outputs": [
    {
     "data": {
      "text/html": [
       "<div>\n",
       "<style scoped>\n",
       "    .dataframe tbody tr th:only-of-type {\n",
       "        vertical-align: middle;\n",
       "    }\n",
       "\n",
       "    .dataframe tbody tr th {\n",
       "        vertical-align: top;\n",
       "    }\n",
       "\n",
       "    .dataframe thead th {\n",
       "        text-align: right;\n",
       "    }\n",
       "</style>\n",
       "<table border=\"1\" class=\"dataframe\">\n",
       "  <thead>\n",
       "    <tr style=\"text-align: right;\">\n",
       "      <th></th>\n",
       "      <th>Purchase_count</th>\n",
       "    </tr>\n",
       "  </thead>\n",
       "  <tbody>\n",
       "    <tr>\n",
       "      <th>count</th>\n",
       "      <td>5418.000000</td>\n",
       "    </tr>\n",
       "    <tr>\n",
       "      <th>mean</th>\n",
       "      <td>68.210225</td>\n",
       "    </tr>\n",
       "    <tr>\n",
       "      <th>std</th>\n",
       "      <td>57.369997</td>\n",
       "    </tr>\n",
       "    <tr>\n",
       "      <th>min</th>\n",
       "      <td>6.000000</td>\n",
       "    </tr>\n",
       "    <tr>\n",
       "      <th>25%</th>\n",
       "      <td>24.000000</td>\n",
       "    </tr>\n",
       "    <tr>\n",
       "      <th>50%</th>\n",
       "      <td>48.000000</td>\n",
       "    </tr>\n",
       "    <tr>\n",
       "      <th>75%</th>\n",
       "      <td>95.000000</td>\n",
       "    </tr>\n",
       "    <tr>\n",
       "      <th>max</th>\n",
       "      <td>253.000000</td>\n",
       "    </tr>\n",
       "  </tbody>\n",
       "</table>\n",
       "</div>"
      ],
      "text/plain": [
       "       Purchase_count\n",
       "count     5418.000000\n",
       "mean        68.210225\n",
       "std         57.369997\n",
       "min          6.000000\n",
       "25%         24.000000\n",
       "50%         48.000000\n",
       "75%         95.000000\n",
       "max        253.000000"
      ]
     },
     "execution_count": 49,
     "metadata": {},
     "output_type": "execute_result"
    }
   ],
   "source": [
    "df_copy_count = df_customer[df_customer['Purchase_count'] <= up_lt]\n",
    "# customer - purchase\n",
    "df_copy_count['Purchase_count'].describe().to_frame()"
   ]
  },
  {
   "cell_type": "code",
   "execution_count": 50,
   "id": "27270137",
   "metadata": {},
   "outputs": [
    {
     "data": {
      "image/png": "[encoded data removed]",
      "text/plain": [
       "<Figure size 864x432 with 2 Axes>"
      ]
     },
     "metadata": {
      "needs_background": "light"
     },
     "output_type": "display_data"
    }
   ],
   "source": [
    "plt.figure(figsize=(12,6))\n",
    "\n",
    "plt.subplot(121)\n",
    "sns.boxplot(data=df_copy_count, y='Purchase_count')\n",
    "\n",
    "plt.subplot(122)\n",
    "sns.histplot(data=df_copy_count, x='Purchase_count', kde=True)\n",
    "plt.show()"
   ]
  },
  {
   "cell_type": "code",
   "execution_count": 51,
   "id": "1b14c557",
   "metadata": {},
   "outputs": [
    {
     "data": {
      "text/html": [
       "<div>\n",
       "<style scoped>\n",
       "    .dataframe tbody tr th:only-of-type {\n",
       "        vertical-align: middle;\n",
       "    }\n",
       "\n",
       "    .dataframe tbody tr th {\n",
       "        vertical-align: top;\n",
       "    }\n",
       "\n",
       "    .dataframe thead th {\n",
       "        text-align: right;\n",
       "    }\n",
       "</style>\n",
       "<table border=\"1\" class=\"dataframe\">\n",
       "  <thead>\n",
       "    <tr style=\"text-align: right;\">\n",
       "      <th></th>\n",
       "      <th>count</th>\n",
       "      <th>mean</th>\n",
       "      <th>std</th>\n",
       "      <th>min</th>\n",
       "      <th>25%</th>\n",
       "      <th>50%</th>\n",
       "      <th>75%</th>\n",
       "      <th>max</th>\n",
       "    </tr>\n",
       "    <tr>\n",
       "      <th>Gender</th>\n",
       "      <th></th>\n",
       "      <th></th>\n",
       "      <th></th>\n",
       "      <th></th>\n",
       "      <th></th>\n",
       "      <th></th>\n",
       "      <th></th>\n",
       "      <th></th>\n",
       "    </tr>\n",
       "  </thead>\n",
       "  <tbody>\n",
       "    <tr>\n",
       "      <th>F</th>\n",
       "      <td>1565.0</td>\n",
       "      <td>62.314377</td>\n",
       "      <td>55.002670</td>\n",
       "      <td>7.0</td>\n",
       "      <td>22.0</td>\n",
       "      <td>41.0</td>\n",
       "      <td>84.0</td>\n",
       "      <td>247.0</td>\n",
       "    </tr>\n",
       "    <tr>\n",
       "      <th>M</th>\n",
       "      <td>3853.0</td>\n",
       "      <td>70.604983</td>\n",
       "      <td>58.140547</td>\n",
       "      <td>6.0</td>\n",
       "      <td>25.0</td>\n",
       "      <td>51.0</td>\n",
       "      <td>98.0</td>\n",
       "      <td>253.0</td>\n",
       "    </tr>\n",
       "  </tbody>\n",
       "</table>\n",
       "</div>"
      ],
      "text/plain": [
       "         count       mean        std  min   25%   50%   75%    max\n",
       "Gender                                                            \n",
       "F       1565.0  62.314377  55.002670  7.0  22.0  41.0  84.0  247.0\n",
       "M       3853.0  70.604983  58.140547  6.0  25.0  51.0  98.0  253.0"
      ]
     },
     "execution_count": 51,
     "metadata": {},
     "output_type": "execute_result"
    }
   ],
   "source": [
    "#Gender - Purchase\n",
    "\n",
    "df_copy_count.groupby('Gender')['Purchase_count'].describe()"
   ]
  },
  {
   "cell_type": "code",
   "execution_count": 52,
   "id": "54e1bc63",
   "metadata": {},
   "outputs": [
    {
     "data": {
      "image/png": "[encoded data removed]",
      "text/plain": [
       "<Figure size 720x288 with 2 Axes>"
      ]
     },
     "metadata": {
      "needs_background": "light"
     },
     "output_type": "display_data"
    }
   ],
   "source": [
    "plt.figure(figsize=(10,4))\n",
    "\n",
    "plt.subplot(121)\n",
    "sns.violinplot(data=df_copy_count, y='Purchase_count', x='Gender')\n",
    "\n",
    "plt.subplot(122)\n",
    "sns.violinplot(data=df_copy_count, y='Purchase_count', x='Marital_Status')\n",
    "\n",
    "plt.show()"
   ]
  },
  {
   "cell_type": "code",
   "execution_count": 53,
   "id": "a5f71674",
   "metadata": {},
   "outputs": [
    {
     "data": {
      "text/html": [
       "<div>\n",
       "<style scoped>\n",
       "    .dataframe tbody tr th:only-of-type {\n",
       "        vertical-align: middle;\n",
       "    }\n",
       "\n",
       "    .dataframe tbody tr th {\n",
       "        vertical-align: top;\n",
       "    }\n",
       "\n",
       "    .dataframe thead th {\n",
       "        text-align: right;\n",
       "    }\n",
       "</style>\n",
       "<table border=\"1\" class=\"dataframe\">\n",
       "  <thead>\n",
       "    <tr style=\"text-align: right;\">\n",
       "      <th></th>\n",
       "      <th>count</th>\n",
       "      <th>mean</th>\n",
       "      <th>std</th>\n",
       "      <th>min</th>\n",
       "      <th>25%</th>\n",
       "      <th>50%</th>\n",
       "      <th>75%</th>\n",
       "      <th>max</th>\n",
       "    </tr>\n",
       "    <tr>\n",
       "      <th>Age</th>\n",
       "      <th></th>\n",
       "      <th></th>\n",
       "      <th></th>\n",
       "      <th></th>\n",
       "      <th></th>\n",
       "      <th></th>\n",
       "      <th></th>\n",
       "      <th></th>\n",
       "    </tr>\n",
       "  </thead>\n",
       "  <tbody>\n",
       "    <tr>\n",
       "      <th>0-17</th>\n",
       "      <td>212.0</td>\n",
       "      <td>59.438679</td>\n",
       "      <td>47.580822</td>\n",
       "      <td>9.0</td>\n",
       "      <td>24.0</td>\n",
       "      <td>44.0</td>\n",
       "      <td>80.5</td>\n",
       "      <td>237.0</td>\n",
       "    </tr>\n",
       "    <tr>\n",
       "      <th>18-25</th>\n",
       "      <td>990.0</td>\n",
       "      <td>70.434343</td>\n",
       "      <td>59.612290</td>\n",
       "      <td>7.0</td>\n",
       "      <td>24.0</td>\n",
       "      <td>50.5</td>\n",
       "      <td>95.0</td>\n",
       "      <td>251.0</td>\n",
       "    </tr>\n",
       "    <tr>\n",
       "      <th>26-35</th>\n",
       "      <td>1828.0</td>\n",
       "      <td>73.788840</td>\n",
       "      <td>60.181065</td>\n",
       "      <td>6.0</td>\n",
       "      <td>26.0</td>\n",
       "      <td>53.5</td>\n",
       "      <td>105.0</td>\n",
       "      <td>253.0</td>\n",
       "    </tr>\n",
       "    <tr>\n",
       "      <th>36-45</th>\n",
       "      <td>1076.0</td>\n",
       "      <td>68.680297</td>\n",
       "      <td>57.595785</td>\n",
       "      <td>8.0</td>\n",
       "      <td>24.0</td>\n",
       "      <td>48.0</td>\n",
       "      <td>97.0</td>\n",
       "      <td>251.0</td>\n",
       "    </tr>\n",
       "    <tr>\n",
       "      <th>46-50</th>\n",
       "      <td>493.0</td>\n",
       "      <td>61.833671</td>\n",
       "      <td>52.431612</td>\n",
       "      <td>8.0</td>\n",
       "      <td>24.0</td>\n",
       "      <td>43.0</td>\n",
       "      <td>81.0</td>\n",
       "      <td>249.0</td>\n",
       "    </tr>\n",
       "    <tr>\n",
       "      <th>51-55</th>\n",
       "      <td>453.0</td>\n",
       "      <td>64.156733</td>\n",
       "      <td>54.508785</td>\n",
       "      <td>7.0</td>\n",
       "      <td>24.0</td>\n",
       "      <td>45.0</td>\n",
       "      <td>90.0</td>\n",
       "      <td>252.0</td>\n",
       "    </tr>\n",
       "    <tr>\n",
       "      <th>55+</th>\n",
       "      <td>366.0</td>\n",
       "      <td>51.636612</td>\n",
       "      <td>45.387847</td>\n",
       "      <td>7.0</td>\n",
       "      <td>18.0</td>\n",
       "      <td>36.0</td>\n",
       "      <td>70.0</td>\n",
       "      <td>230.0</td>\n",
       "    </tr>\n",
       "  </tbody>\n",
       "</table>\n",
       "</div>"
      ],
      "text/plain": [
       "        count       mean        std  min   25%   50%    75%    max\n",
       "Age                                                               \n",
       "0-17    212.0  59.438679  47.580822  9.0  24.0  44.0   80.5  237.0\n",
       "18-25   990.0  70.434343  59.612290  7.0  24.0  50.5   95.0  251.0\n",
       "26-35  1828.0  73.788840  60.181065  6.0  26.0  53.5  105.0  253.0\n",
       "36-45  1076.0  68.680297  57.595785  8.0  24.0  48.0   97.0  251.0\n",
       "46-50   493.0  61.833671  52.431612  8.0  24.0  43.0   81.0  249.0\n",
       "51-55   453.0  64.156733  54.508785  7.0  24.0  45.0   90.0  252.0\n",
       "55+     366.0  51.636612  45.387847  7.0  18.0  36.0   70.0  230.0"
      ]
     },
     "execution_count": 53,
     "metadata": {},
     "output_type": "execute_result"
    }
   ],
   "source": [
    "#Age - Purchase\n",
    "\n",
    "df_copy_count.groupby('Age')['Purchase_count'].describe()"
   ]
  },
  {
   "cell_type": "code",
   "execution_count": 54,
   "id": "5990ac47",
   "metadata": {},
   "outputs": [
    {
     "data": {
      "image/png": "[encoded data removed]",
      "text/plain": [
       "<Figure size 864x288 with 2 Axes>"
      ]
     },
     "metadata": {
      "needs_background": "light"
     },
     "output_type": "display_data"
    }
   ],
   "source": [
    "plt.figure(figsize=(12,4))\n",
    "\n",
    "plt.subplot(121)\n",
    "plt.title('Purchase Count')\n",
    "df_copy_count.groupby('Age')['Purchase_count'].mean().plot(kind='bar', width=1, edgecolor='black', color='indigo')\n",
    "\n",
    "plt.subplot(122)\n",
    "plt.title('Purchase Amount')\n",
    "df_copy.groupby('Age')['Purchase'].mean().plot(kind='bar', width=1, edgecolor='black', color='green')\n",
    "plt.show()"
   ]
  },
  {
   "cell_type": "markdown",
   "id": "81088bdb",
   "metadata": {},
   "source": [
    "**Average Purchase**"
   ]
  },
  {
   "cell_type": "code",
   "execution_count": 55,
   "id": "a5b526ac",
   "metadata": {},
   "outputs": [
    {
     "data": {
      "text/html": [
       "<div>\n",
       "<style scoped>\n",
       "    .dataframe tbody tr th:only-of-type {\n",
       "        vertical-align: middle;\n",
       "    }\n",
       "\n",
       "    .dataframe tbody tr th {\n",
       "        vertical-align: top;\n",
       "    }\n",
       "\n",
       "    .dataframe thead th {\n",
       "        text-align: right;\n",
       "    }\n",
       "</style>\n",
       "<table border=\"1\" class=\"dataframe\">\n",
       "  <thead>\n",
       "    <tr style=\"text-align: right;\">\n",
       "      <th></th>\n",
       "      <th>Avg_Price</th>\n",
       "    </tr>\n",
       "  </thead>\n",
       "  <tbody>\n",
       "    <tr>\n",
       "      <th>count</th>\n",
       "      <td>5891.000000</td>\n",
       "    </tr>\n",
       "    <tr>\n",
       "      <th>mean</th>\n",
       "      <td>9568.839914</td>\n",
       "    </tr>\n",
       "    <tr>\n",
       "      <th>std</th>\n",
       "      <td>1890.087105</td>\n",
       "    </tr>\n",
       "    <tr>\n",
       "      <th>min</th>\n",
       "      <td>2318.733333</td>\n",
       "    </tr>\n",
       "    <tr>\n",
       "      <th>25%</th>\n",
       "      <td>8287.212366</td>\n",
       "    </tr>\n",
       "    <tr>\n",
       "      <th>50%</th>\n",
       "      <td>9386.208333</td>\n",
       "    </tr>\n",
       "    <tr>\n",
       "      <th>75%</th>\n",
       "      <td>10654.633199</td>\n",
       "    </tr>\n",
       "    <tr>\n",
       "      <th>max</th>\n",
       "      <td>18577.893617</td>\n",
       "    </tr>\n",
       "  </tbody>\n",
       "</table>\n",
       "</div>"
      ],
      "text/plain": [
       "          Avg_Price\n",
       "count   5891.000000\n",
       "mean    9568.839914\n",
       "std     1890.087105\n",
       "min     2318.733333\n",
       "25%     8287.212366\n",
       "50%     9386.208333\n",
       "75%    10654.633199\n",
       "max    18577.893617"
      ]
     },
     "execution_count": 55,
     "metadata": {},
     "output_type": "execute_result"
    }
   ],
   "source": [
    "# customer - purchase\n",
    "\n",
    "df_customer['Avg_Price'].describe().to_frame()"
   ]
  },
  {
   "cell_type": "markdown",
   "id": "43954b6e",
   "metadata": {},
   "source": [
    "## **Analyzing Product category with Gender/Marital Status**"
   ]
  },
  {
   "cell_type": "code",
   "execution_count": 56,
   "id": "a3cfb353",
   "metadata": {},
   "outputs": [
    {
     "data": {
      "text/plain": [
       "1     115547\n",
       "5     108972\n",
       "8      80367\n",
       "11     19548\n",
       "2      18206\n",
       "Name: Product_Category, dtype: int64"
      ]
     },
     "execution_count": 56,
     "metadata": {},
     "output_type": "execute_result"
    }
   ],
   "source": [
    "df[df['Gender']=='M']['Product_Category'].value_counts().head()"
   ]
  },
  {
   "cell_type": "code",
   "execution_count": 57,
   "id": "2f15675c",
   "metadata": {},
   "outputs": [
    {
     "data": {
      "text/plain": [
       "5    41961\n",
       "8    33558\n",
       "1    24831\n",
       "3     6006\n",
       "2     5658\n",
       "Name: Product_Category, dtype: int64"
      ]
     },
     "execution_count": 57,
     "metadata": {},
     "output_type": "execute_result"
    }
   ],
   "source": [
    "df[df['Gender']=='F']['Product_Category'].value_counts().head()"
   ]
  },
  {
   "cell_type": "code",
   "execution_count": 58,
   "id": "260e7612",
   "metadata": {},
   "outputs": [
    {
     "data": {
      "image/png": "[encoded data removed]",
      "text/plain": [
       "<Figure size 432x288 with 1 Axes>"
      ]
     },
     "metadata": {
      "needs_background": "light"
     },
     "output_type": "display_data"
    }
   ],
   "source": [
    "sns.countplot(data=df, x='Product_Category', hue='Gender')\n",
    "plt.show()"
   ]
  },
  {
   "cell_type": "code",
   "execution_count": 59,
   "id": "6b2d559f",
   "metadata": {},
   "outputs": [
    {
     "data": {
      "text/plain": [
       "5     61277\n",
       "1     56003\n",
       "8     48514\n",
       "2      9726\n",
       "11     9619\n",
       "Name: Product_Category, dtype: int64"
      ]
     },
     "execution_count": 59,
     "metadata": {},
     "output_type": "execute_result"
    }
   ],
   "source": [
    "df[df['Marital_Status']=='Married']['Product_Category'].value_counts().head()"
   ]
  },
  {
   "cell_type": "code",
   "execution_count": 60,
   "id": "6da2c02b",
   "metadata": {},
   "outputs": [
    {
     "data": {
      "text/plain": [
       "5     89656\n",
       "1     84375\n",
       "8     65411\n",
       "11    14668\n",
       "2     14138\n",
       "Name: Product_Category, dtype: int64"
      ]
     },
     "execution_count": 60,
     "metadata": {},
     "output_type": "execute_result"
    }
   ],
   "source": [
    "df[df['Marital_Status']=='Unmarried']['Product_Category'].value_counts().head()"
   ]
  },
  {
   "cell_type": "code",
   "execution_count": 61,
   "id": "dfbae287",
   "metadata": {},
   "outputs": [
    {
     "data": {
      "image/png": "[encoded data removed]",
      "text/plain": [
       "<Figure size 432x288 with 1 Axes>"
      ]
     },
     "metadata": {
      "needs_background": "light"
     },
     "output_type": "display_data"
    }
   ],
   "source": [
    "sns.countplot(data=df, x='Product_Category', hue='Marital_Status')\n",
    "plt.show()"
   ]
  },
  {
   "cell_type": "markdown",
   "id": "57df8f05",
   "metadata": {},
   "source": [
    "## **Observations and Insights made on the basis of above plots and tables**\n",
    "\n",
    "1. Median number of items purchased by a customer is 48<br><br>\n",
    "2. Median purchase count for a female customer is 41 and that of a male customer is 51, 25% higher.<br><br>\n",
    "3. No significant difference is observed between the purchase count and marital status<br><br>\n",
    "4. Customers in age-group 26-35 tend to purchase more items 55+ customers purchase least number of items<br><br>\n",
    "5. Prdouct categories with most number of sales are 1, 5 & 8<br><br>\n",
    "6. Male customers purchase most of their products from category 1 whereas female customers prefer from category 5 the most<br><br>\n",
    "8. No significant difference in purchase category is found with customer's marital status"
   ]
  },
  {
   "cell_type": "markdown",
   "id": "ceee790d",
   "metadata": {},
   "source": [
    "# **Statistical Analysis**"
   ]
  },
  {
   "cell_type": "markdown",
   "id": "ba33ad8c",
   "metadata": {},
   "source": [
    "## **CLT for C.I on mean Purchase**"
   ]
  },
  {
   "cell_type": "code",
   "execution_count": 62,
   "id": "808985f1",
   "metadata": {},
   "outputs": [],
   "source": [
    "# creating r=10000 bootstrap samples and each bootstrap sample be of size=size\n",
    "# bs_means is a list of 'r' bootstrap sample means\n",
    "\n",
    "'''\n",
    "input\n",
    "1. col_head: Gender/Marital_Status/Age\n",
    "2. col_name: values eg: Male\n",
    "3. data: list of purchase amount\n",
    "4. size: sample size\n",
    "@return: dictionary with summary of estimated mean and CIs\n",
    "'''\n",
    "def conf_interval(col_head, col_name, data, size):\n",
    "    r = 10000\n",
    "    bs_means = np.empty(r)\n",
    "\n",
    "    for i in range(r):\n",
    "        bs_sample = np.random.choice(data, size=size)\n",
    "        bs_means[i] = np.mean(bs_sample)\n",
    "        \n",
    "    # plot sample distribution\n",
    "    plt.figure(figsize=(12,4))\n",
    "    plt.subplot(121)\n",
    "    plt.title('Sample Distribution')\n",
    "    plt.hist(data, bins=100)\n",
    "    \n",
    "    # plot sampling distribution\n",
    "    plt.subplot(122)\n",
    "    plt.hist(bs_means, bins=100, color='green')\n",
    "    plt.grid()\n",
    "    plt.title('Sampling Distribution')\n",
    "    plt.show()\n",
    "    \n",
    "    #sample mean\n",
    "    print('Sample mean -', np.mean(data), '\\n')\n",
    "    \n",
    "    #dictionary\n",
    "    dic = {}\n",
    "    \n",
    "    #compute C.I on the mean given that bs_means follows Gaussian distribution: CLT\n",
    "    mean = np.mean(bs_means).astype('int')\n",
    "    se = np.std(bs_means).astype('int')\n",
    "    print('Estimated average purchase of population -', mean)\n",
    "    dic[col_head] = col_name\n",
    "    dic['Mean'] = mean\n",
    "    print('Standard error -', se, '\\n')\n",
    "    \n",
    "    cl = ['90%_CI', '95%_CI', '99%_CI']\n",
    "    zs = [1.645, 1.96, 2.576]\n",
    "    #compute 90%, 95% & 99% CI\n",
    "    for i in range(3):\n",
    "        ci = f'{(mean-zs[i]*se).astype(\"int\")} - {(mean+zs[i]*se).astype(\"int\")}'\n",
    "        dic[cl[i]] = ci\n",
    "        \n",
    "    return dic"
   ]
  },
  {
   "cell_type": "code",
   "execution_count": 63,
   "id": "c05ab3a7",
   "metadata": {},
   "outputs": [
    {
     "data": {
      "image/png": "[encoded data removed]",
      "text/plain": [
       "<Figure size 864x288 with 2 Axes>"
      ]
     },
     "metadata": {
      "needs_background": "light"
     },
     "output_type": "display_data"
    },
    {
     "name": "stdout",
     "output_type": "stream",
     "text": [
      "Sample mean - 865016.5917501273 \n",
      "\n",
      "Estimated average purchase of population - 864992\n",
      "Standard error - 13436 \n",
      "\n"
     ]
    },
    {
     "data": {
      "text/plain": [
       "{'Customer': 'All',\n",
       " 'Mean': 864992,\n",
       " '90%_CI': '842889 - 887094',\n",
       " '95%_CI': '838657 - 891326',\n",
       " '99%_CI': '830380 - 899603'}"
      ]
     },
     "execution_count": 63,
     "metadata": {},
     "output_type": "execute_result"
    }
   ],
   "source": [
    "conf_interval('Customer', 'All', df_customer['Purchase'], 5000)"
   ]
  },
  {
   "cell_type": "markdown",
   "id": "cb134699",
   "metadata": {},
   "source": [
    "### **1. Gender**"
   ]
  },
  {
   "cell_type": "code",
   "execution_count": 64,
   "id": "9c10f8d2",
   "metadata": {},
   "outputs": [],
   "source": [
    "df_gender = pd.DataFrame(columns=['Gender', 'Mean', '90%_CI', '95%_CI', '99%_CI'])"
   ]
  },
  {
   "cell_type": "markdown",
   "id": "d1464121",
   "metadata": {},
   "source": [
    "**a. Male**"
   ]
  },
  {
   "cell_type": "code",
   "execution_count": 65,
   "id": "fdfae6df",
   "metadata": {},
   "outputs": [
    {
     "data": {
      "text/html": [
       "<div>\n",
       "<style scoped>\n",
       "    .dataframe tbody tr th:only-of-type {\n",
       "        vertical-align: middle;\n",
       "    }\n",
       "\n",
       "    .dataframe tbody tr th {\n",
       "        vertical-align: top;\n",
       "    }\n",
       "\n",
       "    .dataframe thead th {\n",
       "        text-align: right;\n",
       "    }\n",
       "</style>\n",
       "<table border=\"1\" class=\"dataframe\">\n",
       "  <thead>\n",
       "    <tr style=\"text-align: right;\">\n",
       "      <th></th>\n",
       "      <th>User_ID</th>\n",
       "      <th>Gender</th>\n",
       "      <th>Purchase</th>\n",
       "    </tr>\n",
       "  </thead>\n",
       "  <tbody>\n",
       "    <tr>\n",
       "      <th>1</th>\n",
       "      <td>1000002</td>\n",
       "      <td>M</td>\n",
       "      <td>810472</td>\n",
       "    </tr>\n",
       "    <tr>\n",
       "      <th>2</th>\n",
       "      <td>1000003</td>\n",
       "      <td>M</td>\n",
       "      <td>341635</td>\n",
       "    </tr>\n",
       "    <tr>\n",
       "      <th>3</th>\n",
       "      <td>1000004</td>\n",
       "      <td>M</td>\n",
       "      <td>206468</td>\n",
       "    </tr>\n",
       "    <tr>\n",
       "      <th>4</th>\n",
       "      <td>1000005</td>\n",
       "      <td>M</td>\n",
       "      <td>821001</td>\n",
       "    </tr>\n",
       "    <tr>\n",
       "      <th>6</th>\n",
       "      <td>1000007</td>\n",
       "      <td>M</td>\n",
       "      <td>234668</td>\n",
       "    </tr>\n",
       "    <tr>\n",
       "      <th>...</th>\n",
       "      <td>...</td>\n",
       "      <td>...</td>\n",
       "      <td>...</td>\n",
       "    </tr>\n",
       "    <tr>\n",
       "      <th>5884</th>\n",
       "      <td>1001674</td>\n",
       "      <td>M</td>\n",
       "      <td>94838</td>\n",
       "    </tr>\n",
       "    <tr>\n",
       "      <th>5887</th>\n",
       "      <td>1004871</td>\n",
       "      <td>M</td>\n",
       "      <td>108545</td>\n",
       "    </tr>\n",
       "    <tr>\n",
       "      <th>5888</th>\n",
       "      <td>1004113</td>\n",
       "      <td>M</td>\n",
       "      <td>213550</td>\n",
       "    </tr>\n",
       "    <tr>\n",
       "      <th>5889</th>\n",
       "      <td>1005391</td>\n",
       "      <td>M</td>\n",
       "      <td>60182</td>\n",
       "    </tr>\n",
       "    <tr>\n",
       "      <th>5890</th>\n",
       "      <td>1001529</td>\n",
       "      <td>M</td>\n",
       "      <td>152942</td>\n",
       "    </tr>\n",
       "  </tbody>\n",
       "</table>\n",
       "<p>4225 rows × 3 columns</p>\n",
       "</div>"
      ],
      "text/plain": [
       "      User_ID Gender  Purchase\n",
       "1     1000002      M    810472\n",
       "2     1000003      M    341635\n",
       "3     1000004      M    206468\n",
       "4     1000005      M    821001\n",
       "6     1000007      M    234668\n",
       "...       ...    ...       ...\n",
       "5884  1001674      M     94838\n",
       "5887  1004871      M    108545\n",
       "5888  1004113      M    213550\n",
       "5889  1005391      M     60182\n",
       "5890  1001529      M    152942\n",
       "\n",
       "[4225 rows x 3 columns]"
      ]
     },
     "execution_count": 65,
     "metadata": {},
     "output_type": "execute_result"
    }
   ],
   "source": [
    "df_purchase_male = df_customer[df_customer['Gender']=='M'][['User_ID', 'Gender', 'Purchase']]\n",
    "df_purchase_male"
   ]
  },
  {
   "cell_type": "code",
   "execution_count": 66,
   "id": "b39b556c",
   "metadata": {},
   "outputs": [
    {
     "data": {
      "image/png": "[encoded data removed]",
      "text/plain": [
       "<Figure size 864x288 with 2 Axes>"
      ]
     },
     "metadata": {
      "needs_background": "light"
     },
     "output_type": "display_data"
    },
    {
     "name": "stdout",
     "output_type": "stream",
     "text": [
      "Sample mean - 925344.4023668639 \n",
      "\n",
      "Estimated average purchase of population - 925097\n",
      "Standard error - 15432 \n",
      "\n"
     ]
    }
   ],
   "source": [
    "dic = conf_interval('Gender', 'Male', df_purchase_male['Purchase'], 4000)\n",
    "df_gender = pd.concat([df_gender, pd.DataFrame([dic])], ignore_index=True)"
   ]
  },
  {
   "cell_type": "markdown",
   "id": "b75d2318",
   "metadata": {},
   "source": [
    "**b. Female**"
   ]
  },
  {
   "cell_type": "code",
   "execution_count": 67,
   "id": "416cc2ad",
   "metadata": {},
   "outputs": [
    {
     "data": {
      "text/html": [
       "<div>\n",
       "<style scoped>\n",
       "    .dataframe tbody tr th:only-of-type {\n",
       "        vertical-align: middle;\n",
       "    }\n",
       "\n",
       "    .dataframe tbody tr th {\n",
       "        vertical-align: top;\n",
       "    }\n",
       "\n",
       "    .dataframe thead th {\n",
       "        text-align: right;\n",
       "    }\n",
       "</style>\n",
       "<table border=\"1\" class=\"dataframe\">\n",
       "  <thead>\n",
       "    <tr style=\"text-align: right;\">\n",
       "      <th></th>\n",
       "      <th>User_ID</th>\n",
       "      <th>Gender</th>\n",
       "      <th>Purchase</th>\n",
       "    </tr>\n",
       "  </thead>\n",
       "  <tbody>\n",
       "    <tr>\n",
       "      <th>0</th>\n",
       "      <td>1000001</td>\n",
       "      <td>F</td>\n",
       "      <td>334093</td>\n",
       "    </tr>\n",
       "    <tr>\n",
       "      <th>5</th>\n",
       "      <td>1000006</td>\n",
       "      <td>F</td>\n",
       "      <td>379930</td>\n",
       "    </tr>\n",
       "    <tr>\n",
       "      <th>9</th>\n",
       "      <td>1000010</td>\n",
       "      <td>F</td>\n",
       "      <td>2169510</td>\n",
       "    </tr>\n",
       "    <tr>\n",
       "      <th>10</th>\n",
       "      <td>1000011</td>\n",
       "      <td>F</td>\n",
       "      <td>557023</td>\n",
       "    </tr>\n",
       "    <tr>\n",
       "      <th>15</th>\n",
       "      <td>1000016</td>\n",
       "      <td>F</td>\n",
       "      <td>150490</td>\n",
       "    </tr>\n",
       "    <tr>\n",
       "      <th>...</th>\n",
       "      <td>...</td>\n",
       "      <td>...</td>\n",
       "      <td>...</td>\n",
       "    </tr>\n",
       "    <tr>\n",
       "      <th>5879</th>\n",
       "      <td>1000455</td>\n",
       "      <td>F</td>\n",
       "      <td>139887</td>\n",
       "    </tr>\n",
       "    <tr>\n",
       "      <th>5880</th>\n",
       "      <td>1000527</td>\n",
       "      <td>F</td>\n",
       "      <td>86847</td>\n",
       "    </tr>\n",
       "    <tr>\n",
       "      <th>5882</th>\n",
       "      <td>1000703</td>\n",
       "      <td>F</td>\n",
       "      <td>102328</td>\n",
       "    </tr>\n",
       "    <tr>\n",
       "      <th>5885</th>\n",
       "      <td>1004293</td>\n",
       "      <td>F</td>\n",
       "      <td>276411</td>\n",
       "    </tr>\n",
       "    <tr>\n",
       "      <th>5886</th>\n",
       "      <td>1004588</td>\n",
       "      <td>F</td>\n",
       "      <td>140990</td>\n",
       "    </tr>\n",
       "  </tbody>\n",
       "</table>\n",
       "<p>1666 rows × 3 columns</p>\n",
       "</div>"
      ],
      "text/plain": [
       "      User_ID Gender  Purchase\n",
       "0     1000001      F    334093\n",
       "5     1000006      F    379930\n",
       "9     1000010      F   2169510\n",
       "10    1000011      F    557023\n",
       "15    1000016      F    150490\n",
       "...       ...    ...       ...\n",
       "5879  1000455      F    139887\n",
       "5880  1000527      F     86847\n",
       "5882  1000703      F    102328\n",
       "5885  1004293      F    276411\n",
       "5886  1004588      F    140990\n",
       "\n",
       "[1666 rows x 3 columns]"
      ]
     },
     "execution_count": 67,
     "metadata": {},
     "output_type": "execute_result"
    }
   ],
   "source": [
    "df_purchase_female = df_customer[df_customer['Gender']=='F'][['User_ID', 'Gender', 'Purchase']]\n",
    "df_purchase_female"
   ]
  },
  {
   "cell_type": "code",
   "execution_count": 68,
   "id": "034d8536",
   "metadata": {},
   "outputs": [
    {
     "data": {
      "image/png": "[encoded data removed]",
      "text/plain": [
       "<Figure size 864x288 with 2 Axes>"
      ]
     },
     "metadata": {
      "needs_background": "light"
     },
     "output_type": "display_data"
    },
    {
     "name": "stdout",
     "output_type": "stream",
     "text": [
      "Sample mean - 712024.3949579832 \n",
      "\n",
      "Estimated average purchase of population - 711620\n",
      "Standard error - 20565 \n",
      "\n"
     ]
    }
   ],
   "source": [
    "dic = conf_interval('Gender', 'Female', df_purchase_female['Purchase'], 1500)\n",
    "df_gender = pd.concat([df_gender, pd.DataFrame([dic])], ignore_index=True)"
   ]
  },
  {
   "cell_type": "code",
   "execution_count": 69,
   "id": "3d02e238",
   "metadata": {},
   "outputs": [
    {
     "data": {
      "text/html": [
       "<div>\n",
       "<style scoped>\n",
       "    .dataframe tbody tr th:only-of-type {\n",
       "        vertical-align: middle;\n",
       "    }\n",
       "\n",
       "    .dataframe tbody tr th {\n",
       "        vertical-align: top;\n",
       "    }\n",
       "\n",
       "    .dataframe thead th {\n",
       "        text-align: right;\n",
       "    }\n",
       "</style>\n",
       "<table border=\"1\" class=\"dataframe\">\n",
       "  <thead>\n",
       "    <tr style=\"text-align: right;\">\n",
       "      <th></th>\n",
       "      <th>Gender</th>\n",
       "      <th>Mean</th>\n",
       "      <th>90%_CI</th>\n",
       "      <th>95%_CI</th>\n",
       "      <th>99%_CI</th>\n",
       "    </tr>\n",
       "  </thead>\n",
       "  <tbody>\n",
       "    <tr>\n",
       "      <th>0</th>\n",
       "      <td>Male</td>\n",
       "      <td>925097</td>\n",
       "      <td>899711 - 950482</td>\n",
       "      <td>894850 - 955343</td>\n",
       "      <td>885344 - 964849</td>\n",
       "    </tr>\n",
       "    <tr>\n",
       "      <th>1</th>\n",
       "      <td>Female</td>\n",
       "      <td>711620</td>\n",
       "      <td>677790 - 745449</td>\n",
       "      <td>671312 - 751927</td>\n",
       "      <td>658644 - 764595</td>\n",
       "    </tr>\n",
       "  </tbody>\n",
       "</table>\n",
       "</div>"
      ],
      "text/plain": [
       "   Gender    Mean           90%_CI           95%_CI           99%_CI\n",
       "0    Male  925097  899711 - 950482  894850 - 955343  885344 - 964849\n",
       "1  Female  711620  677790 - 745449  671312 - 751927  658644 - 764595"
      ]
     },
     "execution_count": 69,
     "metadata": {},
     "output_type": "execute_result"
    }
   ],
   "source": [
    "df_gender"
   ]
  },
  {
   "cell_type": "markdown",
   "id": "e6d6ad76",
   "metadata": {},
   "source": [
    "### **2. Marital Status**"
   ]
  },
  {
   "cell_type": "code",
   "execution_count": 70,
   "id": "c7b9905f",
   "metadata": {},
   "outputs": [],
   "source": [
    "df_marital_st = pd.DataFrame(columns=['Marital_Status', 'Mean', '90%_CI', '95%_CI', '99%_CI'])"
   ]
  },
  {
   "cell_type": "markdown",
   "id": "36e55428",
   "metadata": {},
   "source": [
    "**a. Married**"
   ]
  },
  {
   "cell_type": "code",
   "execution_count": 71,
   "id": "6b68ca8e",
   "metadata": {},
   "outputs": [
    {
     "data": {
      "text/html": [
       "<div>\n",
       "<style scoped>\n",
       "    .dataframe tbody tr th:only-of-type {\n",
       "        vertical-align: middle;\n",
       "    }\n",
       "\n",
       "    .dataframe tbody tr th {\n",
       "        vertical-align: top;\n",
       "    }\n",
       "\n",
       "    .dataframe thead th {\n",
       "        text-align: right;\n",
       "    }\n",
       "</style>\n",
       "<table border=\"1\" class=\"dataframe\">\n",
       "  <thead>\n",
       "    <tr style=\"text-align: right;\">\n",
       "      <th></th>\n",
       "      <th>User_ID</th>\n",
       "      <th>Marital_Status</th>\n",
       "      <th>Purchase</th>\n",
       "    </tr>\n",
       "  </thead>\n",
       "  <tbody>\n",
       "    <tr>\n",
       "      <th>3</th>\n",
       "      <td>1000004</td>\n",
       "      <td>Married</td>\n",
       "      <td>206468</td>\n",
       "    </tr>\n",
       "    <tr>\n",
       "      <th>4</th>\n",
       "      <td>1000005</td>\n",
       "      <td>Married</td>\n",
       "      <td>821001</td>\n",
       "    </tr>\n",
       "    <tr>\n",
       "      <th>6</th>\n",
       "      <td>1000007</td>\n",
       "      <td>Married</td>\n",
       "      <td>234668</td>\n",
       "    </tr>\n",
       "    <tr>\n",
       "      <th>7</th>\n",
       "      <td>1000008</td>\n",
       "      <td>Married</td>\n",
       "      <td>796593</td>\n",
       "    </tr>\n",
       "    <tr>\n",
       "      <th>9</th>\n",
       "      <td>1000010</td>\n",
       "      <td>Married</td>\n",
       "      <td>2169510</td>\n",
       "    </tr>\n",
       "    <tr>\n",
       "      <th>...</th>\n",
       "      <td>...</td>\n",
       "      <td>...</td>\n",
       "      <td>...</td>\n",
       "    </tr>\n",
       "    <tr>\n",
       "      <th>5881</th>\n",
       "      <td>1000640</td>\n",
       "      <td>Married</td>\n",
       "      <td>131545</td>\n",
       "    </tr>\n",
       "    <tr>\n",
       "      <th>5882</th>\n",
       "      <td>1000703</td>\n",
       "      <td>Married</td>\n",
       "      <td>102328</td>\n",
       "    </tr>\n",
       "    <tr>\n",
       "      <th>5883</th>\n",
       "      <td>1001282</td>\n",
       "      <td>Married</td>\n",
       "      <td>93851</td>\n",
       "    </tr>\n",
       "    <tr>\n",
       "      <th>5885</th>\n",
       "      <td>1004293</td>\n",
       "      <td>Married</td>\n",
       "      <td>276411</td>\n",
       "    </tr>\n",
       "    <tr>\n",
       "      <th>5890</th>\n",
       "      <td>1001529</td>\n",
       "      <td>Married</td>\n",
       "      <td>152942</td>\n",
       "    </tr>\n",
       "  </tbody>\n",
       "</table>\n",
       "<p>2474 rows × 3 columns</p>\n",
       "</div>"
      ],
      "text/plain": [
       "      User_ID Marital_Status  Purchase\n",
       "3     1000004        Married    206468\n",
       "4     1000005        Married    821001\n",
       "6     1000007        Married    234668\n",
       "7     1000008        Married    796593\n",
       "9     1000010        Married   2169510\n",
       "...       ...            ...       ...\n",
       "5881  1000640        Married    131545\n",
       "5882  1000703        Married    102328\n",
       "5883  1001282        Married     93851\n",
       "5885  1004293        Married    276411\n",
       "5890  1001529        Married    152942\n",
       "\n",
       "[2474 rows x 3 columns]"
      ]
     },
     "execution_count": 71,
     "metadata": {},
     "output_type": "execute_result"
    }
   ],
   "source": [
    "df_purchase_mar = df_customer[df_customer['Marital_Status']=='Married'][['User_ID', 'Marital_Status', 'Purchase']]\n",
    "df_purchase_mar"
   ]
  },
  {
   "cell_type": "code",
   "execution_count": 72,
   "id": "12abdac9",
   "metadata": {},
   "outputs": [
    {
     "data": {
      "image/png": "[encoded data removed]",
      "text/plain": [
       "<Figure size 864x288 with 2 Axes>"
      ]
     },
     "metadata": {
      "needs_background": "light"
     },
     "output_type": "display_data"
    },
    {
     "name": "stdout",
     "output_type": "stream",
     "text": [
      "Sample mean - 843526.7966855295 \n",
      "\n",
      "Estimated average purchase of population - 843440\n",
      "Standard error - 20874 \n",
      "\n"
     ]
    }
   ],
   "source": [
    "dic = conf_interval('Marital_Status', 'Married', df_purchase_mar['Purchase'], 2000)\n",
    "df_marital_st = pd.concat([df_marital_st, pd.DataFrame([dic])], ignore_index=True)"
   ]
  },
  {
   "cell_type": "markdown",
   "id": "6a564ea5",
   "metadata": {},
   "source": [
    "**b. Unmarried**"
   ]
  },
  {
   "cell_type": "code",
   "execution_count": 73,
   "id": "5549a8ed",
   "metadata": {},
   "outputs": [
    {
     "data": {
      "text/html": [
       "<div>\n",
       "<style scoped>\n",
       "    .dataframe tbody tr th:only-of-type {\n",
       "        vertical-align: middle;\n",
       "    }\n",
       "\n",
       "    .dataframe tbody tr th {\n",
       "        vertical-align: top;\n",
       "    }\n",
       "\n",
       "    .dataframe thead th {\n",
       "        text-align: right;\n",
       "    }\n",
       "</style>\n",
       "<table border=\"1\" class=\"dataframe\">\n",
       "  <thead>\n",
       "    <tr style=\"text-align: right;\">\n",
       "      <th></th>\n",
       "      <th>User_ID</th>\n",
       "      <th>Marital_Status</th>\n",
       "      <th>Purchase</th>\n",
       "    </tr>\n",
       "  </thead>\n",
       "  <tbody>\n",
       "    <tr>\n",
       "      <th>0</th>\n",
       "      <td>1000001</td>\n",
       "      <td>Unmarried</td>\n",
       "      <td>334093</td>\n",
       "    </tr>\n",
       "    <tr>\n",
       "      <th>1</th>\n",
       "      <td>1000002</td>\n",
       "      <td>Unmarried</td>\n",
       "      <td>810472</td>\n",
       "    </tr>\n",
       "    <tr>\n",
       "      <th>2</th>\n",
       "      <td>1000003</td>\n",
       "      <td>Unmarried</td>\n",
       "      <td>341635</td>\n",
       "    </tr>\n",
       "    <tr>\n",
       "      <th>5</th>\n",
       "      <td>1000006</td>\n",
       "      <td>Unmarried</td>\n",
       "      <td>379930</td>\n",
       "    </tr>\n",
       "    <tr>\n",
       "      <th>8</th>\n",
       "      <td>1000009</td>\n",
       "      <td>Unmarried</td>\n",
       "      <td>594099</td>\n",
       "    </tr>\n",
       "    <tr>\n",
       "      <th>...</th>\n",
       "      <td>...</td>\n",
       "      <td>...</td>\n",
       "      <td>...</td>\n",
       "    </tr>\n",
       "    <tr>\n",
       "      <th>5884</th>\n",
       "      <td>1001674</td>\n",
       "      <td>Unmarried</td>\n",
       "      <td>94838</td>\n",
       "    </tr>\n",
       "    <tr>\n",
       "      <th>5886</th>\n",
       "      <td>1004588</td>\n",
       "      <td>Unmarried</td>\n",
       "      <td>140990</td>\n",
       "    </tr>\n",
       "    <tr>\n",
       "      <th>5887</th>\n",
       "      <td>1004871</td>\n",
       "      <td>Unmarried</td>\n",
       "      <td>108545</td>\n",
       "    </tr>\n",
       "    <tr>\n",
       "      <th>5888</th>\n",
       "      <td>1004113</td>\n",
       "      <td>Unmarried</td>\n",
       "      <td>213550</td>\n",
       "    </tr>\n",
       "    <tr>\n",
       "      <th>5889</th>\n",
       "      <td>1005391</td>\n",
       "      <td>Unmarried</td>\n",
       "      <td>60182</td>\n",
       "    </tr>\n",
       "  </tbody>\n",
       "</table>\n",
       "<p>3417 rows × 3 columns</p>\n",
       "</div>"
      ],
      "text/plain": [
       "      User_ID Marital_Status  Purchase\n",
       "0     1000001      Unmarried    334093\n",
       "1     1000002      Unmarried    810472\n",
       "2     1000003      Unmarried    341635\n",
       "5     1000006      Unmarried    379930\n",
       "8     1000009      Unmarried    594099\n",
       "...       ...            ...       ...\n",
       "5884  1001674      Unmarried     94838\n",
       "5886  1004588      Unmarried    140990\n",
       "5887  1004871      Unmarried    108545\n",
       "5888  1004113      Unmarried    213550\n",
       "5889  1005391      Unmarried     60182\n",
       "\n",
       "[3417 rows x 3 columns]"
      ]
     },
     "execution_count": 73,
     "metadata": {},
     "output_type": "execute_result"
    }
   ],
   "source": [
    "df_purch_unmar = df_customer[df_customer['Marital_Status']=='Unmarried'][['User_ID', 'Marital_Status', 'Purchase']]\n",
    "df_purch_unmar"
   ]
  },
  {
   "cell_type": "code",
   "execution_count": 74,
   "id": "1a98d2a2",
   "metadata": {},
   "outputs": [
    {
     "data": {
      "image/png": "[encoded data removed]",
      "text/plain": [
       "<Figure size 864x288 with 2 Axes>"
      ]
     },
     "metadata": {
      "needs_background": "light"
     },
     "output_type": "display_data"
    },
    {
     "name": "stdout",
     "output_type": "stream",
     "text": [
      "Sample mean - 880575.7819724905 \n",
      "\n",
      "Estimated average purchase of population - 880532\n",
      "Standard error - 17242 \n",
      "\n"
     ]
    }
   ],
   "source": [
    "dic = conf_interval('Marital_Status', 'Unmarried', df_purch_unmar['Purchase'], 3000)\n",
    "df_marital_st = pd.concat([df_marital_st, pd.DataFrame([dic])], ignore_index=True)"
   ]
  },
  {
   "cell_type": "code",
   "execution_count": 75,
   "id": "c45fed45",
   "metadata": {},
   "outputs": [
    {
     "data": {
      "text/html": [
       "<div>\n",
       "<style scoped>\n",
       "    .dataframe tbody tr th:only-of-type {\n",
       "        vertical-align: middle;\n",
       "    }\n",
       "\n",
       "    .dataframe tbody tr th {\n",
       "        vertical-align: top;\n",
       "    }\n",
       "\n",
       "    .dataframe thead th {\n",
       "        text-align: right;\n",
       "    }\n",
       "</style>\n",
       "<table border=\"1\" class=\"dataframe\">\n",
       "  <thead>\n",
       "    <tr style=\"text-align: right;\">\n",
       "      <th></th>\n",
       "      <th>Marital_Status</th>\n",
       "      <th>Mean</th>\n",
       "      <th>90%_CI</th>\n",
       "      <th>95%_CI</th>\n",
       "      <th>99%_CI</th>\n",
       "    </tr>\n",
       "  </thead>\n",
       "  <tbody>\n",
       "    <tr>\n",
       "      <th>0</th>\n",
       "      <td>Married</td>\n",
       "      <td>843440</td>\n",
       "      <td>809102 - 877777</td>\n",
       "      <td>802526 - 884353</td>\n",
       "      <td>789668 - 897211</td>\n",
       "    </tr>\n",
       "    <tr>\n",
       "      <th>1</th>\n",
       "      <td>Unmarried</td>\n",
       "      <td>880532</td>\n",
       "      <td>852168 - 908895</td>\n",
       "      <td>846737 - 914326</td>\n",
       "      <td>836116 - 924947</td>\n",
       "    </tr>\n",
       "  </tbody>\n",
       "</table>\n",
       "</div>"
      ],
      "text/plain": [
       "  Marital_Status    Mean           90%_CI           95%_CI           99%_CI\n",
       "0        Married  843440  809102 - 877777  802526 - 884353  789668 - 897211\n",
       "1      Unmarried  880532  852168 - 908895  846737 - 914326  836116 - 924947"
      ]
     },
     "execution_count": 75,
     "metadata": {},
     "output_type": "execute_result"
    }
   ],
   "source": [
    "df_marital_st"
   ]
  },
  {
   "cell_type": "markdown",
   "id": "47e291bc",
   "metadata": {},
   "source": [
    "### **3. Age**"
   ]
  },
  {
   "cell_type": "code",
   "execution_count": 76,
   "id": "7e67c979",
   "metadata": {},
   "outputs": [],
   "source": [
    "df_age = pd.DataFrame(columns=['Age', 'Mean', '90%_CI', '95%_CI', '99%_CI'])\n",
    "age = df_customer['Age'].value_counts().sort_index().index\n",
    "count = df_customer['Age'].value_counts().to_frame().sort_index()['Age'].to_list()"
   ]
  },
  {
   "cell_type": "code",
   "execution_count": 77,
   "id": "02aeec2c",
   "metadata": {},
   "outputs": [
    {
     "name": "stdout",
     "output_type": "stream",
     "text": [
      "0-17\n"
     ]
    },
    {
     "data": {
      "image/png": "[encoded data removed]",
      "text/plain": [
       "<Figure size 864x288 with 2 Axes>"
      ]
     },
     "metadata": {
      "needs_background": "light"
     },
     "output_type": "display_data"
    },
    {
     "name": "stdout",
     "output_type": "stream",
     "text": [
      "Sample mean - 618867.8119266055 \n",
      "\n",
      "Estimated average purchase of population - 618638\n",
      "Standard error - 46497 \n",
      "\n",
      "18-25\n"
     ]
    },
    {
     "data": {
      "image/png": "[encoded data removed]",
      "text/plain": [
       "<Figure size 864x288 with 2 Axes>"
      ]
     },
     "metadata": {
      "needs_background": "light"
     },
     "output_type": "display_data"
    },
    {
     "name": "stdout",
     "output_type": "stream",
     "text": [
      "Sample mean - 854863.119738073 \n",
      "\n",
      "Estimated average purchase of population - 854716\n",
      "Standard error - 27247 \n",
      "\n",
      "26-35\n"
     ]
    },
    {
     "data": {
      "image/png": "[encoded data removed]",
      "text/plain": [
       "<Figure size 864x288 with 2 Axes>"
      ]
     },
     "metadata": {
      "needs_background": "light"
     },
     "output_type": "display_data"
    },
    {
     "name": "stdout",
     "output_type": "stream",
     "text": [
      "Sample mean - 989659.3170969313 \n",
      "\n",
      "Estimated average purchase of population - 989642\n",
      "Standard error - 22755 \n",
      "\n",
      "36-45\n"
     ]
    },
    {
     "data": {
      "image/png": "[encoded data removed]",
      "text/plain": [
       "<Figure size 864x288 with 2 Axes>"
      ]
     },
     "metadata": {
      "needs_background": "light"
     },
     "output_type": "display_data"
    },
    {
     "name": "stdout",
     "output_type": "stream",
     "text": [
      "Sample mean - 879665.7103684661 \n",
      "\n",
      "Estimated average purchase of population - 879309\n",
      "Standard error - 28751 \n",
      "\n",
      "46-50\n"
     ]
    },
    {
     "data": {
      "image/png": "[encoded data removed]",
      "text/plain": [
       "<Figure size 864x288 with 2 Axes>"
      ]
     },
     "metadata": {
      "needs_background": "light"
     },
     "output_type": "display_data"
    },
    {
     "name": "stdout",
     "output_type": "stream",
     "text": [
      "Sample mean - 792548.7815442561 \n",
      "\n",
      "Estimated average purchase of population - 793046\n",
      "Standard error - 40399 \n",
      "\n",
      "51-55\n"
     ]
    },
    {
     "data": {
      "image/png": "[encoded data removed]",
      "text/plain": [
       "<Figure size 864x288 with 2 Axes>"
      ]
     },
     "metadata": {
      "needs_background": "light"
     },
     "output_type": "display_data"
    },
    {
     "name": "stdout",
     "output_type": "stream",
     "text": [
      "Sample mean - 763200.9230769231 \n",
      "\n",
      "Estimated average purchase of population - 763071\n",
      "Standard error - 36188 \n",
      "\n",
      "55+\n"
     ]
    },
    {
     "data": {
      "image/png": "[encoded data removed]",
      "text/plain": [
       "<Figure size 864x288 with 2 Axes>"
      ]
     },
     "metadata": {
      "needs_background": "light"
     },
     "output_type": "display_data"
    },
    {
     "name": "stdout",
     "output_type": "stream",
     "text": [
      "Sample mean - 539697.2446236559 \n",
      "\n",
      "Estimated average purchase of population - 539627\n",
      "Standard error - 31945 \n",
      "\n"
     ]
    }
   ],
   "source": [
    "for i in range(len(age)):\n",
    "    print(age[i])\n",
    "    dic = conf_interval('Age', age[i], df_customer[df_customer['Age']==age[i]]['Purchase'], count[i])\n",
    "    df_age = pd.concat([df_age, pd.DataFrame([dic])], ignore_index=True)"
   ]
  },
  {
   "cell_type": "code",
   "execution_count": 78,
   "id": "53e3878c",
   "metadata": {},
   "outputs": [
    {
     "data": {
      "text/html": [
       "<div>\n",
       "<style scoped>\n",
       "    .dataframe tbody tr th:only-of-type {\n",
       "        vertical-align: middle;\n",
       "    }\n",
       "\n",
       "    .dataframe tbody tr th {\n",
       "        vertical-align: top;\n",
       "    }\n",
       "\n",
       "    .dataframe thead th {\n",
       "        text-align: right;\n",
       "    }\n",
       "</style>\n",
       "<table border=\"1\" class=\"dataframe\">\n",
       "  <thead>\n",
       "    <tr style=\"text-align: right;\">\n",
       "      <th></th>\n",
       "      <th>Age</th>\n",
       "      <th>Mean</th>\n",
       "      <th>90%_CI</th>\n",
       "      <th>95%_CI</th>\n",
       "      <th>99%_CI</th>\n",
       "    </tr>\n",
       "  </thead>\n",
       "  <tbody>\n",
       "    <tr>\n",
       "      <th>0</th>\n",
       "      <td>0-17</td>\n",
       "      <td>618638</td>\n",
       "      <td>542150 - 695125</td>\n",
       "      <td>527503 - 709772</td>\n",
       "      <td>498861 - 738414</td>\n",
       "    </tr>\n",
       "    <tr>\n",
       "      <th>1</th>\n",
       "      <td>18-25</td>\n",
       "      <td>854716</td>\n",
       "      <td>809894 - 899537</td>\n",
       "      <td>801311 - 908120</td>\n",
       "      <td>784527 - 924904</td>\n",
       "    </tr>\n",
       "    <tr>\n",
       "      <th>2</th>\n",
       "      <td>26-35</td>\n",
       "      <td>989642</td>\n",
       "      <td>952210 - 1027073</td>\n",
       "      <td>945042 - 1034241</td>\n",
       "      <td>931025 - 1048258</td>\n",
       "    </tr>\n",
       "    <tr>\n",
       "      <th>3</th>\n",
       "      <td>36-45</td>\n",
       "      <td>879309</td>\n",
       "      <td>832013 - 926604</td>\n",
       "      <td>822957 - 935660</td>\n",
       "      <td>805246 - 953371</td>\n",
       "    </tr>\n",
       "    <tr>\n",
       "      <th>4</th>\n",
       "      <td>46-50</td>\n",
       "      <td>793046</td>\n",
       "      <td>726589 - 859502</td>\n",
       "      <td>713863 - 872228</td>\n",
       "      <td>688978 - 897113</td>\n",
       "    </tr>\n",
       "    <tr>\n",
       "      <th>5</th>\n",
       "      <td>51-55</td>\n",
       "      <td>763071</td>\n",
       "      <td>703541 - 822600</td>\n",
       "      <td>692142 - 833999</td>\n",
       "      <td>669850 - 856291</td>\n",
       "    </tr>\n",
       "    <tr>\n",
       "      <th>6</th>\n",
       "      <td>55+</td>\n",
       "      <td>539627</td>\n",
       "      <td>487077 - 592176</td>\n",
       "      <td>477014 - 602239</td>\n",
       "      <td>457336 - 621917</td>\n",
       "    </tr>\n",
       "  </tbody>\n",
       "</table>\n",
       "</div>"
      ],
      "text/plain": [
       "     Age    Mean            90%_CI            95%_CI            99%_CI\n",
       "0   0-17  618638   542150 - 695125   527503 - 709772   498861 - 738414\n",
       "1  18-25  854716   809894 - 899537   801311 - 908120   784527 - 924904\n",
       "2  26-35  989642  952210 - 1027073  945042 - 1034241  931025 - 1048258\n",
       "3  36-45  879309   832013 - 926604   822957 - 935660   805246 - 953371\n",
       "4  46-50  793046   726589 - 859502   713863 - 872228   688978 - 897113\n",
       "5  51-55  763071   703541 - 822600   692142 - 833999   669850 - 856291\n",
       "6    55+  539627   487077 - 592176   477014 - 602239   457336 - 621917"
      ]
     },
     "execution_count": 78,
     "metadata": {},
     "output_type": "execute_result"
    }
   ],
   "source": [
    "df_age"
   ]
  },
  {
   "cell_type": "markdown",
   "id": "fb9bf55b",
   "metadata": {},
   "source": [
    "# **Statistical Analysis - C.I Summary**"
   ]
  },
  {
   "cell_type": "code",
   "execution_count": 79,
   "id": "cfca9905",
   "metadata": {},
   "outputs": [
    {
     "data": {
      "text/html": [
       "<div>\n",
       "<style scoped>\n",
       "    .dataframe tbody tr th:only-of-type {\n",
       "        vertical-align: middle;\n",
       "    }\n",
       "\n",
       "    .dataframe tbody tr th {\n",
       "        vertical-align: top;\n",
       "    }\n",
       "\n",
       "    .dataframe thead th {\n",
       "        text-align: right;\n",
       "    }\n",
       "</style>\n",
       "<table border=\"1\" class=\"dataframe\">\n",
       "  <thead>\n",
       "    <tr style=\"text-align: right;\">\n",
       "      <th></th>\n",
       "      <th>Gender</th>\n",
       "      <th>Mean</th>\n",
       "      <th>90%_CI</th>\n",
       "      <th>95%_CI</th>\n",
       "      <th>99%_CI</th>\n",
       "    </tr>\n",
       "  </thead>\n",
       "  <tbody>\n",
       "    <tr>\n",
       "      <th>0</th>\n",
       "      <td>Male</td>\n",
       "      <td>925097</td>\n",
       "      <td>899711 - 950482</td>\n",
       "      <td>894850 - 955343</td>\n",
       "      <td>885344 - 964849</td>\n",
       "    </tr>\n",
       "    <tr>\n",
       "      <th>1</th>\n",
       "      <td>Female</td>\n",
       "      <td>711620</td>\n",
       "      <td>677790 - 745449</td>\n",
       "      <td>671312 - 751927</td>\n",
       "      <td>658644 - 764595</td>\n",
       "    </tr>\n",
       "  </tbody>\n",
       "</table>\n",
       "</div>"
      ],
      "text/plain": [
       "   Gender    Mean           90%_CI           95%_CI           99%_CI\n",
       "0    Male  925097  899711 - 950482  894850 - 955343  885344 - 964849\n",
       "1  Female  711620  677790 - 745449  671312 - 751927  658644 - 764595"
      ]
     },
     "execution_count": 79,
     "metadata": {},
     "output_type": "execute_result"
    }
   ],
   "source": [
    "df_gender"
   ]
  },
  {
   "cell_type": "code",
   "execution_count": 80,
   "id": "be890eac",
   "metadata": {},
   "outputs": [
    {
     "data": {
      "text/html": [
       "<div>\n",
       "<style scoped>\n",
       "    .dataframe tbody tr th:only-of-type {\n",
       "        vertical-align: middle;\n",
       "    }\n",
       "\n",
       "    .dataframe tbody tr th {\n",
       "        vertical-align: top;\n",
       "    }\n",
       "\n",
       "    .dataframe thead th {\n",
       "        text-align: right;\n",
       "    }\n",
       "</style>\n",
       "<table border=\"1\" class=\"dataframe\">\n",
       "  <thead>\n",
       "    <tr style=\"text-align: right;\">\n",
       "      <th></th>\n",
       "      <th>Marital_Status</th>\n",
       "      <th>Mean</th>\n",
       "      <th>90%_CI</th>\n",
       "      <th>95%_CI</th>\n",
       "      <th>99%_CI</th>\n",
       "    </tr>\n",
       "  </thead>\n",
       "  <tbody>\n",
       "    <tr>\n",
       "      <th>0</th>\n",
       "      <td>Married</td>\n",
       "      <td>843440</td>\n",
       "      <td>809102 - 877777</td>\n",
       "      <td>802526 - 884353</td>\n",
       "      <td>789668 - 897211</td>\n",
       "    </tr>\n",
       "    <tr>\n",
       "      <th>1</th>\n",
       "      <td>Unmarried</td>\n",
       "      <td>880532</td>\n",
       "      <td>852168 - 908895</td>\n",
       "      <td>846737 - 914326</td>\n",
       "      <td>836116 - 924947</td>\n",
       "    </tr>\n",
       "  </tbody>\n",
       "</table>\n",
       "</div>"
      ],
      "text/plain": [
       "  Marital_Status    Mean           90%_CI           95%_CI           99%_CI\n",
       "0        Married  843440  809102 - 877777  802526 - 884353  789668 - 897211\n",
       "1      Unmarried  880532  852168 - 908895  846737 - 914326  836116 - 924947"
      ]
     },
     "execution_count": 80,
     "metadata": {},
     "output_type": "execute_result"
    }
   ],
   "source": [
    "df_marital_st"
   ]
  },
  {
   "cell_type": "code",
   "execution_count": 81,
   "id": "b6b2fef3",
   "metadata": {},
   "outputs": [
    {
     "data": {
      "text/html": [
       "<div>\n",
       "<style scoped>\n",
       "    .dataframe tbody tr th:only-of-type {\n",
       "        vertical-align: middle;\n",
       "    }\n",
       "\n",
       "    .dataframe tbody tr th {\n",
       "        vertical-align: top;\n",
       "    }\n",
       "\n",
       "    .dataframe thead th {\n",
       "        text-align: right;\n",
       "    }\n",
       "</style>\n",
       "<table border=\"1\" class=\"dataframe\">\n",
       "  <thead>\n",
       "    <tr style=\"text-align: right;\">\n",
       "      <th></th>\n",
       "      <th>Age</th>\n",
       "      <th>Mean</th>\n",
       "      <th>90%_CI</th>\n",
       "      <th>95%_CI</th>\n",
       "      <th>99%_CI</th>\n",
       "    </tr>\n",
       "  </thead>\n",
       "  <tbody>\n",
       "    <tr>\n",
       "      <th>0</th>\n",
       "      <td>0-17</td>\n",
       "      <td>618638</td>\n",
       "      <td>542150 - 695125</td>\n",
       "      <td>527503 - 709772</td>\n",
       "      <td>498861 - 738414</td>\n",
       "    </tr>\n",
       "    <tr>\n",
       "      <th>1</th>\n",
       "      <td>18-25</td>\n",
       "      <td>854716</td>\n",
       "      <td>809894 - 899537</td>\n",
       "      <td>801311 - 908120</td>\n",
       "      <td>784527 - 924904</td>\n",
       "    </tr>\n",
       "    <tr>\n",
       "      <th>2</th>\n",
       "      <td>26-35</td>\n",
       "      <td>989642</td>\n",
       "      <td>952210 - 1027073</td>\n",
       "      <td>945042 - 1034241</td>\n",
       "      <td>931025 - 1048258</td>\n",
       "    </tr>\n",
       "    <tr>\n",
       "      <th>3</th>\n",
       "      <td>36-45</td>\n",
       "      <td>879309</td>\n",
       "      <td>832013 - 926604</td>\n",
       "      <td>822957 - 935660</td>\n",
       "      <td>805246 - 953371</td>\n",
       "    </tr>\n",
       "    <tr>\n",
       "      <th>4</th>\n",
       "      <td>46-50</td>\n",
       "      <td>793046</td>\n",
       "      <td>726589 - 859502</td>\n",
       "      <td>713863 - 872228</td>\n",
       "      <td>688978 - 897113</td>\n",
       "    </tr>\n",
       "    <tr>\n",
       "      <th>5</th>\n",
       "      <td>51-55</td>\n",
       "      <td>763071</td>\n",
       "      <td>703541 - 822600</td>\n",
       "      <td>692142 - 833999</td>\n",
       "      <td>669850 - 856291</td>\n",
       "    </tr>\n",
       "    <tr>\n",
       "      <th>6</th>\n",
       "      <td>55+</td>\n",
       "      <td>539627</td>\n",
       "      <td>487077 - 592176</td>\n",
       "      <td>477014 - 602239</td>\n",
       "      <td>457336 - 621917</td>\n",
       "    </tr>\n",
       "  </tbody>\n",
       "</table>\n",
       "</div>"
      ],
      "text/plain": [
       "     Age    Mean            90%_CI            95%_CI            99%_CI\n",
       "0   0-17  618638   542150 - 695125   527503 - 709772   498861 - 738414\n",
       "1  18-25  854716   809894 - 899537   801311 - 908120   784527 - 924904\n",
       "2  26-35  989642  952210 - 1027073  945042 - 1034241  931025 - 1048258\n",
       "3  36-45  879309   832013 - 926604   822957 - 935660   805246 - 953371\n",
       "4  46-50  793046   726589 - 859502   713863 - 872228   688978 - 897113\n",
       "5  51-55  763071   703541 - 822600   692142 - 833999   669850 - 856291\n",
       "6    55+  539627   487077 - 592176   477014 - 602239   457336 - 621917"
      ]
     },
     "execution_count": 81,
     "metadata": {},
     "output_type": "execute_result"
    }
   ],
   "source": [
    "df_age"
   ]
  },
  {
   "cell_type": "markdown",
   "id": "dbfb5ad6",
   "metadata": {},
   "source": [
    "## **Observations made from Confidence Intervals**\n",
    "\n",
    "1. Estimated mean purchase amount of all the 100 million customers are 865,167 with a 95% confidence interval [838,899 - 891,434]<br><br>\n",
    "2. Estimated mean purchase amount of 50 million male customers are 925,127 with a 95% confidence interval [894,078 - 956,175] whereas that of female customers are 711,800 with a 95% confidence interval [671,116 - 752,483]<br><br>\n",
    "3. The mean purchase amount estimated for an unmarried customer is 880,465 with a 95% confidence interval [846,907 - 914,022] and that of a married customer is 843,545 with a 95% confidence interval [802,408 - 884,681]<br><br>\n",
    "4. The population mean purchase price is estimated the highest among customers in age-group 26-35 with an average value of 989,360 and a 90% confidence interval [951,951 - 1,026,768] and it is the least among age-group 55+ with a mean of 539,977 and 90% confidence interval [487,091 - 592,862]<br><br>\n",
    "5. For the customers in age-group 18-25, the population mean is estimated to be 854,190 with a 90% confidence interval [809,442 - 898,937] and that among age-group 36-45 is 879,648 with a 90% confidence interval [832,507 - 926,788]<br><br>\n",
    "6. Similarly the mean and 90% confidence intervals are 793,043 [727,601 - 858,484] and 763432 [704,445 - 822,418] respectively for age-groups 46-50 and 51-55"
   ]
  },
  {
   "cell_type": "markdown",
   "id": "30482ec6",
   "metadata": {},
   "source": [
    "## **Some Key Insights from CIs**\n",
    "\n",
    "1. The mean purchase price of male customers are clearly higher, 30% more than that of female customers with no overlap between their confidence intervals at any of the confidence levels 90/95/99%<br><br>\n",
    "2. Average purchase price of unamarried customers are slightly more than that of married customers but there is a significant overlap between their confidence intervals at all 90/95/99% confidence levels<br><br>\n",
    "3. Mean purchase amount of age-group 26-35 is 10% more than that of age-group 36-45(second highest) and there is no overlap between their 90/95% confidence intervals<br><br>\n",
    "4. There is no significant difference between the mean spending of age-group 36-45 and 18-25 as there is a noticeable overlap between their 90% confidence intervals although the average purchase is slightly more for age group 36-45. Similarly between age-group 46-50 and 51-55<br><br>\n",
    "5. Age-group 55+ has the least average purchase which is significantly lesser than the group 0-17 eventhough there is a little overlap between their 90% confidence intervals"
   ]
  },
  {
   "cell_type": "markdown",
   "id": "cfc71510",
   "metadata": {},
   "source": [
    "## **Recommendations**\n",
    "\n",
    "1. Overall male customers can be targeted more as both the average purchase price and average number of items purchased by male customers are significantly higer compared to female customers.<br><br>\n",
    "2. No customer segmentation based on the marital status is needed as the there is no statistically significant difference in the spending behaviours of the two groups.<br><br>\n",
    "3. Customers in the age-group 26-35 can be focused more and 55+ can be the least targeted.<br><br>\n",
    "4. Customers in the age-group 18-45 should be the primary focus as they account for over 70% of the total customers.<br><br>\n",
    "5. Products from category 1,5 & 8 should be stocked more as they account for 74% of the total sales count.<br><br>\n",
    "6. Product category 1 should be targeted more towards men and 5 can be targeted towards women as they are the most purchased category among men and women respectively.<br><br>\n",
    "7. Favourite product with most number of sales is P00265242 which belongs to category 5 so, its stock should be updated regularly<br><br>\n",
    "8. Changes should be made to attract more customers from city category 'B' as they have the highest median purchase price<br><br>"
   ]
  },
  {
   "cell_type": "code",
   "execution_count": null,
   "id": "a9e50300",
   "metadata": {},
   "outputs": [],
   "source": []
  }
 ],
 "metadata": {
  "kernelspec": {
   "display_name": "Python 3 (ipykernel)",
   "language": "python",
   "name": "python3"
  },
  "language_info": {
   "codemirror_mode": {
    "name": "ipython",
    "version": 3
   },
   "file_extension": ".py",
   "mimetype": "text/x-python",
   "name": "python",
   "nbconvert_exporter": "python",
   "pygments_lexer": "ipython3",
   "version": "3.8.10"
  }
 },
 "nbformat": 4,
 "nbformat_minor": 5
}
